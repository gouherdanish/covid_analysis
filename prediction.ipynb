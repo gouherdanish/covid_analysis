{
 "cells": [
  {
   "cell_type": "code",
   "execution_count": 1,
   "metadata": {},
   "outputs": [],
   "source": [
    "import pandas as pd\n",
    "import numpy as np"
   ]
  },
  {
   "cell_type": "code",
   "execution_count": 2,
   "metadata": {},
   "outputs": [],
   "source": [
    "dfc = pd.read_csv(\"https://raw.githubusercontent.com/CSSEGISandData/COVID-19/master/csse_covid_19_data/csse_covid_19_time_series/time_series_covid19_confirmed_global.csv\")\n",
    "dfd = pd.read_csv(\"https://raw.githubusercontent.com/CSSEGISandData/COVID-19/master/csse_covid_19_data/csse_covid_19_time_series/time_series_covid19_deaths_global.csv\")\n",
    "dfr = pd.read_csv(\"https://raw.githubusercontent.com/CSSEGISandData/COVID-19/master/csse_covid_19_data/csse_covid_19_time_series/time_series_covid19_recovered_global.csv\")"
   ]
  },
  {
   "cell_type": "code",
   "execution_count": 13,
   "metadata": {},
   "outputs": [
    {
     "data": {
      "text/plain": [
       "(266, 109)"
      ]
     },
     "execution_count": 13,
     "metadata": {},
     "output_type": "execute_result"
    }
   ],
   "source": [
    "dfc.shape"
   ]
  },
  {
   "cell_type": "code",
   "execution_count": 4,
   "metadata": {},
   "outputs": [],
   "source": [
    "colonial_countries = dfc.loc[dfc['Province/State'].notnull()]['Country/Region'].unique().tolist()"
   ]
  },
  {
   "cell_type": "markdown",
   "metadata": {},
   "source": [
    "# Fixing the Colonial Countries"
   ]
  },
  {
   "cell_type": "code",
   "execution_count": 5,
   "metadata": {},
   "outputs": [
    {
     "data": {
      "text/plain": [
       "['Australia',\n",
       " 'Canada',\n",
       " 'China',\n",
       " 'Denmark',\n",
       " 'France',\n",
       " 'Netherlands',\n",
       " 'United Kingdom']"
      ]
     },
     "execution_count": 5,
     "metadata": {},
     "output_type": "execute_result"
    }
   ],
   "source": [
    "colonial_countries"
   ]
  },
  {
   "cell_type": "code",
   "execution_count": 3,
   "metadata": {},
   "outputs": [],
   "source": [
    "coord_dct = [{\"Country\":\"Australia\",\"Lat\":-29.840644,\"Long\":131.814028},\n",
    "            {\"Country\":\"Canada\",\"Lat\":54.444492,\"Long\":-120.933500},\n",
    "            {\"Country\":\"China\",\"Lat\":35.8617,\"Long\":104.1954},\n",
    "            {\"Country\":\"Denmark\",\"Lat\":56.121060,\"Long\":8.988298},\n",
    "            {\"Country\":\"France\",\"Lat\":46.2276,\"Long\":2.2137},\n",
    "            {\"Country\":\"Netherlands\",\"Lat\":52.254709,\"Long\":5.656206},\n",
    "            {\"Country\":\"United Kingdom\",\"Lat\":53.330873,\"Long\":-1.642633}]"
   ]
  },
  {
   "cell_type": "code",
   "execution_count": 4,
   "metadata": {},
   "outputs": [],
   "source": [
    "coord_df = pd.DataFrame(coord_dct).set_index('Country')"
   ]
  },
  {
   "cell_type": "code",
   "execution_count": 6,
   "metadata": {},
   "outputs": [],
   "source": [
    "lat_long_df = dfc[[\"Country/Region\",\"Lat\",\"Long\"]].set_index('Country/Region')"
   ]
  },
  {
   "cell_type": "code",
   "execution_count": 5,
   "metadata": {},
   "outputs": [],
   "source": [
    "lat_long_df = dfc[[\"Country/Region\",\"Lat\",\"Long\"]].groupby([\"Country/Region\"]).agg({\"Lat\":\"first\",\"Long\":\"first\"})"
   ]
  },
  {
   "cell_type": "code",
   "execution_count": 6,
   "metadata": {},
   "outputs": [
    {
     "data": {
      "text/html": [
       "<div>\n",
       "<style scoped>\n",
       "    .dataframe tbody tr th:only-of-type {\n",
       "        vertical-align: middle;\n",
       "    }\n",
       "\n",
       "    .dataframe tbody tr th {\n",
       "        vertical-align: top;\n",
       "    }\n",
       "\n",
       "    .dataframe thead th {\n",
       "        text-align: right;\n",
       "    }\n",
       "</style>\n",
       "<table border=\"1\" class=\"dataframe\">\n",
       "  <thead>\n",
       "    <tr style=\"text-align: right;\">\n",
       "      <th></th>\n",
       "      <th>Lat</th>\n",
       "      <th>Long</th>\n",
       "    </tr>\n",
       "    <tr>\n",
       "      <th>Country/Region</th>\n",
       "      <th></th>\n",
       "      <th></th>\n",
       "    </tr>\n",
       "  </thead>\n",
       "  <tbody>\n",
       "    <tr>\n",
       "      <th>Afghanistan</th>\n",
       "      <td>33.000000</td>\n",
       "      <td>65.000000</td>\n",
       "    </tr>\n",
       "    <tr>\n",
       "      <th>Albania</th>\n",
       "      <td>41.153300</td>\n",
       "      <td>20.168300</td>\n",
       "    </tr>\n",
       "    <tr>\n",
       "      <th>Algeria</th>\n",
       "      <td>28.033900</td>\n",
       "      <td>1.659600</td>\n",
       "    </tr>\n",
       "    <tr>\n",
       "      <th>Andorra</th>\n",
       "      <td>42.506300</td>\n",
       "      <td>1.521800</td>\n",
       "    </tr>\n",
       "    <tr>\n",
       "      <th>Angola</th>\n",
       "      <td>-11.202700</td>\n",
       "      <td>17.873900</td>\n",
       "    </tr>\n",
       "    <tr>\n",
       "      <th>...</th>\n",
       "      <td>...</td>\n",
       "      <td>...</td>\n",
       "    </tr>\n",
       "    <tr>\n",
       "      <th>West Bank and Gaza</th>\n",
       "      <td>31.952200</td>\n",
       "      <td>35.233200</td>\n",
       "    </tr>\n",
       "    <tr>\n",
       "      <th>Western Sahara</th>\n",
       "      <td>24.215500</td>\n",
       "      <td>-12.885800</td>\n",
       "    </tr>\n",
       "    <tr>\n",
       "      <th>Yemen</th>\n",
       "      <td>15.552727</td>\n",
       "      <td>48.516388</td>\n",
       "    </tr>\n",
       "    <tr>\n",
       "      <th>Zambia</th>\n",
       "      <td>-15.416700</td>\n",
       "      <td>28.283300</td>\n",
       "    </tr>\n",
       "    <tr>\n",
       "      <th>Zimbabwe</th>\n",
       "      <td>-20.000000</td>\n",
       "      <td>30.000000</td>\n",
       "    </tr>\n",
       "  </tbody>\n",
       "</table>\n",
       "<p>188 rows × 2 columns</p>\n",
       "</div>"
      ],
      "text/plain": [
       "                          Lat       Long\n",
       "Country/Region                          \n",
       "Afghanistan         33.000000  65.000000\n",
       "Albania             41.153300  20.168300\n",
       "Algeria             28.033900   1.659600\n",
       "Andorra             42.506300   1.521800\n",
       "Angola             -11.202700  17.873900\n",
       "...                       ...        ...\n",
       "West Bank and Gaza  31.952200  35.233200\n",
       "Western Sahara      24.215500 -12.885800\n",
       "Yemen               15.552727  48.516388\n",
       "Zambia             -15.416700  28.283300\n",
       "Zimbabwe           -20.000000  30.000000\n",
       "\n",
       "[188 rows x 2 columns]"
      ]
     },
     "execution_count": 6,
     "metadata": {},
     "output_type": "execute_result"
    }
   ],
   "source": [
    "lat_long_df"
   ]
  },
  {
   "cell_type": "code",
   "execution_count": 7,
   "metadata": {},
   "outputs": [],
   "source": [
    "coord_df_join =  lat_long_df.join(coord_df, rsuffix = 'c')"
   ]
  },
  {
   "cell_type": "code",
   "execution_count": 11,
   "metadata": {},
   "outputs": [],
   "source": [
    "coord_df_join['Latm'] = [coord_df_join.iloc[i,0] if coord_df_join.iloc[i,2] != None else coord_df_join.iloc[i,2] for i in range(len(coord_df_join))]\n",
    "coord_df_join['Longm'] = [coord_df_join.iloc[i,1] if coord_df_join.iloc[i,3] != np.nan else coord_df_join.iloc[i,3] for i in range(len(coord_df_join))]"
   ]
  },
  {
   "cell_type": "code",
   "execution_count": 13,
   "metadata": {},
   "outputs": [
    {
     "data": {
      "text/plain": [
       "(Lat       3.9339\n",
       " Long    -53.1258\n",
       " Latc     46.2276\n",
       " Longc     2.2137\n",
       " Latm      3.9339\n",
       " Longm   -53.1258\n",
       " Name: France, dtype: float64,\n",
       " Lat      21.0\n",
       " Long     78.0\n",
       " Latc      NaN\n",
       " Longc     NaN\n",
       " Latm     21.0\n",
       " Longm    78.0\n",
       " Name: India, dtype: float64)"
      ]
     },
     "execution_count": 13,
     "metadata": {},
     "output_type": "execute_result"
    }
   ],
   "source": [
    "coord_df_join.loc['France'], coord_df_join.loc['India']"
   ]
  },
  {
   "cell_type": "code",
   "execution_count": 24,
   "metadata": {},
   "outputs": [],
   "source": [
    "coord_df_join = coord_df_join[['Latm','Longm']]"
   ]
  },
  {
   "cell_type": "code",
   "execution_count": 25,
   "metadata": {},
   "outputs": [
    {
     "data": {
      "text/plain": [
       "Latm      31.8257\n",
       "Longm    117.2264\n",
       "Name: China, dtype: float64"
      ]
     },
     "execution_count": 25,
     "metadata": {},
     "output_type": "execute_result"
    }
   ],
   "source": [
    "coord_df_join.loc['China']"
   ]
  },
  {
   "cell_type": "markdown",
   "metadata": {},
   "source": [
    "# Forecasting"
   ]
  },
  {
   "cell_type": "markdown",
   "metadata": {},
   "source": [
    "## 1) Data Transformation"
   ]
  },
  {
   "cell_type": "code",
   "execution_count": 17,
   "metadata": {},
   "outputs": [
    {
     "data": {
      "text/html": [
       "<div>\n",
       "<style scoped>\n",
       "    .dataframe tbody tr th:only-of-type {\n",
       "        vertical-align: middle;\n",
       "    }\n",
       "\n",
       "    .dataframe tbody tr th {\n",
       "        vertical-align: top;\n",
       "    }\n",
       "\n",
       "    .dataframe thead th {\n",
       "        text-align: right;\n",
       "    }\n",
       "</style>\n",
       "<table border=\"1\" class=\"dataframe\">\n",
       "  <thead>\n",
       "    <tr style=\"text-align: right;\">\n",
       "      <th></th>\n",
       "      <th>Province/State</th>\n",
       "      <th>Country/Region</th>\n",
       "      <th>Lat</th>\n",
       "      <th>Long</th>\n",
       "      <th>1/22/20</th>\n",
       "      <th>1/23/20</th>\n",
       "      <th>1/24/20</th>\n",
       "      <th>1/25/20</th>\n",
       "      <th>1/26/20</th>\n",
       "      <th>1/27/20</th>\n",
       "      <th>...</th>\n",
       "      <th>4/26/20</th>\n",
       "      <th>4/27/20</th>\n",
       "      <th>4/28/20</th>\n",
       "      <th>4/29/20</th>\n",
       "      <th>4/30/20</th>\n",
       "      <th>5/1/20</th>\n",
       "      <th>5/2/20</th>\n",
       "      <th>5/3/20</th>\n",
       "      <th>5/4/20</th>\n",
       "      <th>5/5/20</th>\n",
       "    </tr>\n",
       "  </thead>\n",
       "  <tbody>\n",
       "    <tr>\n",
       "      <th>0</th>\n",
       "      <td>NaN</td>\n",
       "      <td>Afghanistan</td>\n",
       "      <td>33.0000</td>\n",
       "      <td>65.0000</td>\n",
       "      <td>0</td>\n",
       "      <td>0</td>\n",
       "      <td>0</td>\n",
       "      <td>0</td>\n",
       "      <td>0</td>\n",
       "      <td>0</td>\n",
       "      <td>...</td>\n",
       "      <td>1531</td>\n",
       "      <td>1703</td>\n",
       "      <td>1828</td>\n",
       "      <td>1939</td>\n",
       "      <td>2171</td>\n",
       "      <td>2335</td>\n",
       "      <td>2469</td>\n",
       "      <td>2704</td>\n",
       "      <td>2894</td>\n",
       "      <td>3224</td>\n",
       "    </tr>\n",
       "    <tr>\n",
       "      <th>1</th>\n",
       "      <td>NaN</td>\n",
       "      <td>Albania</td>\n",
       "      <td>41.1533</td>\n",
       "      <td>20.1683</td>\n",
       "      <td>0</td>\n",
       "      <td>0</td>\n",
       "      <td>0</td>\n",
       "      <td>0</td>\n",
       "      <td>0</td>\n",
       "      <td>0</td>\n",
       "      <td>...</td>\n",
       "      <td>726</td>\n",
       "      <td>736</td>\n",
       "      <td>750</td>\n",
       "      <td>766</td>\n",
       "      <td>773</td>\n",
       "      <td>782</td>\n",
       "      <td>789</td>\n",
       "      <td>795</td>\n",
       "      <td>803</td>\n",
       "      <td>820</td>\n",
       "    </tr>\n",
       "    <tr>\n",
       "      <th>2</th>\n",
       "      <td>NaN</td>\n",
       "      <td>Algeria</td>\n",
       "      <td>28.0339</td>\n",
       "      <td>1.6596</td>\n",
       "      <td>0</td>\n",
       "      <td>0</td>\n",
       "      <td>0</td>\n",
       "      <td>0</td>\n",
       "      <td>0</td>\n",
       "      <td>0</td>\n",
       "      <td>...</td>\n",
       "      <td>3382</td>\n",
       "      <td>3517</td>\n",
       "      <td>3649</td>\n",
       "      <td>3848</td>\n",
       "      <td>4006</td>\n",
       "      <td>4154</td>\n",
       "      <td>4295</td>\n",
       "      <td>4474</td>\n",
       "      <td>4648</td>\n",
       "      <td>4838</td>\n",
       "    </tr>\n",
       "    <tr>\n",
       "      <th>3</th>\n",
       "      <td>NaN</td>\n",
       "      <td>Andorra</td>\n",
       "      <td>42.5063</td>\n",
       "      <td>1.5218</td>\n",
       "      <td>0</td>\n",
       "      <td>0</td>\n",
       "      <td>0</td>\n",
       "      <td>0</td>\n",
       "      <td>0</td>\n",
       "      <td>0</td>\n",
       "      <td>...</td>\n",
       "      <td>738</td>\n",
       "      <td>743</td>\n",
       "      <td>743</td>\n",
       "      <td>743</td>\n",
       "      <td>745</td>\n",
       "      <td>745</td>\n",
       "      <td>747</td>\n",
       "      <td>748</td>\n",
       "      <td>750</td>\n",
       "      <td>751</td>\n",
       "    </tr>\n",
       "    <tr>\n",
       "      <th>4</th>\n",
       "      <td>NaN</td>\n",
       "      <td>Angola</td>\n",
       "      <td>-11.2027</td>\n",
       "      <td>17.8739</td>\n",
       "      <td>0</td>\n",
       "      <td>0</td>\n",
       "      <td>0</td>\n",
       "      <td>0</td>\n",
       "      <td>0</td>\n",
       "      <td>0</td>\n",
       "      <td>...</td>\n",
       "      <td>26</td>\n",
       "      <td>27</td>\n",
       "      <td>27</td>\n",
       "      <td>27</td>\n",
       "      <td>27</td>\n",
       "      <td>30</td>\n",
       "      <td>35</td>\n",
       "      <td>35</td>\n",
       "      <td>35</td>\n",
       "      <td>36</td>\n",
       "    </tr>\n",
       "  </tbody>\n",
       "</table>\n",
       "<p>5 rows × 109 columns</p>\n",
       "</div>"
      ],
      "text/plain": [
       "  Province/State Country/Region      Lat     Long  1/22/20  1/23/20  1/24/20  \\\n",
       "0            NaN    Afghanistan  33.0000  65.0000        0        0        0   \n",
       "1            NaN        Albania  41.1533  20.1683        0        0        0   \n",
       "2            NaN        Algeria  28.0339   1.6596        0        0        0   \n",
       "3            NaN        Andorra  42.5063   1.5218        0        0        0   \n",
       "4            NaN         Angola -11.2027  17.8739        0        0        0   \n",
       "\n",
       "   1/25/20  1/26/20  1/27/20  ...  4/26/20  4/27/20  4/28/20  4/29/20  \\\n",
       "0        0        0        0  ...     1531     1703     1828     1939   \n",
       "1        0        0        0  ...      726      736      750      766   \n",
       "2        0        0        0  ...     3382     3517     3649     3848   \n",
       "3        0        0        0  ...      738      743      743      743   \n",
       "4        0        0        0  ...       26       27       27       27   \n",
       "\n",
       "   4/30/20  5/1/20  5/2/20  5/3/20  5/4/20  5/5/20  \n",
       "0     2171    2335    2469    2704    2894    3224  \n",
       "1      773     782     789     795     803     820  \n",
       "2     4006    4154    4295    4474    4648    4838  \n",
       "3      745     745     747     748     750     751  \n",
       "4       27      30      35      35      35      36  \n",
       "\n",
       "[5 rows x 109 columns]"
      ]
     },
     "execution_count": 17,
     "metadata": {},
     "output_type": "execute_result"
    }
   ],
   "source": [
    "dfc.head()"
   ]
  },
  {
   "cell_type": "code",
   "execution_count": 65,
   "metadata": {},
   "outputs": [],
   "source": [
    "dfc_world = dfc[date_cols].agg(sum)\n",
    "dfd_world = dfd[date_cols].agg(sum)\n",
    "dfr_world = dfr[date_cols].agg(sum) "
   ]
  },
  {
   "cell_type": "code",
   "execution_count": 301,
   "metadata": {},
   "outputs": [],
   "source": [
    "dfd_grp = dfd[cols].groupby([\"Country/Region\"], as_index=False).agg(sum).set_index('Country/Region')\n",
    "dfc_grp = dfc[cols].groupby([\"Country/Region\"], as_index=False).agg(sum).set_index('Country/Region')\n",
    "dfr_grp = dfr[cols].groupby([\"Country/Region\"], as_index=False).agg(sum).set_index('Country/Region')"
   ]
  },
  {
   "cell_type": "code",
   "execution_count": 162,
   "metadata": {},
   "outputs": [],
   "source": [
    "cols = [col for col in dfd.columns if col not in [\"Lat\",\"Long\",\"Province/State\"]]\n",
    "date_cols = [col for col in dfd.columns if col not in [\"Lat\",\"Long\",\"Province/State\", \"Country/Region\"]]"
   ]
  },
  {
   "cell_type": "code",
   "execution_count": 302,
   "metadata": {},
   "outputs": [],
   "source": [
    "country_dfd = dfd_grp.loc['India'].T"
   ]
  },
  {
   "cell_type": "code",
   "execution_count": 188,
   "metadata": {},
   "outputs": [
    {
     "data": {
      "text/plain": [
       "4"
      ]
     },
     "execution_count": 188,
     "metadata": {},
     "output_type": "execute_result"
    }
   ],
   "source": [
    "dfd_grp.loc['India','3/21/20']"
   ]
  },
  {
   "cell_type": "code",
   "execution_count": 303,
   "metadata": {},
   "outputs": [
    {
     "data": {
      "text/plain": [
       "[0,\n",
       " 0,\n",
       " 0,\n",
       " 0,\n",
       " 0,\n",
       " 0,\n",
       " 0,\n",
       " 0,\n",
       " 0,\n",
       " 0,\n",
       " 0,\n",
       " 0,\n",
       " 0,\n",
       " 0,\n",
       " 0,\n",
       " 0,\n",
       " 0,\n",
       " 0,\n",
       " 0,\n",
       " 0,\n",
       " 0,\n",
       " 0,\n",
       " 0,\n",
       " 0,\n",
       " 0,\n",
       " 0,\n",
       " 0,\n",
       " 0,\n",
       " 0,\n",
       " 0,\n",
       " 0,\n",
       " 0,\n",
       " 0,\n",
       " 0,\n",
       " 0,\n",
       " 0,\n",
       " 0,\n",
       " 0,\n",
       " 0,\n",
       " 0,\n",
       " 0,\n",
       " 0,\n",
       " 0,\n",
       " 0,\n",
       " 0,\n",
       " 0,\n",
       " 0,\n",
       " 0,\n",
       " 0,\n",
       " 1,\n",
       " 1,\n",
       " 2,\n",
       " 2,\n",
       " 2,\n",
       " 2,\n",
       " 3,\n",
       " 3,\n",
       " 4,\n",
       " 5,\n",
       " 4,\n",
       " 7,\n",
       " 10,\n",
       " 10,\n",
       " 12,\n",
       " 20,\n",
       " 20,\n",
       " 24,\n",
       " 27,\n",
       " 32,\n",
       " 35,\n",
       " 58,\n",
       " 72,\n",
       " 72,\n",
       " 86,\n",
       " 99,\n",
       " 136,\n",
       " 150,\n",
       " 178,\n",
       " 226,\n",
       " 246,\n",
       " 288,\n",
       " 331,\n",
       " 358,\n",
       " 393,\n",
       " 405,\n",
       " 448,\n",
       " 486,\n",
       " 521,\n",
       " 559,\n",
       " 592,\n",
       " 645,\n",
       " 681,\n",
       " 721,\n",
       " 780,\n",
       " 825,\n",
       " 881,\n",
       " 939,\n",
       " 1008,\n",
       " 1079,\n",
       " 1154,\n",
       " 1223,\n",
       " 1323,\n",
       " 1391,\n",
       " 1566,\n",
       " 1693,\n",
       " 1785]"
      ]
     },
     "execution_count": 303,
     "metadata": {},
     "output_type": "execute_result"
    }
   ],
   "source": [
    "country_dfd.tolist()"
   ]
  },
  {
   "cell_type": "code",
   "execution_count": 143,
   "metadata": {},
   "outputs": [],
   "source": [
    "country_dfd_diff = country_dfd.diff().dropna()"
   ]
  },
  {
   "cell_type": "code",
   "execution_count": 175,
   "metadata": {},
   "outputs": [],
   "source": [
    "idx_arr = [id for id in range(1,len(country_dfd)) if country_dfd[id-1] > country_dfd[id]]"
   ]
  },
  {
   "cell_type": "code",
   "execution_count": 176,
   "metadata": {},
   "outputs": [
    {
     "data": {
      "text/plain": [
       "[54, 58]"
      ]
     },
     "execution_count": 176,
     "metadata": {},
     "output_type": "execute_result"
    }
   ],
   "source": [
    "idx_arr"
   ]
  },
  {
   "cell_type": "code",
   "execution_count": 314,
   "metadata": {},
   "outputs": [],
   "source": [
    "def is_cumulative_increasing(series):\n",
    "    s = series.copy()\n",
    "    bad_idx_1 = [id for id in range(len(s)-1) if (s[id] > s[id+1]) & (s[id] > s[id-1])]\n",
    "    bad_idx_2 = [id+1 for id in range(len(s)-2) if (s[id+1] < s[id]) & (s[id+1] < s[id+2])]\n",
    "\n",
    "#     print(bad_idx_1, bad_idx_2)\n",
    "    bad_idx_arr = bad_idx_1 + bad_idx_2\n",
    "    \n",
    "    if len(bad_idx_arr):    \n",
    "        return False, bad_idx_arr\n",
    "    else:\n",
    "        return True, bad_idx_arr"
   ]
  },
  {
   "cell_type": "code",
   "execution_count": 304,
   "metadata": {},
   "outputs": [
    {
     "name": "stdout",
     "output_type": "stream",
     "text": [
      "[58] [59]\n"
     ]
    }
   ],
   "source": [
    "is_inc, bad_idx = is_cumulative_increasing(country_dfd)"
   ]
  },
  {
   "cell_type": "code",
   "execution_count": 305,
   "metadata": {},
   "outputs": [
    {
     "data": {
      "text/plain": [
       "[58, 59]"
      ]
     },
     "execution_count": 305,
     "metadata": {},
     "output_type": "execute_result"
    }
   ],
   "source": [
    "bad_idx"
   ]
  },
  {
   "cell_type": "code",
   "execution_count": 308,
   "metadata": {},
   "outputs": [],
   "source": [
    "def check_source_data(series):\n",
    "    s = series.copy()\n",
    "    is_inc, bad_idx = is_cumulative_increasing(s)\n",
    "    if not is_inc:\n",
    "        for idx in bad_idx:\n",
    "            update_val = s[idx-1]\n",
    "#             print(f\"idx:{idx}, current val:{s[idx]}, update_val:{update_val}\")\n",
    "            s[idx] = update_val\n",
    "#             print(f\"idx:{idx}, current val:{s[idx]}\")\n",
    "    return s"
   ]
  },
  {
   "cell_type": "code",
   "execution_count": 307,
   "metadata": {},
   "outputs": [
    {
     "data": {
      "text/plain": [
       "3/12/20    1\n",
       "3/13/20    2\n",
       "3/14/20    2\n",
       "3/15/20    2\n",
       "3/16/20    2\n",
       "3/17/20    3\n",
       "3/18/20    3\n",
       "3/19/20    4\n",
       "3/20/20    4\n",
       "3/21/20    4\n",
       "Name: India, dtype: int64"
      ]
     },
     "execution_count": 307,
     "metadata": {},
     "output_type": "execute_result"
    }
   ],
   "source": [
    "country_dfd[50:60]"
   ]
  },
  {
   "cell_type": "code",
   "execution_count": 270,
   "metadata": {},
   "outputs": [
    {
     "data": {
      "text/plain": [
       "5"
      ]
     },
     "execution_count": 270,
     "metadata": {},
     "output_type": "execute_result"
    }
   ],
   "source": [
    "country_dfd[53]"
   ]
  },
  {
   "cell_type": "code",
   "execution_count": 240,
   "metadata": {},
   "outputs": [
    {
     "data": {
      "text/plain": [
       "0"
      ]
     },
     "execution_count": 240,
     "metadata": {},
     "output_type": "execute_result"
    }
   ],
   "source": [
    "country_dfd.iloc[0]"
   ]
  },
  {
   "cell_type": "code",
   "execution_count": 181,
   "metadata": {},
   "outputs": [],
   "source": [
    "ser = is_cumulative_increasing(country_dfd)"
   ]
  },
  {
   "cell_type": "code",
   "execution_count": 182,
   "metadata": {},
   "outputs": [],
   "source": [
    "ser"
   ]
  },
  {
   "cell_type": "code",
   "execution_count": null,
   "metadata": {},
   "outputs": [],
   "source": []
  },
  {
   "cell_type": "code",
   "execution_count": 321,
   "metadata": {},
   "outputs": [],
   "source": [
    "def get_country_data(d,c,r, country):\n",
    "    d = check_source_data(d)\n",
    "    c = check_source_data(c)\n",
    "    r = check_source_data(r)\n",
    "    print(d.tolist())\n",
    "    df = pd.concat([d,c,r], axis = 1).reset_index()\n",
    "    df.columns = [\"Date\",\"deaths\", \"confirmed\", \"recovered\"]\n",
    "    df[\"Date\"] = pd.to_datetime(df[\"Date\"])\n",
    "    df_pos = df[df.confirmed > 0.0].set_index('Date')\n",
    "    df_diff = df_pos.diff(1)\n",
    "    df_diff['deaths'].iloc[0] =  df_pos['deaths'].iloc[0]\n",
    "    df_diff['confirmed'].iloc[0] =  df_pos['confirmed'].iloc[0]\n",
    "    df_diff['recovered'].iloc[0] =  df_pos['recovered'].iloc[0]\n",
    "    df_diff['country'] = country\n",
    "    \n",
    "    return df_diff\n",
    "            \n",
    "def get_master_data(countries):\n",
    "    master_data = pd.DataFrame()\n",
    "    for country in countries:\n",
    "        if country == \"World\":\n",
    "            df_world_diff = get_country_data(dfd_world,dfc_world,dfr_world, country) # Inputs should be cumulative total cases\n",
    "            master_data = pd.concat([master_data,df_world_diff], axis = 0)\n",
    "        else:\n",
    "            country_dfd = dfd_grp.loc[country].T\n",
    "            country_dfc = dfc_grp.loc[country].T\n",
    "            country_dfr = dfr_grp.loc[country].T\n",
    "            \n",
    "            country_data_diff = get_country_data(country_dfd,country_dfc,country_dfr, country) # Inputs should be cumulative total cases\n",
    "            master_data = pd.concat([master_data,country_data_diff], axis = 0)\n",
    "        \n",
    "    return master_data"
   ]
  },
  {
   "cell_type": "code",
   "execution_count": 323,
   "metadata": {},
   "outputs": [
    {
     "name": "stdout",
     "output_type": "stream",
     "text": [
      "[0, 0, 0, 0, 0, 0, 0, 0, 0, 0, 0, 0, 0, 0, 0, 0, 0, 0, 0, 0, 0, 0, 0, 0, 0, 0, 0, 0, 0, 0, 0, 0, 0, 0, 0, 0, 0, 0, 0, 0, 0, 0, 0, 0, 0, 0, 0, 0, 0, 0, 0, 0, 0, 0, 0, 1, 1, 1, 1, 1, 1, 1, 2, 2, 2, 2, 2, 2, 2, 2, 2, 4, 4, 4, 4, 6, 6, 6, 6, 7, 8, 8, 8, 8, 8, 8, 9, 9, 9, 10, 10, 10, 10, 10, 10, 10, 10, 10, 10, 10, 10, 10, 10, 10, 10, 10]\n",
      "[0, 0, 0, 0, 0, 0, 0, 0, 0, 0, 0, 0, 0, 0, 0, 0, 0, 0, 0, 0, 0, 0, 0, 0, 0, 0, 0, 0, 0, 0, 0, 0, 0, 0, 0, 0, 0, 0, 0, 0, 0, 0, 0, 0, 0, 0, 0, 0, 0, 1, 1, 2, 2, 2, 2, 3, 3, 4, 4, 4, 7, 10, 10, 12, 20, 20, 24, 27, 32, 35, 58, 72, 72, 86, 99, 136, 150, 178, 226, 246, 288, 331, 358, 393, 405, 448, 486, 521, 559, 592, 645, 681, 721, 780, 825, 881, 939, 1008, 1079, 1154, 1223, 1323, 1391, 1566, 1693, 1785]\n",
      "[17, 18, 26, 42, 56, 82, 131, 133, 171, 213, 259, 362, 426, 492, 564, 634, 719, 806, 906, 1013, 1113, 1118, 1371, 1523, 1666, 1770, 1868, 2007, 2122, 2247, 2251, 2458, 2469, 2629, 2708, 2770, 2814, 2872, 2941, 2996, 3085, 3160, 3254, 3347, 3459, 3558, 3801, 3987, 4263, 4614, 4722, 5408, 5830, 6472, 7150, 7956, 8823, 9946, 11422, 13125, 14825, 16759, 19014, 21785, 24788, 28288, 31797, 35323, 39439, 44238, 49675, 55817, 61812, 67981, 73076, 78767, 86662, 93354, 100882, 108113, 114146, 119853, 125561, 132439, 140658, 147946, 156804, 163214, 167773, 173098, 180237, 186914, 193667, 199999, 206187, 209900, 214444, 220799, 227665, 233357, 238619, 243808, 247470, 251537, 257239, 263831]\n"
     ]
    }
   ],
   "source": [
    "# MASTER DATA\n",
    "# countries = dfd_grp.index\n",
    "countries = ['Iceland', 'India','World']\n",
    "master_data = get_master_data(countries)"
   ]
  },
  {
   "cell_type": "code",
   "execution_count": 324,
   "metadata": {},
   "outputs": [],
   "source": [
    "# FILTERING FOR THE GIVEN COUNTRY\n",
    "country_name = 'india'\n",
    "num_days = 10\n",
    "master_data_filt = master_data[master_data.country.str.lower() == country_name]"
   ]
  },
  {
   "cell_type": "code",
   "execution_count": 350,
   "metadata": {},
   "outputs": [
    {
     "data": {
      "text/html": [
       "<div>\n",
       "<style scoped>\n",
       "    .dataframe tbody tr th:only-of-type {\n",
       "        vertical-align: middle;\n",
       "    }\n",
       "\n",
       "    .dataframe tbody tr th {\n",
       "        vertical-align: top;\n",
       "    }\n",
       "\n",
       "    .dataframe thead th {\n",
       "        text-align: right;\n",
       "    }\n",
       "</style>\n",
       "<table border=\"1\" class=\"dataframe\">\n",
       "  <thead>\n",
       "    <tr style=\"text-align: right;\">\n",
       "      <th></th>\n",
       "      <th>deaths</th>\n",
       "      <th>confirmed</th>\n",
       "      <th>recovered</th>\n",
       "      <th>country</th>\n",
       "    </tr>\n",
       "    <tr>\n",
       "      <th>Date</th>\n",
       "      <th></th>\n",
       "      <th></th>\n",
       "      <th></th>\n",
       "      <th></th>\n",
       "    </tr>\n",
       "  </thead>\n",
       "  <tbody>\n",
       "    <tr>\n",
       "      <th>2020-01-30</th>\n",
       "      <td>0.0</td>\n",
       "      <td>1.0</td>\n",
       "      <td>0.0</td>\n",
       "      <td>India</td>\n",
       "    </tr>\n",
       "    <tr>\n",
       "      <th>2020-01-31</th>\n",
       "      <td>0.0</td>\n",
       "      <td>0.0</td>\n",
       "      <td>0.0</td>\n",
       "      <td>India</td>\n",
       "    </tr>\n",
       "    <tr>\n",
       "      <th>2020-02-01</th>\n",
       "      <td>0.0</td>\n",
       "      <td>0.0</td>\n",
       "      <td>0.0</td>\n",
       "      <td>India</td>\n",
       "    </tr>\n",
       "    <tr>\n",
       "      <th>2020-02-02</th>\n",
       "      <td>0.0</td>\n",
       "      <td>1.0</td>\n",
       "      <td>0.0</td>\n",
       "      <td>India</td>\n",
       "    </tr>\n",
       "    <tr>\n",
       "      <th>2020-02-03</th>\n",
       "      <td>0.0</td>\n",
       "      <td>1.0</td>\n",
       "      <td>0.0</td>\n",
       "      <td>India</td>\n",
       "    </tr>\n",
       "    <tr>\n",
       "      <th>...</th>\n",
       "      <td>...</td>\n",
       "      <td>...</td>\n",
       "      <td>...</td>\n",
       "      <td>...</td>\n",
       "    </tr>\n",
       "    <tr>\n",
       "      <th>2020-05-02</th>\n",
       "      <td>100.0</td>\n",
       "      <td>2442.0</td>\n",
       "      <td>812.0</td>\n",
       "      <td>India</td>\n",
       "    </tr>\n",
       "    <tr>\n",
       "      <th>2020-05-03</th>\n",
       "      <td>68.0</td>\n",
       "      <td>2806.0</td>\n",
       "      <td>956.0</td>\n",
       "      <td>India</td>\n",
       "    </tr>\n",
       "    <tr>\n",
       "      <th>2020-05-04</th>\n",
       "      <td>175.0</td>\n",
       "      <td>3932.0</td>\n",
       "      <td>1072.0</td>\n",
       "      <td>India</td>\n",
       "    </tr>\n",
       "    <tr>\n",
       "      <th>2020-05-05</th>\n",
       "      <td>127.0</td>\n",
       "      <td>2963.0</td>\n",
       "      <td>1295.0</td>\n",
       "      <td>India</td>\n",
       "    </tr>\n",
       "    <tr>\n",
       "      <th>2020-05-06</th>\n",
       "      <td>92.0</td>\n",
       "      <td>3587.0</td>\n",
       "      <td>1189.0</td>\n",
       "      <td>India</td>\n",
       "    </tr>\n",
       "  </tbody>\n",
       "</table>\n",
       "<p>98 rows × 4 columns</p>\n",
       "</div>"
      ],
      "text/plain": [
       "            deaths  confirmed  recovered country\n",
       "Date                                            \n",
       "2020-01-30     0.0        1.0        0.0   India\n",
       "2020-01-31     0.0        0.0        0.0   India\n",
       "2020-02-01     0.0        0.0        0.0   India\n",
       "2020-02-02     0.0        1.0        0.0   India\n",
       "2020-02-03     0.0        1.0        0.0   India\n",
       "...            ...        ...        ...     ...\n",
       "2020-05-02   100.0     2442.0      812.0   India\n",
       "2020-05-03    68.0     2806.0      956.0   India\n",
       "2020-05-04   175.0     3932.0     1072.0   India\n",
       "2020-05-05   127.0     2963.0     1295.0   India\n",
       "2020-05-06    92.0     3587.0     1189.0   India\n",
       "\n",
       "[98 rows x 4 columns]"
      ]
     },
     "execution_count": 350,
     "metadata": {},
     "output_type": "execute_result"
    }
   ],
   "source": [
    "master_data_filt"
   ]
  },
  {
   "cell_type": "code",
   "execution_count": 349,
   "metadata": {},
   "outputs": [
    {
     "data": {
      "text/plain": [
       "array([20, 19, 18, 17, 16, 15, 14, 13, 12, 11, 10,  9,  8,  7,  6,  5,  4,\n",
       "        3,  2,  1])"
      ]
     },
     "execution_count": 349,
     "metadata": {},
     "output_type": "execute_result"
    }
   ],
   "source": [
    "np.arange(1, 20+1)[::-1]"
   ]
  },
  {
   "cell_type": "markdown",
   "metadata": {},
   "source": [
    "# VAR Model"
   ]
  },
  {
   "cell_type": "code",
   "execution_count": 11,
   "metadata": {},
   "outputs": [],
   "source": [
    "# Import Statsmodels\n",
    "from statsmodels.tsa.api import VAR\n",
    "from statsmodels.tsa.stattools import adfuller\n",
    "from statsmodels.tools.eval_measures import rmse, aic"
   ]
  },
  {
   "cell_type": "code",
   "execution_count": 325,
   "metadata": {},
   "outputs": [],
   "source": [
    "# TRAIN TEST SPLIT\n",
    "train = master_data_filt.iloc[:-10,:3]\n",
    "# test = master_data_filt.iloc[-10:,:3]"
   ]
  },
  {
   "cell_type": "code",
   "execution_count": 326,
   "metadata": {},
   "outputs": [],
   "source": [
    "# START AND END DATES OF FORECASTING\n",
    "start_date = train.index[-1]\n",
    "end_date = start_date + datetime.timedelta(10+num_days-1)"
   ]
  },
  {
   "cell_type": "code",
   "execution_count": 327,
   "metadata": {},
   "outputs": [],
   "source": [
    "# LOG TRANSFORMATION\n",
    "train_log = np.log1p(train)"
   ]
  },
  {
   "cell_type": "code",
   "execution_count": 329,
   "metadata": {},
   "outputs": [
    {
     "data": {
      "text/plain": [
       "[0.0,\n",
       " 0.0,\n",
       " 0.0,\n",
       " 0.0,\n",
       " 0.0,\n",
       " 0.0,\n",
       " 0.0,\n",
       " 0.0,\n",
       " 0.0,\n",
       " 0.0,\n",
       " 0.0,\n",
       " 0.0,\n",
       " 0.0,\n",
       " 0.0,\n",
       " 0.0,\n",
       " 0.0,\n",
       " 0.0,\n",
       " 0.0,\n",
       " 0.0,\n",
       " 0.0,\n",
       " 0.0,\n",
       " 0.0,\n",
       " 0.0,\n",
       " 0.0,\n",
       " 0.0,\n",
       " 0.0,\n",
       " 0.0,\n",
       " 0.0,\n",
       " 0.0,\n",
       " 0.0,\n",
       " 0.0,\n",
       " 0.0,\n",
       " 0.0,\n",
       " 0.0,\n",
       " 0.0,\n",
       " 0.0,\n",
       " 0.0,\n",
       " 0.0,\n",
       " 0.0,\n",
       " 0.0,\n",
       " 0.0,\n",
       " 0.6931471805599453,\n",
       " 0.0,\n",
       " 0.6931471805599453,\n",
       " 0.0,\n",
       " 0.0,\n",
       " 0.0,\n",
       " 0.6931471805599453,\n",
       " 0.0,\n",
       " 0.6931471805599453,\n",
       " 0.0,\n",
       " 0.0,\n",
       " 1.3862943611198906,\n",
       " 1.3862943611198906,\n",
       " 0.0,\n",
       " 1.0986122886681098,\n",
       " 2.1972245773362196,\n",
       " 0.0,\n",
       " 1.6094379124341003,\n",
       " 1.3862943611198906,\n",
       " 1.791759469228055,\n",
       " 1.3862943611198906,\n",
       " 3.1780538303479458,\n",
       " 2.70805020110221,\n",
       " 0.0,\n",
       " 2.70805020110221,\n",
       " 2.6390573296152584,\n",
       " 3.6375861597263857,\n",
       " 2.70805020110221,\n",
       " 3.367295829986474,\n",
       " 3.8918202981106265,\n",
       " 3.044522437723423,\n",
       " 3.7612001156935624,\n",
       " 3.784189633918261,\n",
       " 3.332204510175204,\n",
       " 3.58351893845611,\n",
       " 2.5649493574615367,\n",
       " 3.784189633918261,\n",
       " 3.6635616461296463,\n",
       " 3.58351893845611,\n",
       " 3.6635616461296463,\n",
       " 3.5263605246161616,\n",
       " 3.9889840465642745,\n",
       " 3.6109179126442243,\n",
       " 3.713572066704308,\n",
       " 4.0943445622221,\n",
       " 3.828641396489095,\n",
       " 4.04305126783455]"
      ]
     },
     "execution_count": 329,
     "metadata": {},
     "output_type": "execute_result"
    }
   ],
   "source": [
    "train_log.deaths.tolist()"
   ]
  },
  {
   "cell_type": "code",
   "execution_count": 330,
   "metadata": {},
   "outputs": [],
   "source": [
    "# MAKING STATIONARY BY DIFFERENCING\n",
    "train_diff1 = train_log.diff(1).dropna()\n",
    "train_diff2 = train_diff1.diff(1).dropna()"
   ]
  },
  {
   "cell_type": "code",
   "execution_count": 332,
   "metadata": {},
   "outputs": [
    {
     "data": {
      "text/plain": [
       "[0.0,\n",
       " 0.0,\n",
       " 0.0,\n",
       " 0.0,\n",
       " 0.0,\n",
       " 0.0,\n",
       " 0.0,\n",
       " 0.0,\n",
       " 0.0,\n",
       " 0.0,\n",
       " 0.0,\n",
       " 0.0,\n",
       " 0.0,\n",
       " 0.0,\n",
       " 0.0,\n",
       " 0.0,\n",
       " 0.0,\n",
       " 0.0,\n",
       " 0.0,\n",
       " 0.0,\n",
       " 0.0,\n",
       " 0.0,\n",
       " 0.0,\n",
       " 0.0,\n",
       " 0.0,\n",
       " 0.0,\n",
       " 0.0,\n",
       " 0.0,\n",
       " 0.0,\n",
       " 0.0,\n",
       " 0.0,\n",
       " 0.0,\n",
       " 0.0,\n",
       " 0.0,\n",
       " 0.0,\n",
       " 0.0,\n",
       " 0.0,\n",
       " 0.0,\n",
       " 0.0,\n",
       " 0.6931471805599453,\n",
       " -1.3862943611198906,\n",
       " 1.3862943611198906,\n",
       " -1.3862943611198906,\n",
       " 0.6931471805599453,\n",
       " 0.0,\n",
       " 0.6931471805599453,\n",
       " -1.3862943611198906,\n",
       " 1.3862943611198906,\n",
       " -1.3862943611198906,\n",
       " 0.6931471805599453,\n",
       " 1.3862943611198906,\n",
       " -1.3862943611198906,\n",
       " -1.3862943611198906,\n",
       " 2.4849066497880004,\n",
       " 0.0,\n",
       " -3.295836866004329,\n",
       " 3.8066624897703196,\n",
       " -1.83258146374831,\n",
       " 0.6286086594223741,\n",
       " -0.8109302162163288,\n",
       " 2.1972245773362196,\n",
       " -2.261763098473791,\n",
       " -2.2380465718564744,\n",
       " 5.41610040220442,\n",
       " -2.7770430725891617,\n",
       " 1.067521701598079,\n",
       " -1.9280647887353028,\n",
       " 1.5887815875084397,\n",
       " -0.13472116076011176,\n",
       " -1.3718223285113558,\n",
       " 1.5639755383573428,\n",
       " -0.6936881597454407,\n",
       " -0.47497464196775585,\n",
       " 0.7032995520239633,\n",
       " -1.2698840092754793,\n",
       " 2.2378098574512975,\n",
       " -1.339868264245339,\n",
       " 0.04058528011507834,\n",
       " 0.16008541534707277,\n",
       " -0.21724382918702112,\n",
       " 0.5998246434615977,\n",
       " -0.8406896558681631,\n",
       " 0.4807202879801338,\n",
       " 0.27811834145770886,\n",
       " -0.6464756612507978,\n",
       " 0.48011303707846054]"
      ]
     },
     "execution_count": 332,
     "metadata": {},
     "output_type": "execute_result"
    }
   ],
   "source": [
    "train_diff2.deaths.tolist()"
   ]
  },
  {
   "cell_type": "markdown",
   "metadata": {},
   "source": [
    "## 1) Augmented Dickey-Fuller Test for Stationarity"
   ]
  },
  {
   "cell_type": "code",
   "execution_count": 17,
   "metadata": {},
   "outputs": [],
   "source": [
    "# AD Fuller Test for Stationarity\n",
    "def adfuller_test(series):\n",
    "    r = adfuller(series, autolag='AIC')\n",
    "    output = {'test_statistic':round(r[0], 4), 'pvalue':round(r[1], 4), 'n_lags':round(r[2], 4), 'n_obs':r[3]}\n",
    "    p_value = output['pvalue']\n",
    "    return p_value,p_value <= 0.05"
   ]
  },
  {
   "cell_type": "code",
   "execution_count": 334,
   "metadata": {},
   "outputs": [
    {
     "data": {
      "text/plain": [
       "(0.0, True)"
      ]
     },
     "execution_count": 334,
     "metadata": {},
     "output_type": "execute_result"
    }
   ],
   "source": [
    "# STATIONARITY CHECK\n",
    "adfuller_test(train_diff2.deaths)   \n",
    "# adfuller_test(train_diff2.confirmed)\n",
    "# adfuller_test(train_diff2.recovered)"
   ]
  },
  {
   "cell_type": "code",
   "execution_count": 335,
   "metadata": {},
   "outputs": [
    {
     "data": {
      "text/plain": [
       "(0.0, True)"
      ]
     },
     "execution_count": 335,
     "metadata": {},
     "output_type": "execute_result"
    }
   ],
   "source": [
    "adfuller_test(train_diff2.deaths)"
   ]
  },
  {
   "cell_type": "code",
   "execution_count": 336,
   "metadata": {},
   "outputs": [
    {
     "data": {
      "text/plain": [
       "(0.0, True)"
      ]
     },
     "execution_count": 336,
     "metadata": {},
     "output_type": "execute_result"
    }
   ],
   "source": [
    "adfuller_test(train_diff2.confirmed)"
   ]
  },
  {
   "cell_type": "code",
   "execution_count": 337,
   "metadata": {},
   "outputs": [
    {
     "data": {
      "text/plain": [
       "(0.0, True)"
      ]
     },
     "execution_count": 337,
     "metadata": {},
     "output_type": "execute_result"
    }
   ],
   "source": [
    "adfuller_test(train_diff2.recovered)"
   ]
  },
  {
   "cell_type": "code",
   "execution_count": 338,
   "metadata": {},
   "outputs": [
    {
     "data": {
      "text/plain": [
       "<matplotlib.axes._subplots.AxesSubplot at 0x1fbecbcb948>"
      ]
     },
     "execution_count": 338,
     "metadata": {},
     "output_type": "execute_result"
    },
    {
     "data": {
      "image/png": "[encoded data removed]",
      "text/plain": [
       "<Figure size 432x288 with 1 Axes>"
      ]
     },
     "metadata": {
      "needs_background": "light"
     },
     "output_type": "display_data"
    }
   ],
   "source": [
    "train_diff2.deaths.plot()"
   ]
  },
  {
   "cell_type": "code",
   "execution_count": null,
   "metadata": {},
   "outputs": [],
   "source": []
  },
  {
   "cell_type": "markdown",
   "metadata": {},
   "source": [
    "## 2) Modeling"
   ]
  },
  {
   "cell_type": "code",
   "execution_count": null,
   "metadata": {},
   "outputs": [],
   "source": []
  },
  {
   "cell_type": "code",
   "execution_count": null,
   "metadata": {},
   "outputs": [],
   "source": []
  },
  {
   "cell_type": "code",
   "execution_count": 339,
   "metadata": {},
   "outputs": [
    {
     "name": "stderr",
     "output_type": "stream",
     "text": [
      "C:\\Users\\gdanish\\Anaconda3\\lib\\site-packages\\statsmodels\\tsa\\base\\tsa_model.py:162: ValueWarning: No frequency information was provided, so inferred frequency D will be used.\n",
      "  % freq, ValueWarning)\n"
     ]
    }
   ],
   "source": [
    "model = VAR(train_diff2)"
   ]
  },
  {
   "cell_type": "code",
   "execution_count": 340,
   "metadata": {},
   "outputs": [
    {
     "data": {
      "text/html": [
       "<table class=\"simpletable\">\n",
       "<caption>VAR Order Selection (* highlights the minimums)</caption>\n",
       "<tr>\n",
       "   <td></td>      <th>AIC</th>         <th>BIC</th>         <th>FPE</th>        <th>HQIC</th>    \n",
       "</tr>\n",
       "<tr>\n",
       "  <th>0</th>  <td>     2.653</td>  <td>     2.746</td>  <td>     14.19</td>  <td>     2.690</td> \n",
       "</tr>\n",
       "<tr>\n",
       "  <th>1</th>  <td>    0.4848</td>  <td>    0.8585</td>  <td>     1.624</td>  <td>    0.6339</td> \n",
       "</tr>\n",
       "<tr>\n",
       "  <th>2</th>  <td>   -0.6011</td>  <td>   0.05271</td>  <td>    0.5491</td>  <td>   -0.3403</td> \n",
       "</tr>\n",
       "<tr>\n",
       "  <th>3</th>  <td>    -1.352</td>  <td>   -0.4180*</td> <td>    0.2600</td>  <td>   -0.9795</td> \n",
       "</tr>\n",
       "<tr>\n",
       "  <th>4</th>  <td>    -1.601</td>  <td>   -0.3864</td>  <td>    0.2040</td>  <td>    -1.116</td> \n",
       "</tr>\n",
       "<tr>\n",
       "  <th>5</th>  <td>    -1.761</td>  <td>   -0.2660</td>  <td>    0.1756</td>  <td>    -1.164</td> \n",
       "</tr>\n",
       "<tr>\n",
       "  <th>6</th>  <td>    -1.935</td>  <td>   -0.1602</td>  <td>    0.1496</td>  <td>    -1.227</td> \n",
       "</tr>\n",
       "<tr>\n",
       "  <th>7</th>  <td>    -2.118</td>  <td>  -0.06282</td>  <td>    0.1272</td>  <td>    -1.298</td> \n",
       "</tr>\n",
       "<tr>\n",
       "  <th>8</th>  <td>    -2.241</td>  <td>   0.09384</td>  <td>    0.1155</td>  <td>    -1.310*</td>\n",
       "</tr>\n",
       "<tr>\n",
       "  <th>9</th>  <td>    -2.350*</td> <td>    0.2649</td>  <td>    0.1073*</td> <td>    -1.307</td> \n",
       "</tr>\n",
       "<tr>\n",
       "  <th>10</th> <td>    -2.235</td>  <td>    0.6607</td>  <td>    0.1262</td>  <td>    -1.080</td> \n",
       "</tr>\n",
       "<tr>\n",
       "  <th>11</th> <td>    -2.166</td>  <td>     1.009</td>  <td>    0.1432</td>  <td>   -0.8995</td> \n",
       "</tr>\n",
       "<tr>\n",
       "  <th>12</th> <td>    -2.316</td>  <td>     1.140</td>  <td>    0.1326</td>  <td>   -0.9377</td> \n",
       "</tr>\n",
       "</table>"
      ],
      "text/plain": [
       "<class 'statsmodels.iolib.table.SimpleTable'>"
      ]
     },
     "execution_count": 340,
     "metadata": {},
     "output_type": "execute_result"
    }
   ],
   "source": [
    "x = model.select_order(maxlags=12)\n",
    "x.summary()"
   ]
  },
  {
   "cell_type": "code",
   "execution_count": 344,
   "metadata": {},
   "outputs": [
    {
     "data": {
      "text/plain": [
       "1.0986122886681098"
      ]
     },
     "execution_count": 344,
     "metadata": {},
     "output_type": "execute_result"
    }
   ],
   "source": [
    "np.log(3)"
   ]
  },
  {
   "cell_type": "code",
   "execution_count": 347,
   "metadata": {},
   "outputs": [
    {
     "data": {
      "text/plain": [
       "3.0000000000000004"
      ]
     },
     "execution_count": 347,
     "metadata": {},
     "output_type": "execute_result"
    }
   ],
   "source": [
    "np.exp(1.0986122886681098)"
   ]
  },
  {
   "cell_type": "code",
   "execution_count": 341,
   "metadata": {},
   "outputs": [
    {
     "data": {
      "text/plain": [
       "  Summary of Regression Results   \n",
       "==================================\n",
       "Model:                         VAR\n",
       "Method:                        OLS\n",
       "Date:           Fri, 08, May, 2020\n",
       "Time:                     08:36:36\n",
       "--------------------------------------------------------------------\n",
       "No. of Equations:         3.00000    BIC:                  -0.838114\n",
       "Nobs:                     82.0000    HQIC:                  -1.52321\n",
       "Log likelihood:          -228.765    FPE:                   0.138805\n",
       "AIC:                     -1.98277    Det(Omega_mle):       0.0892642\n",
       "--------------------------------------------------------------------\n",
       "Results for equation deaths\n",
       "===============================================================================\n",
       "                  coefficient       std. error           t-stat            prob\n",
       "-------------------------------------------------------------------------------\n",
       "const                0.006819         0.063681            0.107           0.915\n",
       "L1.deaths           -1.491085         0.124681          -11.959           0.000\n",
       "L1.confirmed         0.040769         0.104804            0.389           0.697\n",
       "L1.recovered         0.045201         0.085996            0.526           0.599\n",
       "L2.deaths           -1.599316         0.199093           -8.033           0.000\n",
       "L2.confirmed         0.043825         0.170922            0.256           0.798\n",
       "L2.recovered         0.110584         0.136123            0.812           0.417\n",
       "L3.deaths           -1.085827         0.201607           -5.386           0.000\n",
       "L3.confirmed        -0.008171         0.167338           -0.049           0.961\n",
       "L3.recovered        -0.051638         0.124922           -0.413           0.679\n",
       "L4.deaths           -0.402660         0.126371           -3.186           0.001\n",
       "L4.confirmed        -0.193186         0.103921           -1.859           0.063\n",
       "L4.recovered        -0.033170         0.074285           -0.447           0.655\n",
       "===============================================================================\n",
       "\n",
       "Results for equation confirmed\n",
       "===============================================================================\n",
       "                  coefficient       std. error           t-stat            prob\n",
       "-------------------------------------------------------------------------------\n",
       "const                0.003980         0.084821            0.047           0.963\n",
       "L1.deaths            0.004837         0.166071            0.029           0.977\n",
       "L1.confirmed        -1.409605         0.139595          -10.098           0.000\n",
       "L1.recovered        -0.030994         0.114544           -0.271           0.787\n",
       "L2.deaths           -0.190187         0.265185           -0.717           0.473\n",
       "L2.confirmed        -1.105703         0.227661           -4.857           0.000\n",
       "L2.recovered        -0.228185         0.181310           -1.259           0.208\n",
       "L3.deaths           -0.369092         0.268533           -1.374           0.169\n",
       "L3.confirmed        -0.612576         0.222888           -2.748           0.006\n",
       "L3.recovered        -0.338652         0.166391           -2.035           0.042\n",
       "L4.deaths           -0.199781         0.168322           -1.187           0.235\n",
       "L4.confirmed        -0.325881         0.138419           -2.354           0.019\n",
       "L4.recovered        -0.127321         0.098945           -1.287           0.198\n",
       "===============================================================================\n",
       "\n",
       "Results for equation recovered\n",
       "===============================================================================\n",
       "                  coefficient       std. error           t-stat            prob\n",
       "-------------------------------------------------------------------------------\n",
       "const                0.000474         0.090689            0.005           0.996\n",
       "L1.deaths           -0.084086         0.177559           -0.474           0.636\n",
       "L1.confirmed         0.137809         0.149252            0.923           0.356\n",
       "L1.recovered        -1.432876         0.122468          -11.700           0.000\n",
       "L2.deaths            0.077472         0.283530            0.273           0.785\n",
       "L2.confirmed         0.388728         0.243411            1.597           0.110\n",
       "L2.recovered        -1.071560         0.193853           -5.528           0.000\n",
       "L3.deaths            0.008049         0.287110            0.028           0.978\n",
       "L3.confirmed         0.402278         0.238307            1.688           0.091\n",
       "L3.recovered        -0.736663         0.177902           -4.141           0.000\n",
       "L4.deaths           -0.203253         0.179966           -1.129           0.259\n",
       "L4.confirmed         0.072129         0.147994            0.487           0.626\n",
       "L4.recovered        -0.328863         0.105789           -3.109           0.002\n",
       "===============================================================================\n",
       "\n",
       "Correlation matrix of residuals\n",
       "               deaths  confirmed  recovered\n",
       "deaths       1.000000   0.459882   0.135791\n",
       "confirmed    0.459882   1.000000   0.376121\n",
       "recovered    0.135791   0.376121   1.000000\n",
       "\n"
      ]
     },
     "execution_count": 341,
     "metadata": {},
     "output_type": "execute_result"
    }
   ],
   "source": [
    "res = model.fit(4)\n",
    "res.summary()"
   ]
  },
  {
   "cell_type": "markdown",
   "metadata": {},
   "source": [
    "## 3) Derby-Watson Test for Serial Correlation"
   ]
  },
  {
   "cell_type": "code",
   "execution_count": 264,
   "metadata": {},
   "outputs": [],
   "source": [
    "from statsmodels.stats.stattools import durbin_watson\n",
    "out = durbin_watson(res.resid)"
   ]
  },
  {
   "cell_type": "code",
   "execution_count": 265,
   "metadata": {},
   "outputs": [
    {
     "data": {
      "text/plain": [
       "array([2.18080916, 2.09025911, 2.16497008])"
      ]
     },
     "execution_count": 265,
     "metadata": {},
     "output_type": "execute_result"
    }
   ],
   "source": [
    "# Values around 2 is ok\n",
    "out"
   ]
  },
  {
   "cell_type": "code",
   "execution_count": 24,
   "metadata": {},
   "outputs": [],
   "source": [
    "lag_order = res.k_ar"
   ]
  },
  {
   "cell_type": "code",
   "execution_count": 25,
   "metadata": {},
   "outputs": [
    {
     "data": {
      "text/plain": [
       "4"
      ]
     },
     "execution_count": 25,
     "metadata": {},
     "output_type": "execute_result"
    }
   ],
   "source": [
    "lag_order"
   ]
  },
  {
   "cell_type": "code",
   "execution_count": 26,
   "metadata": {},
   "outputs": [
    {
     "data": {
      "text/plain": [
       "array([[ 0.07822199,  0.12654783,  0.09789715],\n",
       "       [-0.07568877, -0.06233162,  0.59755565],\n",
       "       [ 0.0413665 , -0.06507363, -1.1560526 ],\n",
       "       [-0.48776755, -0.11923886,  0.62493768]])"
      ]
     },
     "execution_count": 26,
     "metadata": {},
     "output_type": "execute_result"
    }
   ],
   "source": [
    "forecast_input = train_diff2.values[-lag_order:]\n",
    "forecast_input"
   ]
  },
  {
   "cell_type": "code",
   "execution_count": 27,
   "metadata": {},
   "outputs": [],
   "source": [
    "pred = res.forecast(forecast_input, 20)"
   ]
  },
  {
   "cell_type": "code",
   "execution_count": 28,
   "metadata": {},
   "outputs": [
    {
     "data": {
      "text/plain": [
       "array([[ 6.54885572e-01,  2.34242113e-01,  3.92749441e-02],\n",
       "       [-2.78468356e-01, -3.98850502e-02, -1.14860908e-01],\n",
       "       [-1.88748383e-01, -2.51539901e-01, -1.18963005e-01],\n",
       "       [ 2.48317125e-01,  2.72666592e-01,  1.22789561e-01],\n",
       "       [-8.34940994e-02, -1.11080376e-01,  7.39748320e-02],\n",
       "       [-3.04974213e-02, -4.41108078e-03, -1.95181044e-01],\n",
       "       [-3.15123640e-02, -2.49932235e-02,  1.19917389e-01],\n",
       "       [ 8.35587968e-02,  3.97059826e-02, -1.43515315e-02],\n",
       "       [-8.68303703e-02, -1.23239707e-02, -2.90113610e-02],\n",
       "       [ 2.44441447e-02, -3.30019162e-02,  1.09613727e-02],\n",
       "       [-1.17158609e-02,  2.24630198e-02, -1.31673070e-02],\n",
       "       [ 4.84618673e-03, -1.39550469e-02,  1.76444089e-02],\n",
       "       [-2.13777074e-02,  1.99967592e-04, -2.66945548e-02],\n",
       "       [-6.46031337e-03, -1.09893597e-02,  1.30632181e-02],\n",
       "       [ 1.11223320e-02,  3.72285107e-03, -8.90326232e-03],\n",
       "       [-2.76163159e-02, -1.04095112e-02, -3.73417588e-03],\n",
       "       [ 8.33193858e-03, -1.33758414e-03,  5.00494382e-04],\n",
       "       [-1.51852662e-02, -3.41317021e-03, -5.36222332e-03],\n",
       "       [-8.29558356e-04, -6.29646598e-03, -1.87076311e-03],\n",
       "       [-9.22243942e-03, -2.48005441e-03, -4.48597246e-03]])"
      ]
     },
     "execution_count": 28,
     "metadata": {},
     "output_type": "execute_result"
    }
   ],
   "source": [
    "pred"
   ]
  },
  {
   "cell_type": "code",
   "execution_count": 29,
   "metadata": {},
   "outputs": [
    {
     "data": {
      "text/plain": [
       "20"
      ]
     },
     "execution_count": 29,
     "metadata": {},
     "output_type": "execute_result"
    }
   ],
   "source": [
    "len(pred)"
   ]
  },
  {
   "cell_type": "code",
   "execution_count": 30,
   "metadata": {},
   "outputs": [
    {
     "data": {
      "text/html": [
       "<div>\n",
       "<style scoped>\n",
       "    .dataframe tbody tr th:only-of-type {\n",
       "        vertical-align: middle;\n",
       "    }\n",
       "\n",
       "    .dataframe tbody tr th {\n",
       "        vertical-align: top;\n",
       "    }\n",
       "\n",
       "    .dataframe thead th {\n",
       "        text-align: right;\n",
       "    }\n",
       "</style>\n",
       "<table border=\"1\" class=\"dataframe\">\n",
       "  <thead>\n",
       "    <tr style=\"text-align: right;\">\n",
       "      <th></th>\n",
       "      <th>deaths</th>\n",
       "      <th>confirmed</th>\n",
       "      <th>recovered</th>\n",
       "    </tr>\n",
       "    <tr>\n",
       "      <th>Date</th>\n",
       "      <th></th>\n",
       "      <th></th>\n",
       "      <th></th>\n",
       "    </tr>\n",
       "  </thead>\n",
       "  <tbody>\n",
       "    <tr>\n",
       "      <th>2020-01-24</th>\n",
       "      <td>4.912655</td>\n",
       "      <td>2.788211</td>\n",
       "      <td>3.737670</td>\n",
       "    </tr>\n",
       "    <tr>\n",
       "      <th>2020-01-25</th>\n",
       "      <td>-1.386294</td>\n",
       "      <td>-0.523335</td>\n",
       "      <td>-1.791759</td>\n",
       "    </tr>\n",
       "    <tr>\n",
       "      <th>2020-01-26</th>\n",
       "      <td>-0.826679</td>\n",
       "      <td>-0.213578</td>\n",
       "      <td>2.159484</td>\n",
       "    </tr>\n",
       "    <tr>\n",
       "      <th>2020-01-27</th>\n",
       "      <td>0.752571</td>\n",
       "      <td>-0.159608</td>\n",
       "      <td>-1.834062</td>\n",
       "    </tr>\n",
       "    <tr>\n",
       "      <th>2020-01-28</th>\n",
       "      <td>0.014685</td>\n",
       "      <td>1.019052</td>\n",
       "      <td>1.999142</td>\n",
       "    </tr>\n",
       "    <tr>\n",
       "      <th>...</th>\n",
       "      <td>...</td>\n",
       "      <td>...</td>\n",
       "      <td>...</td>\n",
       "    </tr>\n",
       "    <tr>\n",
       "      <th>2020-04-22</th>\n",
       "      <td>-0.360064</td>\n",
       "      <td>-0.109088</td>\n",
       "      <td>-0.589990</td>\n",
       "    </tr>\n",
       "    <tr>\n",
       "      <th>2020-04-23</th>\n",
       "      <td>0.078222</td>\n",
       "      <td>0.126548</td>\n",
       "      <td>0.097897</td>\n",
       "    </tr>\n",
       "    <tr>\n",
       "      <th>2020-04-24</th>\n",
       "      <td>-0.075689</td>\n",
       "      <td>-0.062332</td>\n",
       "      <td>0.597556</td>\n",
       "    </tr>\n",
       "    <tr>\n",
       "      <th>2020-04-25</th>\n",
       "      <td>0.041366</td>\n",
       "      <td>-0.065074</td>\n",
       "      <td>-1.156053</td>\n",
       "    </tr>\n",
       "    <tr>\n",
       "      <th>2020-04-26</th>\n",
       "      <td>-0.487768</td>\n",
       "      <td>-0.119239</td>\n",
       "      <td>0.624938</td>\n",
       "    </tr>\n",
       "  </tbody>\n",
       "</table>\n",
       "<p>94 rows × 3 columns</p>\n",
       "</div>"
      ],
      "text/plain": [
       "              deaths  confirmed  recovered\n",
       "Date                                      \n",
       "2020-01-24  4.912655   2.788211   3.737670\n",
       "2020-01-25 -1.386294  -0.523335  -1.791759\n",
       "2020-01-26 -0.826679  -0.213578   2.159484\n",
       "2020-01-27  0.752571  -0.159608  -1.834062\n",
       "2020-01-28  0.014685   1.019052   1.999142\n",
       "...              ...        ...        ...\n",
       "2020-04-22 -0.360064  -0.109088  -0.589990\n",
       "2020-04-23  0.078222   0.126548   0.097897\n",
       "2020-04-24 -0.075689  -0.062332   0.597556\n",
       "2020-04-25  0.041366  -0.065074  -1.156053\n",
       "2020-04-26 -0.487768  -0.119239   0.624938\n",
       "\n",
       "[94 rows x 3 columns]"
      ]
     },
     "execution_count": 30,
     "metadata": {},
     "output_type": "execute_result"
    }
   ],
   "source": [
    "train_diff2"
   ]
  },
  {
   "cell_type": "code",
   "execution_count": 32,
   "metadata": {},
   "outputs": [],
   "source": [
    "import datetime"
   ]
  },
  {
   "cell_type": "code",
   "execution_count": 33,
   "metadata": {},
   "outputs": [],
   "source": [
    "start_date = train_diff2.index[-1] + datetime.timedelta(1)"
   ]
  },
  {
   "cell_type": "code",
   "execution_count": 34,
   "metadata": {},
   "outputs": [],
   "source": [
    "end_date = start_date + datetime.timedelta(10+10-1)"
   ]
  },
  {
   "cell_type": "code",
   "execution_count": 35,
   "metadata": {},
   "outputs": [],
   "source": [
    "start_date = str(start_date)[:10]\n",
    "end_date = str(end_date)[:10]"
   ]
  },
  {
   "cell_type": "code",
   "execution_count": 36,
   "metadata": {},
   "outputs": [],
   "source": [
    "idx = pd.date_range(start=start_date, end=end_date)"
   ]
  },
  {
   "cell_type": "code",
   "execution_count": 37,
   "metadata": {},
   "outputs": [
    {
     "data": {
      "text/plain": [
       "DatetimeIndex(['2020-04-27', '2020-04-28', '2020-04-29', '2020-04-30',\n",
       "               '2020-05-01', '2020-05-02', '2020-05-03', '2020-05-04',\n",
       "               '2020-05-05', '2020-05-06', '2020-05-07', '2020-05-08',\n",
       "               '2020-05-09', '2020-05-10', '2020-05-11', '2020-05-12',\n",
       "               '2020-05-13', '2020-05-14', '2020-05-15', '2020-05-16'],\n",
       "              dtype='datetime64[ns]', freq='D')"
      ]
     },
     "execution_count": 37,
     "metadata": {},
     "output_type": "execute_result"
    }
   ],
   "source": [
    "idx"
   ]
  },
  {
   "cell_type": "code",
   "execution_count": 38,
   "metadata": {},
   "outputs": [],
   "source": [
    "pred_df = pd.DataFrame(pred, index=idx, columns=train_diff2.columns + '_2d')"
   ]
  },
  {
   "cell_type": "code",
   "execution_count": 39,
   "metadata": {},
   "outputs": [
    {
     "data": {
      "text/html": [
       "<div>\n",
       "<style scoped>\n",
       "    .dataframe tbody tr th:only-of-type {\n",
       "        vertical-align: middle;\n",
       "    }\n",
       "\n",
       "    .dataframe tbody tr th {\n",
       "        vertical-align: top;\n",
       "    }\n",
       "\n",
       "    .dataframe thead th {\n",
       "        text-align: right;\n",
       "    }\n",
       "</style>\n",
       "<table border=\"1\" class=\"dataframe\">\n",
       "  <thead>\n",
       "    <tr style=\"text-align: right;\">\n",
       "      <th></th>\n",
       "      <th>deaths_2d</th>\n",
       "      <th>confirmed_2d</th>\n",
       "      <th>recovered_2d</th>\n",
       "    </tr>\n",
       "  </thead>\n",
       "  <tbody>\n",
       "    <tr>\n",
       "      <th>2020-04-27</th>\n",
       "      <td>0.654886</td>\n",
       "      <td>0.234242</td>\n",
       "      <td>0.039275</td>\n",
       "    </tr>\n",
       "    <tr>\n",
       "      <th>2020-04-28</th>\n",
       "      <td>-0.278468</td>\n",
       "      <td>-0.039885</td>\n",
       "      <td>-0.114861</td>\n",
       "    </tr>\n",
       "    <tr>\n",
       "      <th>2020-04-29</th>\n",
       "      <td>-0.188748</td>\n",
       "      <td>-0.251540</td>\n",
       "      <td>-0.118963</td>\n",
       "    </tr>\n",
       "    <tr>\n",
       "      <th>2020-04-30</th>\n",
       "      <td>0.248317</td>\n",
       "      <td>0.272667</td>\n",
       "      <td>0.122790</td>\n",
       "    </tr>\n",
       "    <tr>\n",
       "      <th>2020-05-01</th>\n",
       "      <td>-0.083494</td>\n",
       "      <td>-0.111080</td>\n",
       "      <td>0.073975</td>\n",
       "    </tr>\n",
       "    <tr>\n",
       "      <th>2020-05-02</th>\n",
       "      <td>-0.030497</td>\n",
       "      <td>-0.004411</td>\n",
       "      <td>-0.195181</td>\n",
       "    </tr>\n",
       "    <tr>\n",
       "      <th>2020-05-03</th>\n",
       "      <td>-0.031512</td>\n",
       "      <td>-0.024993</td>\n",
       "      <td>0.119917</td>\n",
       "    </tr>\n",
       "    <tr>\n",
       "      <th>2020-05-04</th>\n",
       "      <td>0.083559</td>\n",
       "      <td>0.039706</td>\n",
       "      <td>-0.014352</td>\n",
       "    </tr>\n",
       "    <tr>\n",
       "      <th>2020-05-05</th>\n",
       "      <td>-0.086830</td>\n",
       "      <td>-0.012324</td>\n",
       "      <td>-0.029011</td>\n",
       "    </tr>\n",
       "    <tr>\n",
       "      <th>2020-05-06</th>\n",
       "      <td>0.024444</td>\n",
       "      <td>-0.033002</td>\n",
       "      <td>0.010961</td>\n",
       "    </tr>\n",
       "    <tr>\n",
       "      <th>2020-05-07</th>\n",
       "      <td>-0.011716</td>\n",
       "      <td>0.022463</td>\n",
       "      <td>-0.013167</td>\n",
       "    </tr>\n",
       "    <tr>\n",
       "      <th>2020-05-08</th>\n",
       "      <td>0.004846</td>\n",
       "      <td>-0.013955</td>\n",
       "      <td>0.017644</td>\n",
       "    </tr>\n",
       "    <tr>\n",
       "      <th>2020-05-09</th>\n",
       "      <td>-0.021378</td>\n",
       "      <td>0.000200</td>\n",
       "      <td>-0.026695</td>\n",
       "    </tr>\n",
       "    <tr>\n",
       "      <th>2020-05-10</th>\n",
       "      <td>-0.006460</td>\n",
       "      <td>-0.010989</td>\n",
       "      <td>0.013063</td>\n",
       "    </tr>\n",
       "    <tr>\n",
       "      <th>2020-05-11</th>\n",
       "      <td>0.011122</td>\n",
       "      <td>0.003723</td>\n",
       "      <td>-0.008903</td>\n",
       "    </tr>\n",
       "    <tr>\n",
       "      <th>2020-05-12</th>\n",
       "      <td>-0.027616</td>\n",
       "      <td>-0.010410</td>\n",
       "      <td>-0.003734</td>\n",
       "    </tr>\n",
       "    <tr>\n",
       "      <th>2020-05-13</th>\n",
       "      <td>0.008332</td>\n",
       "      <td>-0.001338</td>\n",
       "      <td>0.000500</td>\n",
       "    </tr>\n",
       "    <tr>\n",
       "      <th>2020-05-14</th>\n",
       "      <td>-0.015185</td>\n",
       "      <td>-0.003413</td>\n",
       "      <td>-0.005362</td>\n",
       "    </tr>\n",
       "    <tr>\n",
       "      <th>2020-05-15</th>\n",
       "      <td>-0.000830</td>\n",
       "      <td>-0.006296</td>\n",
       "      <td>-0.001871</td>\n",
       "    </tr>\n",
       "    <tr>\n",
       "      <th>2020-05-16</th>\n",
       "      <td>-0.009222</td>\n",
       "      <td>-0.002480</td>\n",
       "      <td>-0.004486</td>\n",
       "    </tr>\n",
       "  </tbody>\n",
       "</table>\n",
       "</div>"
      ],
      "text/plain": [
       "            deaths_2d  confirmed_2d  recovered_2d\n",
       "2020-04-27   0.654886      0.234242      0.039275\n",
       "2020-04-28  -0.278468     -0.039885     -0.114861\n",
       "2020-04-29  -0.188748     -0.251540     -0.118963\n",
       "2020-04-30   0.248317      0.272667      0.122790\n",
       "2020-05-01  -0.083494     -0.111080      0.073975\n",
       "2020-05-02  -0.030497     -0.004411     -0.195181\n",
       "2020-05-03  -0.031512     -0.024993      0.119917\n",
       "2020-05-04   0.083559      0.039706     -0.014352\n",
       "2020-05-05  -0.086830     -0.012324     -0.029011\n",
       "2020-05-06   0.024444     -0.033002      0.010961\n",
       "2020-05-07  -0.011716      0.022463     -0.013167\n",
       "2020-05-08   0.004846     -0.013955      0.017644\n",
       "2020-05-09  -0.021378      0.000200     -0.026695\n",
       "2020-05-10  -0.006460     -0.010989      0.013063\n",
       "2020-05-11   0.011122      0.003723     -0.008903\n",
       "2020-05-12  -0.027616     -0.010410     -0.003734\n",
       "2020-05-13   0.008332     -0.001338      0.000500\n",
       "2020-05-14  -0.015185     -0.003413     -0.005362\n",
       "2020-05-15  -0.000830     -0.006296     -0.001871\n",
       "2020-05-16  -0.009222     -0.002480     -0.004486"
      ]
     },
     "execution_count": 39,
     "metadata": {},
     "output_type": "execute_result"
    }
   ],
   "source": [
    "pred_df"
   ]
  },
  {
   "cell_type": "code",
   "execution_count": 40,
   "metadata": {},
   "outputs": [],
   "source": [
    "def invert_transformation(df_forecast, second_diff=False, third_diff=False):\n",
    "    \"\"\"Revert back the differencing to get the forecast to original scale.\"\"\"\n",
    "    df_fc = df_forecast.copy()\n",
    "    columns = train.columns\n",
    "    for col in columns:        \n",
    "        # Roll back 3rd Diff\n",
    "        if third_diff:\n",
    "            df_fc[str(col)+'_2d'] = train_diff2[col].iloc[-1] + df_fc[str(col)+'_3d'].cumsum()\n",
    "#             df_fc[str(col)+'_2d'] = (df_train[col].iloc[-1]-df_train[col].iloc[-2]) - (df_train[col].iloc[-2]-df_train[col].iloc[-3]) + df_fc[str(col)+'_3d'].cumsum()        \n",
    "        # Roll back 2nd Diff\n",
    "        elif second_diff:\n",
    "            df_fc[str(col)+'_1d'] = train_diff1[col].iloc[-1] + df_fc[str(col)+'_2d'].cumsum()\n",
    "#             df_fc[str(col)+'_1d'] = (df_train[col].iloc[-1]-df_train[col].iloc[-2]) + df_fc[str(col)+'_2d'].cumsum()\n",
    "        # Roll back 1st Diff\n",
    "        else:\n",
    "            df_fc[str(col)+'_forecast'] = round(np.exp(train_log[col].iloc[-1] + df_fc[str(col)+'_1d'].cumsum()))\n",
    "    return df_fc"
   ]
  },
  {
   "cell_type": "code",
   "execution_count": 41,
   "metadata": {},
   "outputs": [
    {
     "data": {
      "text/html": [
       "<div>\n",
       "<style scoped>\n",
       "    .dataframe tbody tr th:only-of-type {\n",
       "        vertical-align: middle;\n",
       "    }\n",
       "\n",
       "    .dataframe tbody tr th {\n",
       "        vertical-align: top;\n",
       "    }\n",
       "\n",
       "    .dataframe thead th {\n",
       "        text-align: right;\n",
       "    }\n",
       "</style>\n",
       "<table border=\"1\" class=\"dataframe\">\n",
       "  <thead>\n",
       "    <tr style=\"text-align: right;\">\n",
       "      <th></th>\n",
       "      <th>deaths</th>\n",
       "      <th>confirmed</th>\n",
       "      <th>recovered</th>\n",
       "    </tr>\n",
       "    <tr>\n",
       "      <th>Date</th>\n",
       "      <th></th>\n",
       "      <th></th>\n",
       "      <th></th>\n",
       "    </tr>\n",
       "  </thead>\n",
       "  <tbody>\n",
       "    <tr>\n",
       "      <th>2020-01-23</th>\n",
       "      <td>-2.833213</td>\n",
       "      <td>-1.723848</td>\n",
       "      <td>-2.639057</td>\n",
       "    </tr>\n",
       "    <tr>\n",
       "      <th>2020-01-24</th>\n",
       "      <td>2.079442</td>\n",
       "      <td>1.064362</td>\n",
       "      <td>1.098612</td>\n",
       "    </tr>\n",
       "    <tr>\n",
       "      <th>2020-01-25</th>\n",
       "      <td>0.693147</td>\n",
       "      <td>0.541027</td>\n",
       "      <td>-0.693147</td>\n",
       "    </tr>\n",
       "    <tr>\n",
       "      <th>2020-01-26</th>\n",
       "      <td>-0.133531</td>\n",
       "      <td>0.327449</td>\n",
       "      <td>1.466337</td>\n",
       "    </tr>\n",
       "    <tr>\n",
       "      <th>2020-01-27</th>\n",
       "      <td>0.619039</td>\n",
       "      <td>0.167841</td>\n",
       "      <td>-0.367725</td>\n",
       "    </tr>\n",
       "    <tr>\n",
       "      <th>...</th>\n",
       "      <td>...</td>\n",
       "      <td>...</td>\n",
       "      <td>...</td>\n",
       "    </tr>\n",
       "    <tr>\n",
       "      <th>2020-04-22</th>\n",
       "      <td>-0.066904</td>\n",
       "      <td>-0.023050</td>\n",
       "      <td>-0.137629</td>\n",
       "    </tr>\n",
       "    <tr>\n",
       "      <th>2020-04-23</th>\n",
       "      <td>0.011318</td>\n",
       "      <td>0.103498</td>\n",
       "      <td>-0.039732</td>\n",
       "    </tr>\n",
       "    <tr>\n",
       "      <th>2020-04-24</th>\n",
       "      <td>-0.064371</td>\n",
       "      <td>0.041167</td>\n",
       "      <td>0.557824</td>\n",
       "    </tr>\n",
       "    <tr>\n",
       "      <th>2020-04-25</th>\n",
       "      <td>-0.023004</td>\n",
       "      <td>-0.023907</td>\n",
       "      <td>-0.598229</td>\n",
       "    </tr>\n",
       "    <tr>\n",
       "      <th>2020-04-26</th>\n",
       "      <td>-0.510772</td>\n",
       "      <td>-0.143146</td>\n",
       "      <td>0.026709</td>\n",
       "    </tr>\n",
       "  </tbody>\n",
       "</table>\n",
       "<p>95 rows × 3 columns</p>\n",
       "</div>"
      ],
      "text/plain": [
       "              deaths  confirmed  recovered\n",
       "Date                                      \n",
       "2020-01-23 -2.833213  -1.723848  -2.639057\n",
       "2020-01-24  2.079442   1.064362   1.098612\n",
       "2020-01-25  0.693147   0.541027  -0.693147\n",
       "2020-01-26 -0.133531   0.327449   1.466337\n",
       "2020-01-27  0.619039   0.167841  -0.367725\n",
       "...              ...        ...        ...\n",
       "2020-04-22 -0.066904  -0.023050  -0.137629\n",
       "2020-04-23  0.011318   0.103498  -0.039732\n",
       "2020-04-24 -0.064371   0.041167   0.557824\n",
       "2020-04-25 -0.023004  -0.023907  -0.598229\n",
       "2020-04-26 -0.510772  -0.143146   0.026709\n",
       "\n",
       "[95 rows x 3 columns]"
      ]
     },
     "execution_count": 41,
     "metadata": {},
     "output_type": "execute_result"
    }
   ],
   "source": [
    "train_diff1"
   ]
  },
  {
   "cell_type": "code",
   "execution_count": 42,
   "metadata": {},
   "outputs": [
    {
     "data": {
      "text/html": [
       "<div>\n",
       "<style scoped>\n",
       "    .dataframe tbody tr th:only-of-type {\n",
       "        vertical-align: middle;\n",
       "    }\n",
       "\n",
       "    .dataframe tbody tr th {\n",
       "        vertical-align: top;\n",
       "    }\n",
       "\n",
       "    .dataframe thead th {\n",
       "        text-align: right;\n",
       "    }\n",
       "</style>\n",
       "<table border=\"1\" class=\"dataframe\">\n",
       "  <thead>\n",
       "    <tr style=\"text-align: right;\">\n",
       "      <th></th>\n",
       "      <th>deaths_2d</th>\n",
       "      <th>confirmed_2d</th>\n",
       "      <th>recovered_2d</th>\n",
       "    </tr>\n",
       "  </thead>\n",
       "  <tbody>\n",
       "    <tr>\n",
       "      <th>2020-04-27</th>\n",
       "      <td>0.654886</td>\n",
       "      <td>0.234242</td>\n",
       "      <td>0.039275</td>\n",
       "    </tr>\n",
       "    <tr>\n",
       "      <th>2020-04-28</th>\n",
       "      <td>-0.278468</td>\n",
       "      <td>-0.039885</td>\n",
       "      <td>-0.114861</td>\n",
       "    </tr>\n",
       "    <tr>\n",
       "      <th>2020-04-29</th>\n",
       "      <td>-0.188748</td>\n",
       "      <td>-0.251540</td>\n",
       "      <td>-0.118963</td>\n",
       "    </tr>\n",
       "    <tr>\n",
       "      <th>2020-04-30</th>\n",
       "      <td>0.248317</td>\n",
       "      <td>0.272667</td>\n",
       "      <td>0.122790</td>\n",
       "    </tr>\n",
       "    <tr>\n",
       "      <th>2020-05-01</th>\n",
       "      <td>-0.083494</td>\n",
       "      <td>-0.111080</td>\n",
       "      <td>0.073975</td>\n",
       "    </tr>\n",
       "    <tr>\n",
       "      <th>2020-05-02</th>\n",
       "      <td>-0.030497</td>\n",
       "      <td>-0.004411</td>\n",
       "      <td>-0.195181</td>\n",
       "    </tr>\n",
       "    <tr>\n",
       "      <th>2020-05-03</th>\n",
       "      <td>-0.031512</td>\n",
       "      <td>-0.024993</td>\n",
       "      <td>0.119917</td>\n",
       "    </tr>\n",
       "    <tr>\n",
       "      <th>2020-05-04</th>\n",
       "      <td>0.083559</td>\n",
       "      <td>0.039706</td>\n",
       "      <td>-0.014352</td>\n",
       "    </tr>\n",
       "    <tr>\n",
       "      <th>2020-05-05</th>\n",
       "      <td>-0.086830</td>\n",
       "      <td>-0.012324</td>\n",
       "      <td>-0.029011</td>\n",
       "    </tr>\n",
       "    <tr>\n",
       "      <th>2020-05-06</th>\n",
       "      <td>0.024444</td>\n",
       "      <td>-0.033002</td>\n",
       "      <td>0.010961</td>\n",
       "    </tr>\n",
       "    <tr>\n",
       "      <th>2020-05-07</th>\n",
       "      <td>-0.011716</td>\n",
       "      <td>0.022463</td>\n",
       "      <td>-0.013167</td>\n",
       "    </tr>\n",
       "    <tr>\n",
       "      <th>2020-05-08</th>\n",
       "      <td>0.004846</td>\n",
       "      <td>-0.013955</td>\n",
       "      <td>0.017644</td>\n",
       "    </tr>\n",
       "    <tr>\n",
       "      <th>2020-05-09</th>\n",
       "      <td>-0.021378</td>\n",
       "      <td>0.000200</td>\n",
       "      <td>-0.026695</td>\n",
       "    </tr>\n",
       "    <tr>\n",
       "      <th>2020-05-10</th>\n",
       "      <td>-0.006460</td>\n",
       "      <td>-0.010989</td>\n",
       "      <td>0.013063</td>\n",
       "    </tr>\n",
       "    <tr>\n",
       "      <th>2020-05-11</th>\n",
       "      <td>0.011122</td>\n",
       "      <td>0.003723</td>\n",
       "      <td>-0.008903</td>\n",
       "    </tr>\n",
       "    <tr>\n",
       "      <th>2020-05-12</th>\n",
       "      <td>-0.027616</td>\n",
       "      <td>-0.010410</td>\n",
       "      <td>-0.003734</td>\n",
       "    </tr>\n",
       "    <tr>\n",
       "      <th>2020-05-13</th>\n",
       "      <td>0.008332</td>\n",
       "      <td>-0.001338</td>\n",
       "      <td>0.000500</td>\n",
       "    </tr>\n",
       "    <tr>\n",
       "      <th>2020-05-14</th>\n",
       "      <td>-0.015185</td>\n",
       "      <td>-0.003413</td>\n",
       "      <td>-0.005362</td>\n",
       "    </tr>\n",
       "    <tr>\n",
       "      <th>2020-05-15</th>\n",
       "      <td>-0.000830</td>\n",
       "      <td>-0.006296</td>\n",
       "      <td>-0.001871</td>\n",
       "    </tr>\n",
       "    <tr>\n",
       "      <th>2020-05-16</th>\n",
       "      <td>-0.009222</td>\n",
       "      <td>-0.002480</td>\n",
       "      <td>-0.004486</td>\n",
       "    </tr>\n",
       "  </tbody>\n",
       "</table>\n",
       "</div>"
      ],
      "text/plain": [
       "            deaths_2d  confirmed_2d  recovered_2d\n",
       "2020-04-27   0.654886      0.234242      0.039275\n",
       "2020-04-28  -0.278468     -0.039885     -0.114861\n",
       "2020-04-29  -0.188748     -0.251540     -0.118963\n",
       "2020-04-30   0.248317      0.272667      0.122790\n",
       "2020-05-01  -0.083494     -0.111080      0.073975\n",
       "2020-05-02  -0.030497     -0.004411     -0.195181\n",
       "2020-05-03  -0.031512     -0.024993      0.119917\n",
       "2020-05-04   0.083559      0.039706     -0.014352\n",
       "2020-05-05  -0.086830     -0.012324     -0.029011\n",
       "2020-05-06   0.024444     -0.033002      0.010961\n",
       "2020-05-07  -0.011716      0.022463     -0.013167\n",
       "2020-05-08   0.004846     -0.013955      0.017644\n",
       "2020-05-09  -0.021378      0.000200     -0.026695\n",
       "2020-05-10  -0.006460     -0.010989      0.013063\n",
       "2020-05-11   0.011122      0.003723     -0.008903\n",
       "2020-05-12  -0.027616     -0.010410     -0.003734\n",
       "2020-05-13   0.008332     -0.001338      0.000500\n",
       "2020-05-14  -0.015185     -0.003413     -0.005362\n",
       "2020-05-15  -0.000830     -0.006296     -0.001871\n",
       "2020-05-16  -0.009222     -0.002480     -0.004486"
      ]
     },
     "execution_count": 42,
     "metadata": {},
     "output_type": "execute_result"
    }
   ],
   "source": [
    "pred_df"
   ]
  },
  {
   "cell_type": "code",
   "execution_count": 43,
   "metadata": {},
   "outputs": [],
   "source": [
    "# pred_df_inv2 = invert_transformation(pred_df, second_diff=False, third_diff=True)"
   ]
  },
  {
   "cell_type": "code",
   "execution_count": 44,
   "metadata": {},
   "outputs": [],
   "source": [
    "pred_df_inv1 = invert_transformation(pred_df, second_diff=True, third_diff=False)"
   ]
  },
  {
   "cell_type": "code",
   "execution_count": 45,
   "metadata": {},
   "outputs": [],
   "source": [
    "pred_df_inv = invert_transformation(pred_df_inv1, second_diff=False, third_diff=False)"
   ]
  },
  {
   "cell_type": "code",
   "execution_count": 46,
   "metadata": {},
   "outputs": [
    {
     "data": {
      "text/html": [
       "<div>\n",
       "<style scoped>\n",
       "    .dataframe tbody tr th:only-of-type {\n",
       "        vertical-align: middle;\n",
       "    }\n",
       "\n",
       "    .dataframe tbody tr th {\n",
       "        vertical-align: top;\n",
       "    }\n",
       "\n",
       "    .dataframe thead th {\n",
       "        text-align: right;\n",
       "    }\n",
       "</style>\n",
       "<table border=\"1\" class=\"dataframe\">\n",
       "  <thead>\n",
       "    <tr style=\"text-align: right;\">\n",
       "      <th></th>\n",
       "      <th>deaths_2d</th>\n",
       "      <th>confirmed_2d</th>\n",
       "      <th>recovered_2d</th>\n",
       "      <th>deaths_1d</th>\n",
       "      <th>confirmed_1d</th>\n",
       "      <th>recovered_1d</th>\n",
       "      <th>deaths_forecast</th>\n",
       "      <th>confirmed_forecast</th>\n",
       "      <th>recovered_forecast</th>\n",
       "    </tr>\n",
       "  </thead>\n",
       "  <tbody>\n",
       "    <tr>\n",
       "      <th>2020-04-27</th>\n",
       "      <td>0.654886</td>\n",
       "      <td>0.234242</td>\n",
       "      <td>0.039275</td>\n",
       "      <td>0.144114</td>\n",
       "      <td>0.091096</td>\n",
       "      <td>0.065984</td>\n",
       "      <td>4289.0</td>\n",
       "      <td>80940.0</td>\n",
       "      <td>30520.0</td>\n",
       "    </tr>\n",
       "    <tr>\n",
       "      <th>2020-04-28</th>\n",
       "      <td>-0.278468</td>\n",
       "      <td>-0.039885</td>\n",
       "      <td>-0.114861</td>\n",
       "      <td>-0.134355</td>\n",
       "      <td>0.051211</td>\n",
       "      <td>-0.048877</td>\n",
       "      <td>3749.0</td>\n",
       "      <td>85194.0</td>\n",
       "      <td>29064.0</td>\n",
       "    </tr>\n",
       "    <tr>\n",
       "      <th>2020-04-29</th>\n",
       "      <td>-0.188748</td>\n",
       "      <td>-0.251540</td>\n",
       "      <td>-0.118963</td>\n",
       "      <td>-0.323103</td>\n",
       "      <td>-0.200329</td>\n",
       "      <td>-0.167840</td>\n",
       "      <td>2714.0</td>\n",
       "      <td>69728.0</td>\n",
       "      <td>24573.0</td>\n",
       "    </tr>\n",
       "    <tr>\n",
       "      <th>2020-04-30</th>\n",
       "      <td>0.248317</td>\n",
       "      <td>0.272667</td>\n",
       "      <td>0.122790</td>\n",
       "      <td>-0.074786</td>\n",
       "      <td>0.072338</td>\n",
       "      <td>-0.045050</td>\n",
       "      <td>2519.0</td>\n",
       "      <td>74958.0</td>\n",
       "      <td>23491.0</td>\n",
       "    </tr>\n",
       "    <tr>\n",
       "      <th>2020-05-01</th>\n",
       "      <td>-0.083494</td>\n",
       "      <td>-0.111080</td>\n",
       "      <td>0.073975</td>\n",
       "      <td>-0.158280</td>\n",
       "      <td>-0.038743</td>\n",
       "      <td>0.028924</td>\n",
       "      <td>2150.0</td>\n",
       "      <td>72110.0</td>\n",
       "      <td>24180.0</td>\n",
       "    </tr>\n",
       "    <tr>\n",
       "      <th>2020-05-02</th>\n",
       "      <td>-0.030497</td>\n",
       "      <td>-0.004411</td>\n",
       "      <td>-0.195181</td>\n",
       "      <td>-0.188777</td>\n",
       "      <td>-0.043154</td>\n",
       "      <td>-0.166257</td>\n",
       "      <td>1780.0</td>\n",
       "      <td>69064.0</td>\n",
       "      <td>20476.0</td>\n",
       "    </tr>\n",
       "    <tr>\n",
       "      <th>2020-05-03</th>\n",
       "      <td>-0.031512</td>\n",
       "      <td>-0.024993</td>\n",
       "      <td>0.119917</td>\n",
       "      <td>-0.220290</td>\n",
       "      <td>-0.068147</td>\n",
       "      <td>-0.046339</td>\n",
       "      <td>1428.0</td>\n",
       "      <td>64515.0</td>\n",
       "      <td>19549.0</td>\n",
       "    </tr>\n",
       "    <tr>\n",
       "      <th>2020-05-04</th>\n",
       "      <td>0.083559</td>\n",
       "      <td>0.039706</td>\n",
       "      <td>-0.014352</td>\n",
       "      <td>-0.136731</td>\n",
       "      <td>-0.028441</td>\n",
       "      <td>-0.060691</td>\n",
       "      <td>1246.0</td>\n",
       "      <td>62706.0</td>\n",
       "      <td>18398.0</td>\n",
       "    </tr>\n",
       "    <tr>\n",
       "      <th>2020-05-05</th>\n",
       "      <td>-0.086830</td>\n",
       "      <td>-0.012324</td>\n",
       "      <td>-0.029011</td>\n",
       "      <td>-0.223561</td>\n",
       "      <td>-0.040765</td>\n",
       "      <td>-0.089702</td>\n",
       "      <td>996.0</td>\n",
       "      <td>60201.0</td>\n",
       "      <td>16820.0</td>\n",
       "    </tr>\n",
       "    <tr>\n",
       "      <th>2020-05-06</th>\n",
       "      <td>0.024444</td>\n",
       "      <td>-0.033002</td>\n",
       "      <td>0.010961</td>\n",
       "      <td>-0.199117</td>\n",
       "      <td>-0.073767</td>\n",
       "      <td>-0.078741</td>\n",
       "      <td>816.0</td>\n",
       "      <td>55920.0</td>\n",
       "      <td>15546.0</td>\n",
       "    </tr>\n",
       "    <tr>\n",
       "      <th>2020-05-07</th>\n",
       "      <td>-0.011716</td>\n",
       "      <td>0.022463</td>\n",
       "      <td>-0.013167</td>\n",
       "      <td>-0.210833</td>\n",
       "      <td>-0.051304</td>\n",
       "      <td>-0.091908</td>\n",
       "      <td>661.0</td>\n",
       "      <td>53123.0</td>\n",
       "      <td>14181.0</td>\n",
       "    </tr>\n",
       "    <tr>\n",
       "      <th>2020-05-08</th>\n",
       "      <td>0.004846</td>\n",
       "      <td>-0.013955</td>\n",
       "      <td>0.017644</td>\n",
       "      <td>-0.205987</td>\n",
       "      <td>-0.065259</td>\n",
       "      <td>-0.074264</td>\n",
       "      <td>538.0</td>\n",
       "      <td>49767.0</td>\n",
       "      <td>13166.0</td>\n",
       "    </tr>\n",
       "    <tr>\n",
       "      <th>2020-05-09</th>\n",
       "      <td>-0.021378</td>\n",
       "      <td>0.000200</td>\n",
       "      <td>-0.026695</td>\n",
       "      <td>-0.227364</td>\n",
       "      <td>-0.065059</td>\n",
       "      <td>-0.100958</td>\n",
       "      <td>429.0</td>\n",
       "      <td>46632.0</td>\n",
       "      <td>11902.0</td>\n",
       "    </tr>\n",
       "    <tr>\n",
       "      <th>2020-05-10</th>\n",
       "      <td>-0.006460</td>\n",
       "      <td>-0.010989</td>\n",
       "      <td>0.013063</td>\n",
       "      <td>-0.233825</td>\n",
       "      <td>-0.076048</td>\n",
       "      <td>-0.087895</td>\n",
       "      <td>339.0</td>\n",
       "      <td>43218.0</td>\n",
       "      <td>10900.0</td>\n",
       "    </tr>\n",
       "    <tr>\n",
       "      <th>2020-05-11</th>\n",
       "      <td>0.011122</td>\n",
       "      <td>0.003723</td>\n",
       "      <td>-0.008903</td>\n",
       "      <td>-0.222702</td>\n",
       "      <td>-0.072325</td>\n",
       "      <td>-0.096798</td>\n",
       "      <td>272.0</td>\n",
       "      <td>40202.0</td>\n",
       "      <td>9895.0</td>\n",
       "    </tr>\n",
       "    <tr>\n",
       "      <th>2020-05-12</th>\n",
       "      <td>-0.027616</td>\n",
       "      <td>-0.010410</td>\n",
       "      <td>-0.003734</td>\n",
       "      <td>-0.250319</td>\n",
       "      <td>-0.082735</td>\n",
       "      <td>-0.100532</td>\n",
       "      <td>211.0</td>\n",
       "      <td>37010.0</td>\n",
       "      <td>8948.0</td>\n",
       "    </tr>\n",
       "    <tr>\n",
       "      <th>2020-05-13</th>\n",
       "      <td>0.008332</td>\n",
       "      <td>-0.001338</td>\n",
       "      <td>0.000500</td>\n",
       "      <td>-0.241987</td>\n",
       "      <td>-0.084072</td>\n",
       "      <td>-0.100032</td>\n",
       "      <td>166.0</td>\n",
       "      <td>34026.0</td>\n",
       "      <td>8096.0</td>\n",
       "    </tr>\n",
       "    <tr>\n",
       "      <th>2020-05-14</th>\n",
       "      <td>-0.015185</td>\n",
       "      <td>-0.003413</td>\n",
       "      <td>-0.005362</td>\n",
       "      <td>-0.257172</td>\n",
       "      <td>-0.087486</td>\n",
       "      <td>-0.105394</td>\n",
       "      <td>128.0</td>\n",
       "      <td>31175.0</td>\n",
       "      <td>7286.0</td>\n",
       "    </tr>\n",
       "    <tr>\n",
       "      <th>2020-05-15</th>\n",
       "      <td>-0.000830</td>\n",
       "      <td>-0.006296</td>\n",
       "      <td>-0.001871</td>\n",
       "      <td>-0.258002</td>\n",
       "      <td>-0.093782</td>\n",
       "      <td>-0.107265</td>\n",
       "      <td>99.0</td>\n",
       "      <td>28385.0</td>\n",
       "      <td>6545.0</td>\n",
       "    </tr>\n",
       "    <tr>\n",
       "      <th>2020-05-16</th>\n",
       "      <td>-0.009222</td>\n",
       "      <td>-0.002480</td>\n",
       "      <td>-0.004486</td>\n",
       "      <td>-0.267224</td>\n",
       "      <td>-0.096262</td>\n",
       "      <td>-0.111751</td>\n",
       "      <td>76.0</td>\n",
       "      <td>25780.0</td>\n",
       "      <td>5853.0</td>\n",
       "    </tr>\n",
       "  </tbody>\n",
       "</table>\n",
       "</div>"
      ],
      "text/plain": [
       "            deaths_2d  confirmed_2d  recovered_2d  deaths_1d  confirmed_1d  \\\n",
       "2020-04-27   0.654886      0.234242      0.039275   0.144114      0.091096   \n",
       "2020-04-28  -0.278468     -0.039885     -0.114861  -0.134355      0.051211   \n",
       "2020-04-29  -0.188748     -0.251540     -0.118963  -0.323103     -0.200329   \n",
       "2020-04-30   0.248317      0.272667      0.122790  -0.074786      0.072338   \n",
       "2020-05-01  -0.083494     -0.111080      0.073975  -0.158280     -0.038743   \n",
       "2020-05-02  -0.030497     -0.004411     -0.195181  -0.188777     -0.043154   \n",
       "2020-05-03  -0.031512     -0.024993      0.119917  -0.220290     -0.068147   \n",
       "2020-05-04   0.083559      0.039706     -0.014352  -0.136731     -0.028441   \n",
       "2020-05-05  -0.086830     -0.012324     -0.029011  -0.223561     -0.040765   \n",
       "2020-05-06   0.024444     -0.033002      0.010961  -0.199117     -0.073767   \n",
       "2020-05-07  -0.011716      0.022463     -0.013167  -0.210833     -0.051304   \n",
       "2020-05-08   0.004846     -0.013955      0.017644  -0.205987     -0.065259   \n",
       "2020-05-09  -0.021378      0.000200     -0.026695  -0.227364     -0.065059   \n",
       "2020-05-10  -0.006460     -0.010989      0.013063  -0.233825     -0.076048   \n",
       "2020-05-11   0.011122      0.003723     -0.008903  -0.222702     -0.072325   \n",
       "2020-05-12  -0.027616     -0.010410     -0.003734  -0.250319     -0.082735   \n",
       "2020-05-13   0.008332     -0.001338      0.000500  -0.241987     -0.084072   \n",
       "2020-05-14  -0.015185     -0.003413     -0.005362  -0.257172     -0.087486   \n",
       "2020-05-15  -0.000830     -0.006296     -0.001871  -0.258002     -0.093782   \n",
       "2020-05-16  -0.009222     -0.002480     -0.004486  -0.267224     -0.096262   \n",
       "\n",
       "            recovered_1d  deaths_forecast  confirmed_forecast  \\\n",
       "2020-04-27      0.065984           4289.0             80940.0   \n",
       "2020-04-28     -0.048877           3749.0             85194.0   \n",
       "2020-04-29     -0.167840           2714.0             69728.0   \n",
       "2020-04-30     -0.045050           2519.0             74958.0   \n",
       "2020-05-01      0.028924           2150.0             72110.0   \n",
       "2020-05-02     -0.166257           1780.0             69064.0   \n",
       "2020-05-03     -0.046339           1428.0             64515.0   \n",
       "2020-05-04     -0.060691           1246.0             62706.0   \n",
       "2020-05-05     -0.089702            996.0             60201.0   \n",
       "2020-05-06     -0.078741            816.0             55920.0   \n",
       "2020-05-07     -0.091908            661.0             53123.0   \n",
       "2020-05-08     -0.074264            538.0             49767.0   \n",
       "2020-05-09     -0.100958            429.0             46632.0   \n",
       "2020-05-10     -0.087895            339.0             43218.0   \n",
       "2020-05-11     -0.096798            272.0             40202.0   \n",
       "2020-05-12     -0.100532            211.0             37010.0   \n",
       "2020-05-13     -0.100032            166.0             34026.0   \n",
       "2020-05-14     -0.105394            128.0             31175.0   \n",
       "2020-05-15     -0.107265             99.0             28385.0   \n",
       "2020-05-16     -0.111751             76.0             25780.0   \n",
       "\n",
       "            recovered_forecast  \n",
       "2020-04-27             30520.0  \n",
       "2020-04-28             29064.0  \n",
       "2020-04-29             24573.0  \n",
       "2020-04-30             23491.0  \n",
       "2020-05-01             24180.0  \n",
       "2020-05-02             20476.0  \n",
       "2020-05-03             19549.0  \n",
       "2020-05-04             18398.0  \n",
       "2020-05-05             16820.0  \n",
       "2020-05-06             15546.0  \n",
       "2020-05-07             14181.0  \n",
       "2020-05-08             13166.0  \n",
       "2020-05-09             11902.0  \n",
       "2020-05-10             10900.0  \n",
       "2020-05-11              9895.0  \n",
       "2020-05-12              8948.0  \n",
       "2020-05-13              8096.0  \n",
       "2020-05-14              7286.0  \n",
       "2020-05-15              6545.0  \n",
       "2020-05-16              5853.0  "
      ]
     },
     "execution_count": 46,
     "metadata": {},
     "output_type": "execute_result"
    }
   ],
   "source": [
    "pred_df_inv"
   ]
  },
  {
   "cell_type": "code",
   "execution_count": 49,
   "metadata": {},
   "outputs": [],
   "source": [
    "df_forecast = pred_df_inv.iloc[:,-3:]\n",
    "df_forecast.columns = df_world.columns"
   ]
  },
  {
   "cell_type": "code",
   "execution_count": 50,
   "metadata": {},
   "outputs": [
    {
     "data": {
      "text/html": [
       "<div>\n",
       "<style scoped>\n",
       "    .dataframe tbody tr th:only-of-type {\n",
       "        vertical-align: middle;\n",
       "    }\n",
       "\n",
       "    .dataframe tbody tr th {\n",
       "        vertical-align: top;\n",
       "    }\n",
       "\n",
       "    .dataframe thead th {\n",
       "        text-align: right;\n",
       "    }\n",
       "</style>\n",
       "<table border=\"1\" class=\"dataframe\">\n",
       "  <thead>\n",
       "    <tr style=\"text-align: right;\">\n",
       "      <th></th>\n",
       "      <th>deaths</th>\n",
       "      <th>confirmed</th>\n",
       "      <th>recovered</th>\n",
       "    </tr>\n",
       "  </thead>\n",
       "  <tbody>\n",
       "    <tr>\n",
       "      <th>2020-04-27</th>\n",
       "      <td>4289.0</td>\n",
       "      <td>80940.0</td>\n",
       "      <td>30520.0</td>\n",
       "    </tr>\n",
       "    <tr>\n",
       "      <th>2020-04-28</th>\n",
       "      <td>3749.0</td>\n",
       "      <td>85194.0</td>\n",
       "      <td>29064.0</td>\n",
       "    </tr>\n",
       "    <tr>\n",
       "      <th>2020-04-29</th>\n",
       "      <td>2714.0</td>\n",
       "      <td>69728.0</td>\n",
       "      <td>24573.0</td>\n",
       "    </tr>\n",
       "    <tr>\n",
       "      <th>2020-04-30</th>\n",
       "      <td>2519.0</td>\n",
       "      <td>74958.0</td>\n",
       "      <td>23491.0</td>\n",
       "    </tr>\n",
       "    <tr>\n",
       "      <th>2020-05-01</th>\n",
       "      <td>2150.0</td>\n",
       "      <td>72110.0</td>\n",
       "      <td>24180.0</td>\n",
       "    </tr>\n",
       "    <tr>\n",
       "      <th>2020-05-02</th>\n",
       "      <td>1780.0</td>\n",
       "      <td>69064.0</td>\n",
       "      <td>20476.0</td>\n",
       "    </tr>\n",
       "    <tr>\n",
       "      <th>2020-05-03</th>\n",
       "      <td>1428.0</td>\n",
       "      <td>64515.0</td>\n",
       "      <td>19549.0</td>\n",
       "    </tr>\n",
       "    <tr>\n",
       "      <th>2020-05-04</th>\n",
       "      <td>1246.0</td>\n",
       "      <td>62706.0</td>\n",
       "      <td>18398.0</td>\n",
       "    </tr>\n",
       "    <tr>\n",
       "      <th>2020-05-05</th>\n",
       "      <td>996.0</td>\n",
       "      <td>60201.0</td>\n",
       "      <td>16820.0</td>\n",
       "    </tr>\n",
       "    <tr>\n",
       "      <th>2020-05-06</th>\n",
       "      <td>816.0</td>\n",
       "      <td>55920.0</td>\n",
       "      <td>15546.0</td>\n",
       "    </tr>\n",
       "    <tr>\n",
       "      <th>2020-05-07</th>\n",
       "      <td>661.0</td>\n",
       "      <td>53123.0</td>\n",
       "      <td>14181.0</td>\n",
       "    </tr>\n",
       "    <tr>\n",
       "      <th>2020-05-08</th>\n",
       "      <td>538.0</td>\n",
       "      <td>49767.0</td>\n",
       "      <td>13166.0</td>\n",
       "    </tr>\n",
       "    <tr>\n",
       "      <th>2020-05-09</th>\n",
       "      <td>429.0</td>\n",
       "      <td>46632.0</td>\n",
       "      <td>11902.0</td>\n",
       "    </tr>\n",
       "    <tr>\n",
       "      <th>2020-05-10</th>\n",
       "      <td>339.0</td>\n",
       "      <td>43218.0</td>\n",
       "      <td>10900.0</td>\n",
       "    </tr>\n",
       "    <tr>\n",
       "      <th>2020-05-11</th>\n",
       "      <td>272.0</td>\n",
       "      <td>40202.0</td>\n",
       "      <td>9895.0</td>\n",
       "    </tr>\n",
       "    <tr>\n",
       "      <th>2020-05-12</th>\n",
       "      <td>211.0</td>\n",
       "      <td>37010.0</td>\n",
       "      <td>8948.0</td>\n",
       "    </tr>\n",
       "    <tr>\n",
       "      <th>2020-05-13</th>\n",
       "      <td>166.0</td>\n",
       "      <td>34026.0</td>\n",
       "      <td>8096.0</td>\n",
       "    </tr>\n",
       "    <tr>\n",
       "      <th>2020-05-14</th>\n",
       "      <td>128.0</td>\n",
       "      <td>31175.0</td>\n",
       "      <td>7286.0</td>\n",
       "    </tr>\n",
       "    <tr>\n",
       "      <th>2020-05-15</th>\n",
       "      <td>99.0</td>\n",
       "      <td>28385.0</td>\n",
       "      <td>6545.0</td>\n",
       "    </tr>\n",
       "    <tr>\n",
       "      <th>2020-05-16</th>\n",
       "      <td>76.0</td>\n",
       "      <td>25780.0</td>\n",
       "      <td>5853.0</td>\n",
       "    </tr>\n",
       "  </tbody>\n",
       "</table>\n",
       "</div>"
      ],
      "text/plain": [
       "            deaths  confirmed  recovered\n",
       "2020-04-27  4289.0    80940.0    30520.0\n",
       "2020-04-28  3749.0    85194.0    29064.0\n",
       "2020-04-29  2714.0    69728.0    24573.0\n",
       "2020-04-30  2519.0    74958.0    23491.0\n",
       "2020-05-01  2150.0    72110.0    24180.0\n",
       "2020-05-02  1780.0    69064.0    20476.0\n",
       "2020-05-03  1428.0    64515.0    19549.0\n",
       "2020-05-04  1246.0    62706.0    18398.0\n",
       "2020-05-05   996.0    60201.0    16820.0\n",
       "2020-05-06   816.0    55920.0    15546.0\n",
       "2020-05-07   661.0    53123.0    14181.0\n",
       "2020-05-08   538.0    49767.0    13166.0\n",
       "2020-05-09   429.0    46632.0    11902.0\n",
       "2020-05-10   339.0    43218.0    10900.0\n",
       "2020-05-11   272.0    40202.0     9895.0\n",
       "2020-05-12   211.0    37010.0     8948.0\n",
       "2020-05-13   166.0    34026.0     8096.0\n",
       "2020-05-14   128.0    31175.0     7286.0\n",
       "2020-05-15    99.0    28385.0     6545.0\n",
       "2020-05-16    76.0    25780.0     5853.0"
      ]
     },
     "execution_count": 50,
     "metadata": {},
     "output_type": "execute_result"
    }
   ],
   "source": [
    "df_forecast"
   ]
  },
  {
   "cell_type": "code",
   "execution_count": 51,
   "metadata": {},
   "outputs": [
    {
     "data": {
      "text/html": [
       "<div>\n",
       "<style scoped>\n",
       "    .dataframe tbody tr th:only-of-type {\n",
       "        vertical-align: middle;\n",
       "    }\n",
       "\n",
       "    .dataframe tbody tr th {\n",
       "        vertical-align: top;\n",
       "    }\n",
       "\n",
       "    .dataframe thead th {\n",
       "        text-align: right;\n",
       "    }\n",
       "</style>\n",
       "<table border=\"1\" class=\"dataframe\">\n",
       "  <thead>\n",
       "    <tr style=\"text-align: right;\">\n",
       "      <th></th>\n",
       "      <th>deaths</th>\n",
       "      <th>confirmed</th>\n",
       "      <th>recovered</th>\n",
       "    </tr>\n",
       "    <tr>\n",
       "      <th>Date</th>\n",
       "      <th></th>\n",
       "      <th></th>\n",
       "      <th></th>\n",
       "    </tr>\n",
       "  </thead>\n",
       "  <tbody>\n",
       "    <tr>\n",
       "      <th>2020-01-22</th>\n",
       "      <td>17.0</td>\n",
       "      <td>555.0</td>\n",
       "      <td>28.0</td>\n",
       "    </tr>\n",
       "    <tr>\n",
       "      <th>2020-01-23</th>\n",
       "      <td>1.0</td>\n",
       "      <td>99.0</td>\n",
       "      <td>2.0</td>\n",
       "    </tr>\n",
       "    <tr>\n",
       "      <th>2020-01-24</th>\n",
       "      <td>8.0</td>\n",
       "      <td>287.0</td>\n",
       "      <td>6.0</td>\n",
       "    </tr>\n",
       "    <tr>\n",
       "      <th>2020-01-25</th>\n",
       "      <td>16.0</td>\n",
       "      <td>493.0</td>\n",
       "      <td>3.0</td>\n",
       "    </tr>\n",
       "    <tr>\n",
       "      <th>2020-01-26</th>\n",
       "      <td>14.0</td>\n",
       "      <td>684.0</td>\n",
       "      <td>13.0</td>\n",
       "    </tr>\n",
       "    <tr>\n",
       "      <th>...</th>\n",
       "      <td>...</td>\n",
       "      <td>...</td>\n",
       "      <td>...</td>\n",
       "    </tr>\n",
       "    <tr>\n",
       "      <th>2020-04-22</th>\n",
       "      <td>6677.0</td>\n",
       "      <td>75566.0</td>\n",
       "      <td>30139.0</td>\n",
       "    </tr>\n",
       "    <tr>\n",
       "      <th>2020-04-23</th>\n",
       "      <td>6753.0</td>\n",
       "      <td>83806.0</td>\n",
       "      <td>28965.0</td>\n",
       "    </tr>\n",
       "    <tr>\n",
       "      <th>2020-04-24</th>\n",
       "      <td>6332.0</td>\n",
       "      <td>87328.0</td>\n",
       "      <td>50598.0</td>\n",
       "    </tr>\n",
       "    <tr>\n",
       "      <th>2020-04-25</th>\n",
       "      <td>6188.0</td>\n",
       "      <td>85265.0</td>\n",
       "      <td>27818.0</td>\n",
       "    </tr>\n",
       "    <tr>\n",
       "      <th>2020-04-26</th>\n",
       "      <td>3713.0</td>\n",
       "      <td>73893.0</td>\n",
       "      <td>28571.0</td>\n",
       "    </tr>\n",
       "  </tbody>\n",
       "</table>\n",
       "<p>96 rows × 3 columns</p>\n",
       "</div>"
      ],
      "text/plain": [
       "            deaths  confirmed  recovered\n",
       "Date                                    \n",
       "2020-01-22    17.0      555.0       28.0\n",
       "2020-01-23     1.0       99.0        2.0\n",
       "2020-01-24     8.0      287.0        6.0\n",
       "2020-01-25    16.0      493.0        3.0\n",
       "2020-01-26    14.0      684.0       13.0\n",
       "...            ...        ...        ...\n",
       "2020-04-22  6677.0    75566.0    30139.0\n",
       "2020-04-23  6753.0    83806.0    28965.0\n",
       "2020-04-24  6332.0    87328.0    50598.0\n",
       "2020-04-25  6188.0    85265.0    27818.0\n",
       "2020-04-26  3713.0    73893.0    28571.0\n",
       "\n",
       "[96 rows x 3 columns]"
      ]
     },
     "execution_count": 51,
     "metadata": {},
     "output_type": "execute_result"
    }
   ],
   "source": [
    "train"
   ]
  },
  {
   "cell_type": "code",
   "execution_count": 52,
   "metadata": {},
   "outputs": [],
   "source": [
    "def rmse(forecast, actual):\n",
    "    return np.mean((forecast - actual)**2)**.5  # RMSE\n",
    "def mape(forecast, actual):\n",
    "    return np.mean(np.abs(forecast - actual)/np.abs(actual))  # MAPE"
   ]
  },
  {
   "cell_type": "code",
   "execution_count": 53,
   "metadata": {},
   "outputs": [],
   "source": [
    "test_f = test.join(df_forecast, rsuffix='_f')"
   ]
  },
  {
   "cell_type": "code",
   "execution_count": 54,
   "metadata": {},
   "outputs": [
    {
     "data": {
      "text/plain": [
       "3520.319985455868"
      ]
     },
     "execution_count": 54,
     "metadata": {},
     "output_type": "execute_result"
    }
   ],
   "source": [
    "rmse(test_f.deaths_f, test_f.deaths)"
   ]
  },
  {
   "cell_type": "code",
   "execution_count": 55,
   "metadata": {},
   "outputs": [
    {
     "data": {
      "text/plain": [
       "(0.588195235744578, 0.18732917731629453, 0.4247771576175487)"
      ]
     },
     "execution_count": 55,
     "metadata": {},
     "output_type": "execute_result"
    }
   ],
   "source": [
    "mape(test_f.deaths_f, test_f.deaths), mape(test_f.confirmed_f, test_f.confirmed), mape(test_f.recovered_f, test_f.recovered)"
   ]
  },
  {
   "cell_type": "code",
   "execution_count": 56,
   "metadata": {},
   "outputs": [],
   "source": [
    "comb = pd.concat([train, df_forecast], axis = 0)"
   ]
  },
  {
   "cell_type": "code",
   "execution_count": 57,
   "metadata": {},
   "outputs": [
    {
     "data": {
      "text/html": [
       "<div>\n",
       "<style scoped>\n",
       "    .dataframe tbody tr th:only-of-type {\n",
       "        vertical-align: middle;\n",
       "    }\n",
       "\n",
       "    .dataframe tbody tr th {\n",
       "        vertical-align: top;\n",
       "    }\n",
       "\n",
       "    .dataframe thead th {\n",
       "        text-align: right;\n",
       "    }\n",
       "</style>\n",
       "<table border=\"1\" class=\"dataframe\">\n",
       "  <thead>\n",
       "    <tr style=\"text-align: right;\">\n",
       "      <th></th>\n",
       "      <th>deaths</th>\n",
       "      <th>confirmed</th>\n",
       "      <th>recovered</th>\n",
       "    </tr>\n",
       "  </thead>\n",
       "  <tbody>\n",
       "    <tr>\n",
       "      <th>2020-01-22</th>\n",
       "      <td>17.0</td>\n",
       "      <td>555.0</td>\n",
       "      <td>28.0</td>\n",
       "    </tr>\n",
       "    <tr>\n",
       "      <th>2020-01-23</th>\n",
       "      <td>1.0</td>\n",
       "      <td>99.0</td>\n",
       "      <td>2.0</td>\n",
       "    </tr>\n",
       "    <tr>\n",
       "      <th>2020-01-24</th>\n",
       "      <td>8.0</td>\n",
       "      <td>287.0</td>\n",
       "      <td>6.0</td>\n",
       "    </tr>\n",
       "    <tr>\n",
       "      <th>2020-01-25</th>\n",
       "      <td>16.0</td>\n",
       "      <td>493.0</td>\n",
       "      <td>3.0</td>\n",
       "    </tr>\n",
       "    <tr>\n",
       "      <th>2020-01-26</th>\n",
       "      <td>14.0</td>\n",
       "      <td>684.0</td>\n",
       "      <td>13.0</td>\n",
       "    </tr>\n",
       "    <tr>\n",
       "      <th>...</th>\n",
       "      <td>...</td>\n",
       "      <td>...</td>\n",
       "      <td>...</td>\n",
       "    </tr>\n",
       "    <tr>\n",
       "      <th>2020-05-12</th>\n",
       "      <td>211.0</td>\n",
       "      <td>37010.0</td>\n",
       "      <td>8948.0</td>\n",
       "    </tr>\n",
       "    <tr>\n",
       "      <th>2020-05-13</th>\n",
       "      <td>166.0</td>\n",
       "      <td>34026.0</td>\n",
       "      <td>8096.0</td>\n",
       "    </tr>\n",
       "    <tr>\n",
       "      <th>2020-05-14</th>\n",
       "      <td>128.0</td>\n",
       "      <td>31175.0</td>\n",
       "      <td>7286.0</td>\n",
       "    </tr>\n",
       "    <tr>\n",
       "      <th>2020-05-15</th>\n",
       "      <td>99.0</td>\n",
       "      <td>28385.0</td>\n",
       "      <td>6545.0</td>\n",
       "    </tr>\n",
       "    <tr>\n",
       "      <th>2020-05-16</th>\n",
       "      <td>76.0</td>\n",
       "      <td>25780.0</td>\n",
       "      <td>5853.0</td>\n",
       "    </tr>\n",
       "  </tbody>\n",
       "</table>\n",
       "<p>116 rows × 3 columns</p>\n",
       "</div>"
      ],
      "text/plain": [
       "            deaths  confirmed  recovered\n",
       "2020-01-22    17.0      555.0       28.0\n",
       "2020-01-23     1.0       99.0        2.0\n",
       "2020-01-24     8.0      287.0        6.0\n",
       "2020-01-25    16.0      493.0        3.0\n",
       "2020-01-26    14.0      684.0       13.0\n",
       "...            ...        ...        ...\n",
       "2020-05-12   211.0    37010.0     8948.0\n",
       "2020-05-13   166.0    34026.0     8096.0\n",
       "2020-05-14   128.0    31175.0     7286.0\n",
       "2020-05-15    99.0    28385.0     6545.0\n",
       "2020-05-16    76.0    25780.0     5853.0\n",
       "\n",
       "[116 rows x 3 columns]"
      ]
     },
     "execution_count": 57,
     "metadata": {},
     "output_type": "execute_result"
    }
   ],
   "source": [
    "comb"
   ]
  },
  {
   "cell_type": "code",
   "execution_count": 58,
   "metadata": {},
   "outputs": [],
   "source": [
    "new_cases_forecast = pd.concat([train, df_forecast], axis = 0)\n",
    "total_cases_forecast = new_cases_forecast.cumsum()"
   ]
  },
  {
   "cell_type": "code",
   "execution_count": 59,
   "metadata": {},
   "outputs": [],
   "source": [
    "final_forecast = pd.concat([total_cases_forecast,new_cases_forecast], axis = 1)"
   ]
  },
  {
   "cell_type": "code",
   "execution_count": 60,
   "metadata": {},
   "outputs": [
    {
     "data": {
      "text/plain": [
       "['deaths_incr', 'confirmed_incr', 'recovered_incr']"
      ]
     },
     "execution_count": 60,
     "metadata": {},
     "output_type": "execute_result"
    }
   ],
   "source": [
    "[col + '_incr' for col in new_cases_forecast.columns]"
   ]
  },
  {
   "cell_type": "code",
   "execution_count": 61,
   "metadata": {},
   "outputs": [
    {
     "data": {
      "text/plain": [
       "['deaths', 'confirmed', 'recovered']"
      ]
     },
     "execution_count": 61,
     "metadata": {},
     "output_type": "execute_result"
    }
   ],
   "source": [
    "new_cases_forecast.columns.tolist()"
   ]
  },
  {
   "cell_type": "code",
   "execution_count": 62,
   "metadata": {
    "scrolled": true
   },
   "outputs": [],
   "source": [
    "final_forecast.columns = new_cases_forecast.columns.tolist() + [col + '_incr' for col in new_cases_forecast.columns]"
   ]
  },
  {
   "cell_type": "code",
   "execution_count": null,
   "metadata": {},
   "outputs": [],
   "source": []
  },
  {
   "cell_type": "markdown",
   "metadata": {},
   "source": [
    "## 4) Visualizing Forecast"
   ]
  },
  {
   "cell_type": "code",
   "execution_count": 393,
   "metadata": {},
   "outputs": [
    {
     "data": {
      "text/plain": [
       "<matplotlib.lines.Line2D at 0x179f00c2188>"
      ]
     },
     "execution_count": 393,
     "metadata": {},
     "output_type": "execute_result"
    },
    {
     "data": {
      "image/png": "[encoded data removed]",
      "text/plain": [
       "<Figure size 432x288 with 1 Axes>"
      ]
     },
     "metadata": {
      "needs_background": "light"
     },
     "output_type": "display_data"
    }
   ],
   "source": [
    "comb.plot()\n",
    "plt.axvline(train.index[-1].date())"
   ]
  },
  {
   "cell_type": "code",
   "execution_count": 394,
   "metadata": {},
   "outputs": [
    {
     "data": {
      "text/plain": [
       "<matplotlib.lines.Line2D at 0x179eff87f88>"
      ]
     },
     "execution_count": 394,
     "metadata": {},
     "output_type": "execute_result"
    },
    {
     "data": {
      "image/png": "[encoded data removed]",
      "text/plain": [
       "<Figure size 432x288 with 1 Axes>"
      ]
     },
     "metadata": {
      "needs_background": "light"
     },
     "output_type": "display_data"
    }
   ],
   "source": [
    "comb.cumsum().plot()\n",
    "plt.axvline(train.index[-1].date())"
   ]
  },
  {
   "cell_type": "code",
   "execution_count": null,
   "metadata": {},
   "outputs": [],
   "source": []
  },
  {
   "cell_type": "code",
   "execution_count": 188,
   "metadata": {},
   "outputs": [],
   "source": [
    "import matplotlib.pyplot as plt"
   ]
  },
  {
   "cell_type": "code",
   "execution_count": 236,
   "metadata": {},
   "outputs": [
    {
     "data": {
      "image/png": "[encoded data removed]",
      "text/plain": [
       "<Figure size 1500x900 with 4 Axes>"
      ]
     },
     "metadata": {
      "needs_background": "light"
     },
     "output_type": "display_data"
    }
   ],
   "source": [
    "fig, axes = plt.subplots(nrows=int(len(train.columns)/2)+1, ncols=2, dpi=150, figsize=(10,6))\n",
    "for i, (col,ax) in enumerate(zip(train.columns, axes.flatten())):\n",
    "    pred_df_inv[col+'_forecast'].plot(legend=True, ax=ax).autoscale(axis='x',tight=True)\n",
    "    test[col].plot(legend=True, ax=ax);\n",
    "    ax.set_title(col + \": Forecast vs Actuals\")\n",
    "    ax.xaxis.set_ticks_position('none')\n",
    "    ax.yaxis.set_ticks_position('none')\n",
    "    ax.spines[\"top\"].set_alpha(0)\n",
    "    ax.tick_params(labelsize=6)\n",
    "\n",
    "plt.tight_layout();"
   ]
  },
  {
   "cell_type": "code",
   "execution_count": null,
   "metadata": {},
   "outputs": [],
   "source": []
  },
  {
   "cell_type": "code",
   "execution_count": null,
   "metadata": {},
   "outputs": [],
   "source": []
  },
  {
   "cell_type": "code",
   "execution_count": null,
   "metadata": {},
   "outputs": [],
   "source": []
  },
  {
   "cell_type": "code",
   "execution_count": 163,
   "metadata": {},
   "outputs": [
    {
     "data": {
      "text/plain": [
       "(Date\n",
       " 2020-01-22        17\n",
       " 2020-01-23        18\n",
       " 2020-01-24        26\n",
       " 2020-01-25        42\n",
       " 2020-01-26        56\n",
       "                ...  \n",
       " 2020-04-21    180237\n",
       " 2020-04-22    186914\n",
       " 2020-04-23    193667\n",
       " 2020-04-24    199999\n",
       " 2020-04-25    206187\n",
       " Name: deaths, Length: 95, dtype: int64,\n",
       " Date\n",
       " 2020-01-23    0.057158\n",
       " 2020-01-24    0.367725\n",
       " 2020-01-25    0.479573\n",
       " 2020-01-26    0.287682\n",
       " 2020-01-27    0.381368\n",
       "                 ...   \n",
       " 2020-04-21    0.040415\n",
       " 2020-04-22    0.036376\n",
       " 2020-04-23    0.035492\n",
       " 2020-04-24    0.032172\n",
       " 2020-04-25    0.030471\n",
       " Name: deaths, Length: 94, dtype: float64)"
      ]
     },
     "execution_count": 163,
     "metadata": {},
     "output_type": "execute_result"
    }
   ],
   "source": [
    "train['deaths'], train_diff1['deaths']"
   ]
  },
  {
   "cell_type": "code",
   "execution_count": 159,
   "metadata": {},
   "outputs": [
    {
     "data": {
      "text/html": [
       "<div>\n",
       "<style scoped>\n",
       "    .dataframe tbody tr th:only-of-type {\n",
       "        vertical-align: middle;\n",
       "    }\n",
       "\n",
       "    .dataframe tbody tr th {\n",
       "        vertical-align: top;\n",
       "    }\n",
       "\n",
       "    .dataframe thead th {\n",
       "        text-align: right;\n",
       "    }\n",
       "</style>\n",
       "<table border=\"1\" class=\"dataframe\">\n",
       "  <thead>\n",
       "    <tr style=\"text-align: right;\">\n",
       "      <th></th>\n",
       "      <th>deaths_3d</th>\n",
       "      <th>confirmed_3d</th>\n",
       "      <th>recovered_3d</th>\n",
       "    </tr>\n",
       "    <tr>\n",
       "      <th>Date</th>\n",
       "      <th></th>\n",
       "      <th></th>\n",
       "      <th></th>\n",
       "    </tr>\n",
       "  </thead>\n",
       "  <tbody>\n",
       "    <tr>\n",
       "      <th>2020-04-26</th>\n",
       "      <td>-0.018496</td>\n",
       "      <td>-0.016109</td>\n",
       "      <td>-0.012542</td>\n",
       "    </tr>\n",
       "    <tr>\n",
       "      <th>2020-04-27</th>\n",
       "      <td>0.002051</td>\n",
       "      <td>0.004498</td>\n",
       "      <td>0.000203</td>\n",
       "    </tr>\n",
       "    <tr>\n",
       "      <th>2020-04-28</th>\n",
       "      <td>-0.003431</td>\n",
       "      <td>0.002281</td>\n",
       "      <td>0.002476</td>\n",
       "    </tr>\n",
       "    <tr>\n",
       "      <th>2020-04-29</th>\n",
       "      <td>-0.004585</td>\n",
       "      <td>-0.004214</td>\n",
       "      <td>-0.003097</td>\n",
       "    </tr>\n",
       "    <tr>\n",
       "      <th>2020-04-30</th>\n",
       "      <td>-0.006832</td>\n",
       "      <td>-0.005497</td>\n",
       "      <td>-0.008505</td>\n",
       "    </tr>\n",
       "    <tr>\n",
       "      <th>2020-05-01</th>\n",
       "      <td>-0.001676</td>\n",
       "      <td>0.000105</td>\n",
       "      <td>-0.002888</td>\n",
       "    </tr>\n",
       "    <tr>\n",
       "      <th>2020-05-02</th>\n",
       "      <td>-0.001736</td>\n",
       "      <td>-0.000297</td>\n",
       "      <td>-0.002693</td>\n",
       "    </tr>\n",
       "    <tr>\n",
       "      <th>2020-05-03</th>\n",
       "      <td>-0.000306</td>\n",
       "      <td>0.001033</td>\n",
       "      <td>-0.001896</td>\n",
       "    </tr>\n",
       "    <tr>\n",
       "      <th>2020-05-04</th>\n",
       "      <td>-0.003941</td>\n",
       "      <td>-0.003338</td>\n",
       "      <td>-0.007341</td>\n",
       "    </tr>\n",
       "    <tr>\n",
       "      <th>2020-05-05</th>\n",
       "      <td>-0.000109</td>\n",
       "      <td>0.000186</td>\n",
       "      <td>-0.005675</td>\n",
       "    </tr>\n",
       "  </tbody>\n",
       "</table>\n",
       "</div>"
      ],
      "text/plain": [
       "            deaths_3d  confirmed_3d  recovered_3d\n",
       "Date                                             \n",
       "2020-04-26  -0.018496     -0.016109     -0.012542\n",
       "2020-04-27   0.002051      0.004498      0.000203\n",
       "2020-04-28  -0.003431      0.002281      0.002476\n",
       "2020-04-29  -0.004585     -0.004214     -0.003097\n",
       "2020-04-30  -0.006832     -0.005497     -0.008505\n",
       "2020-05-01  -0.001676      0.000105     -0.002888\n",
       "2020-05-02  -0.001736     -0.000297     -0.002693\n",
       "2020-05-03  -0.000306      0.001033     -0.001896\n",
       "2020-05-04  -0.003941     -0.003338     -0.007341\n",
       "2020-05-05  -0.000109      0.000186     -0.005675"
      ]
     },
     "execution_count": 159,
     "metadata": {},
     "output_type": "execute_result"
    }
   ],
   "source": [
    "pred_df.cumsum()"
   ]
  },
  {
   "cell_type": "code",
   "execution_count": null,
   "metadata": {},
   "outputs": [],
   "source": []
  },
  {
   "cell_type": "code",
   "execution_count": null,
   "metadata": {},
   "outputs": [],
   "source": []
  },
  {
   "cell_type": "code",
   "execution_count": null,
   "metadata": {},
   "outputs": [],
   "source": []
  },
  {
   "cell_type": "code",
   "execution_count": null,
   "metadata": {},
   "outputs": [],
   "source": []
  },
  {
   "cell_type": "code",
   "execution_count": 136,
   "metadata": {},
   "outputs": [
    {
     "data": {
      "image/png": "[encoded data removed]",
      "text/plain": [
       "<Figure size 720x720 with 3 Axes>"
      ]
     },
     "execution_count": 136,
     "metadata": {},
     "output_type": "execute_result"
    },
    {
     "data": {
      "image/png": "[encoded data removed]",
      "text/plain": [
       "<Figure size 720x720 with 3 Axes>"
      ]
     },
     "metadata": {
      "needs_background": "light"
     },
     "output_type": "display_data"
    }
   ],
   "source": [
    "res.plot_forecast(10)"
   ]
  },
  {
   "cell_type": "code",
   "execution_count": null,
   "metadata": {},
   "outputs": [],
   "source": []
  },
  {
   "cell_type": "markdown",
   "metadata": {},
   "source": [
    "# Rough Work"
   ]
  },
  {
   "cell_type": "code",
   "execution_count": 73,
   "metadata": {},
   "outputs": [],
   "source": [
    "import statsmodels.api as sm"
   ]
  },
  {
   "cell_type": "code",
   "execution_count": 74,
   "metadata": {},
   "outputs": [],
   "source": [
    "mdata = sm.datasets.macrodata.load_pandas().data"
   ]
  },
  {
   "cell_type": "code",
   "execution_count": 77,
   "metadata": {},
   "outputs": [],
   "source": [
    "dates = mdata[['year', 'quarter']].astype(int).astype(str)\n",
    "quarterly = dates[\"year\"] + \"Q\" + dates[\"quarter\"]"
   ]
  },
  {
   "cell_type": "code",
   "execution_count": 78,
   "metadata": {},
   "outputs": [],
   "source": [
    "from statsmodels.tsa.base.datetools import dates_from_str"
   ]
  },
  {
   "cell_type": "code",
   "execution_count": 80,
   "metadata": {},
   "outputs": [],
   "source": [
    "quarterly = dates_from_str(quarterly)"
   ]
  },
  {
   "cell_type": "code",
   "execution_count": 82,
   "metadata": {},
   "outputs": [],
   "source": [
    "mdata = mdata[['realgdp','realcons','realinv']]"
   ]
  },
  {
   "cell_type": "code",
   "execution_count": 85,
   "metadata": {},
   "outputs": [],
   "source": [
    "mdata.index = pd.DatetimeIndex(quarterly)"
   ]
  },
  {
   "cell_type": "code",
   "execution_count": 96,
   "metadata": {},
   "outputs": [
    {
     "data": {
      "text/plain": [
       "pandas.core.indexes.datetimes.DatetimeIndex"
      ]
     },
     "execution_count": 96,
     "metadata": {},
     "output_type": "execute_result"
    }
   ],
   "source": [
    "type(mdata.index)"
   ]
  },
  {
   "cell_type": "code",
   "execution_count": 97,
   "metadata": {},
   "outputs": [
    {
     "data": {
      "text/plain": [
       "pandas.core.indexes.datetimes.DatetimeIndex"
      ]
     },
     "execution_count": 97,
     "metadata": {},
     "output_type": "execute_result"
    }
   ],
   "source": [
    "type(df_world.index)"
   ]
  },
  {
   "cell_type": "code",
   "execution_count": 98,
   "metadata": {},
   "outputs": [
    {
     "data": {
      "text/html": [
       "<div>\n",
       "<style scoped>\n",
       "    .dataframe tbody tr th:only-of-type {\n",
       "        vertical-align: middle;\n",
       "    }\n",
       "\n",
       "    .dataframe tbody tr th {\n",
       "        vertical-align: top;\n",
       "    }\n",
       "\n",
       "    .dataframe thead th {\n",
       "        text-align: right;\n",
       "    }\n",
       "</style>\n",
       "<table border=\"1\" class=\"dataframe\">\n",
       "  <thead>\n",
       "    <tr style=\"text-align: right;\">\n",
       "      <th></th>\n",
       "      <th>deaths</th>\n",
       "      <th>confirmed</th>\n",
       "      <th>recovered</th>\n",
       "      <th>deaths_incr</th>\n",
       "      <th>confirmed_incr</th>\n",
       "      <th>recovered_incr</th>\n",
       "    </tr>\n",
       "    <tr>\n",
       "      <th>Date</th>\n",
       "      <th></th>\n",
       "      <th></th>\n",
       "      <th></th>\n",
       "      <th></th>\n",
       "      <th></th>\n",
       "      <th></th>\n",
       "    </tr>\n",
       "  </thead>\n",
       "  <tbody>\n",
       "    <tr>\n",
       "      <th>2020-01-22</th>\n",
       "      <td>17</td>\n",
       "      <td>555</td>\n",
       "      <td>28</td>\n",
       "      <td>0.0</td>\n",
       "      <td>0.0</td>\n",
       "      <td>0.0</td>\n",
       "    </tr>\n",
       "    <tr>\n",
       "      <th>2020-01-23</th>\n",
       "      <td>18</td>\n",
       "      <td>654</td>\n",
       "      <td>30</td>\n",
       "      <td>1.0</td>\n",
       "      <td>99.0</td>\n",
       "      <td>2.0</td>\n",
       "    </tr>\n",
       "    <tr>\n",
       "      <th>2020-01-24</th>\n",
       "      <td>26</td>\n",
       "      <td>941</td>\n",
       "      <td>36</td>\n",
       "      <td>8.0</td>\n",
       "      <td>287.0</td>\n",
       "      <td>6.0</td>\n",
       "    </tr>\n",
       "    <tr>\n",
       "      <th>2020-01-25</th>\n",
       "      <td>42</td>\n",
       "      <td>1434</td>\n",
       "      <td>39</td>\n",
       "      <td>16.0</td>\n",
       "      <td>493.0</td>\n",
       "      <td>3.0</td>\n",
       "    </tr>\n",
       "    <tr>\n",
       "      <th>2020-01-26</th>\n",
       "      <td>56</td>\n",
       "      <td>2118</td>\n",
       "      <td>52</td>\n",
       "      <td>14.0</td>\n",
       "      <td>684.0</td>\n",
       "      <td>13.0</td>\n",
       "    </tr>\n",
       "    <tr>\n",
       "      <th>...</th>\n",
       "      <td>...</td>\n",
       "      <td>...</td>\n",
       "      <td>...</td>\n",
       "      <td>...</td>\n",
       "      <td>...</td>\n",
       "      <td>...</td>\n",
       "    </tr>\n",
       "    <tr>\n",
       "      <th>2020-05-01</th>\n",
       "      <td>238619</td>\n",
       "      <td>3343777</td>\n",
       "      <td>1052415</td>\n",
       "      <td>5262.0</td>\n",
       "      <td>86924.0</td>\n",
       "      <td>38544.0</td>\n",
       "    </tr>\n",
       "    <tr>\n",
       "      <th>2020-05-02</th>\n",
       "      <td>243808</td>\n",
       "      <td>3427343</td>\n",
       "      <td>1093112</td>\n",
       "      <td>5189.0</td>\n",
       "      <td>83566.0</td>\n",
       "      <td>40697.0</td>\n",
       "    </tr>\n",
       "    <tr>\n",
       "      <th>2020-05-03</th>\n",
       "      <td>247470</td>\n",
       "      <td>3506729</td>\n",
       "      <td>1125236</td>\n",
       "      <td>3662.0</td>\n",
       "      <td>79386.0</td>\n",
       "      <td>32124.0</td>\n",
       "    </tr>\n",
       "    <tr>\n",
       "      <th>2020-05-04</th>\n",
       "      <td>251537</td>\n",
       "      <td>3583055</td>\n",
       "      <td>1162724</td>\n",
       "      <td>4067.0</td>\n",
       "      <td>76326.0</td>\n",
       "      <td>37488.0</td>\n",
       "    </tr>\n",
       "    <tr>\n",
       "      <th>2020-05-05</th>\n",
       "      <td>257239</td>\n",
       "      <td>3662691</td>\n",
       "      <td>1198832</td>\n",
       "      <td>5702.0</td>\n",
       "      <td>79636.0</td>\n",
       "      <td>36108.0</td>\n",
       "    </tr>\n",
       "  </tbody>\n",
       "</table>\n",
       "<p>105 rows × 6 columns</p>\n",
       "</div>"
      ],
      "text/plain": [
       "            deaths  confirmed  recovered  deaths_incr  confirmed_incr  \\\n",
       "Date                                                                    \n",
       "2020-01-22      17        555         28          0.0             0.0   \n",
       "2020-01-23      18        654         30          1.0            99.0   \n",
       "2020-01-24      26        941         36          8.0           287.0   \n",
       "2020-01-25      42       1434         39         16.0           493.0   \n",
       "2020-01-26      56       2118         52         14.0           684.0   \n",
       "...            ...        ...        ...          ...             ...   \n",
       "2020-05-01  238619    3343777    1052415       5262.0         86924.0   \n",
       "2020-05-02  243808    3427343    1093112       5189.0         83566.0   \n",
       "2020-05-03  247470    3506729    1125236       3662.0         79386.0   \n",
       "2020-05-04  251537    3583055    1162724       4067.0         76326.0   \n",
       "2020-05-05  257239    3662691    1198832       5702.0         79636.0   \n",
       "\n",
       "            recovered_incr  \n",
       "Date                        \n",
       "2020-01-22             0.0  \n",
       "2020-01-23             2.0  \n",
       "2020-01-24             6.0  \n",
       "2020-01-25             3.0  \n",
       "2020-01-26            13.0  \n",
       "...                    ...  \n",
       "2020-05-01         38544.0  \n",
       "2020-05-02         40697.0  \n",
       "2020-05-03         32124.0  \n",
       "2020-05-04         37488.0  \n",
       "2020-05-05         36108.0  \n",
       "\n",
       "[105 rows x 6 columns]"
      ]
     },
     "execution_count": 98,
     "metadata": {},
     "output_type": "execute_result"
    }
   ],
   "source": [
    "df_world"
   ]
  },
  {
   "cell_type": "code",
   "execution_count": 86,
   "metadata": {},
   "outputs": [
    {
     "data": {
      "text/html": [
       "<div>\n",
       "<style scoped>\n",
       "    .dataframe tbody tr th:only-of-type {\n",
       "        vertical-align: middle;\n",
       "    }\n",
       "\n",
       "    .dataframe tbody tr th {\n",
       "        vertical-align: top;\n",
       "    }\n",
       "\n",
       "    .dataframe thead th {\n",
       "        text-align: right;\n",
       "    }\n",
       "</style>\n",
       "<table border=\"1\" class=\"dataframe\">\n",
       "  <thead>\n",
       "    <tr style=\"text-align: right;\">\n",
       "      <th></th>\n",
       "      <th>realgdp</th>\n",
       "      <th>realcons</th>\n",
       "      <th>realinv</th>\n",
       "    </tr>\n",
       "  </thead>\n",
       "  <tbody>\n",
       "    <tr>\n",
       "      <th>1959-03-31</th>\n",
       "      <td>2710.349</td>\n",
       "      <td>1707.4</td>\n",
       "      <td>286.898</td>\n",
       "    </tr>\n",
       "    <tr>\n",
       "      <th>1959-06-30</th>\n",
       "      <td>2778.801</td>\n",
       "      <td>1733.7</td>\n",
       "      <td>310.859</td>\n",
       "    </tr>\n",
       "    <tr>\n",
       "      <th>1959-09-30</th>\n",
       "      <td>2775.488</td>\n",
       "      <td>1751.8</td>\n",
       "      <td>289.226</td>\n",
       "    </tr>\n",
       "    <tr>\n",
       "      <th>1959-12-31</th>\n",
       "      <td>2785.204</td>\n",
       "      <td>1753.7</td>\n",
       "      <td>299.356</td>\n",
       "    </tr>\n",
       "    <tr>\n",
       "      <th>1960-03-31</th>\n",
       "      <td>2847.699</td>\n",
       "      <td>1770.5</td>\n",
       "      <td>331.722</td>\n",
       "    </tr>\n",
       "    <tr>\n",
       "      <th>...</th>\n",
       "      <td>...</td>\n",
       "      <td>...</td>\n",
       "      <td>...</td>\n",
       "    </tr>\n",
       "    <tr>\n",
       "      <th>2008-09-30</th>\n",
       "      <td>13324.600</td>\n",
       "      <td>9267.7</td>\n",
       "      <td>1990.693</td>\n",
       "    </tr>\n",
       "    <tr>\n",
       "      <th>2008-12-31</th>\n",
       "      <td>13141.920</td>\n",
       "      <td>9195.3</td>\n",
       "      <td>1857.661</td>\n",
       "    </tr>\n",
       "    <tr>\n",
       "      <th>2009-03-31</th>\n",
       "      <td>12925.410</td>\n",
       "      <td>9209.2</td>\n",
       "      <td>1558.494</td>\n",
       "    </tr>\n",
       "    <tr>\n",
       "      <th>2009-06-30</th>\n",
       "      <td>12901.504</td>\n",
       "      <td>9189.0</td>\n",
       "      <td>1456.678</td>\n",
       "    </tr>\n",
       "    <tr>\n",
       "      <th>2009-09-30</th>\n",
       "      <td>12990.341</td>\n",
       "      <td>9256.0</td>\n",
       "      <td>1486.398</td>\n",
       "    </tr>\n",
       "  </tbody>\n",
       "</table>\n",
       "<p>203 rows × 3 columns</p>\n",
       "</div>"
      ],
      "text/plain": [
       "              realgdp  realcons   realinv\n",
       "1959-03-31   2710.349    1707.4   286.898\n",
       "1959-06-30   2778.801    1733.7   310.859\n",
       "1959-09-30   2775.488    1751.8   289.226\n",
       "1959-12-31   2785.204    1753.7   299.356\n",
       "1960-03-31   2847.699    1770.5   331.722\n",
       "...               ...       ...       ...\n",
       "2008-09-30  13324.600    9267.7  1990.693\n",
       "2008-12-31  13141.920    9195.3  1857.661\n",
       "2009-03-31  12925.410    9209.2  1558.494\n",
       "2009-06-30  12901.504    9189.0  1456.678\n",
       "2009-09-30  12990.341    9256.0  1486.398\n",
       "\n",
       "[203 rows x 3 columns]"
      ]
     },
     "execution_count": 86,
     "metadata": {},
     "output_type": "execute_result"
    }
   ],
   "source": [
    "mdata"
   ]
  },
  {
   "cell_type": "code",
   "execution_count": 90,
   "metadata": {},
   "outputs": [],
   "source": [
    "data = np.log(mdata).diff().dropna()"
   ]
  },
  {
   "cell_type": "code",
   "execution_count": 92,
   "metadata": {},
   "outputs": [
    {
     "data": {
      "text/html": [
       "<div>\n",
       "<style scoped>\n",
       "    .dataframe tbody tr th:only-of-type {\n",
       "        vertical-align: middle;\n",
       "    }\n",
       "\n",
       "    .dataframe tbody tr th {\n",
       "        vertical-align: top;\n",
       "    }\n",
       "\n",
       "    .dataframe thead th {\n",
       "        text-align: right;\n",
       "    }\n",
       "</style>\n",
       "<table border=\"1\" class=\"dataframe\">\n",
       "  <thead>\n",
       "    <tr style=\"text-align: right;\">\n",
       "      <th></th>\n",
       "      <th>realgdp</th>\n",
       "      <th>realcons</th>\n",
       "      <th>realinv</th>\n",
       "    </tr>\n",
       "  </thead>\n",
       "  <tbody>\n",
       "    <tr>\n",
       "      <th>1959-06-30</th>\n",
       "      <td>0.024942</td>\n",
       "      <td>0.015286</td>\n",
       "      <td>0.080213</td>\n",
       "    </tr>\n",
       "    <tr>\n",
       "      <th>1959-09-30</th>\n",
       "      <td>-0.001193</td>\n",
       "      <td>0.010386</td>\n",
       "      <td>-0.072131</td>\n",
       "    </tr>\n",
       "    <tr>\n",
       "      <th>1959-12-31</th>\n",
       "      <td>0.003495</td>\n",
       "      <td>0.001084</td>\n",
       "      <td>0.034425</td>\n",
       "    </tr>\n",
       "    <tr>\n",
       "      <th>1960-03-31</th>\n",
       "      <td>0.022190</td>\n",
       "      <td>0.009534</td>\n",
       "      <td>0.102664</td>\n",
       "    </tr>\n",
       "    <tr>\n",
       "      <th>1960-06-30</th>\n",
       "      <td>-0.004685</td>\n",
       "      <td>0.012572</td>\n",
       "      <td>-0.106694</td>\n",
       "    </tr>\n",
       "    <tr>\n",
       "      <th>...</th>\n",
       "      <td>...</td>\n",
       "      <td>...</td>\n",
       "      <td>...</td>\n",
       "    </tr>\n",
       "    <tr>\n",
       "      <th>2008-09-30</th>\n",
       "      <td>-0.006781</td>\n",
       "      <td>-0.008948</td>\n",
       "      <td>-0.017836</td>\n",
       "    </tr>\n",
       "    <tr>\n",
       "      <th>2008-12-31</th>\n",
       "      <td>-0.013805</td>\n",
       "      <td>-0.007843</td>\n",
       "      <td>-0.069165</td>\n",
       "    </tr>\n",
       "    <tr>\n",
       "      <th>2009-03-31</th>\n",
       "      <td>-0.016612</td>\n",
       "      <td>0.001511</td>\n",
       "      <td>-0.175598</td>\n",
       "    </tr>\n",
       "    <tr>\n",
       "      <th>2009-06-30</th>\n",
       "      <td>-0.001851</td>\n",
       "      <td>-0.002196</td>\n",
       "      <td>-0.067561</td>\n",
       "    </tr>\n",
       "    <tr>\n",
       "      <th>2009-09-30</th>\n",
       "      <td>0.006862</td>\n",
       "      <td>0.007265</td>\n",
       "      <td>0.020197</td>\n",
       "    </tr>\n",
       "  </tbody>\n",
       "</table>\n",
       "<p>202 rows × 3 columns</p>\n",
       "</div>"
      ],
      "text/plain": [
       "             realgdp  realcons   realinv\n",
       "1959-06-30  0.024942  0.015286  0.080213\n",
       "1959-09-30 -0.001193  0.010386 -0.072131\n",
       "1959-12-31  0.003495  0.001084  0.034425\n",
       "1960-03-31  0.022190  0.009534  0.102664\n",
       "1960-06-30 -0.004685  0.012572 -0.106694\n",
       "...              ...       ...       ...\n",
       "2008-09-30 -0.006781 -0.008948 -0.017836\n",
       "2008-12-31 -0.013805 -0.007843 -0.069165\n",
       "2009-03-31 -0.016612  0.001511 -0.175598\n",
       "2009-06-30 -0.001851 -0.002196 -0.067561\n",
       "2009-09-30  0.006862  0.007265  0.020197\n",
       "\n",
       "[202 rows x 3 columns]"
      ]
     },
     "execution_count": 92,
     "metadata": {},
     "output_type": "execute_result"
    }
   ],
   "source": [
    "data"
   ]
  },
  {
   "cell_type": "code",
   "execution_count": 93,
   "metadata": {},
   "outputs": [
    {
     "data": {
      "text/plain": [
       "(0.0, True)"
      ]
     },
     "execution_count": 93,
     "metadata": {},
     "output_type": "execute_result"
    }
   ],
   "source": [
    "adfuller_test(data.realgdp)"
   ]
  },
  {
   "cell_type": "code",
   "execution_count": 94,
   "metadata": {},
   "outputs": [
    {
     "data": {
      "text/plain": [
       "<matplotlib.axes._subplots.AxesSubplot at 0x179ecea82c8>"
      ]
     },
     "execution_count": 94,
     "metadata": {},
     "output_type": "execute_result"
    },
    {
     "data": {
      "image/png": "[encoded data removed]",
      "text/plain": [
       "<Figure size 432x288 with 1 Axes>"
      ]
     },
     "metadata": {
      "needs_background": "light"
     },
     "output_type": "display_data"
    }
   ],
   "source": [
    "data.realgdp.plot()"
   ]
  },
  {
   "cell_type": "code",
   "execution_count": 95,
   "metadata": {},
   "outputs": [
    {
     "name": "stderr",
     "output_type": "stream",
     "text": [
      "C:\\Users\\gdanish\\Anaconda3\\lib\\site-packages\\statsmodels\\tsa\\base\\tsa_model.py:162: ValueWarning: No frequency information was provided, so inferred frequency Q-DEC will be used.\n",
      "  % freq, ValueWarning)\n"
     ]
    },
    {
     "data": {
      "text/plain": [
       "  Summary of Regression Results   \n",
       "==================================\n",
       "Model:                         VAR\n",
       "Method:                        OLS\n",
       "Date:           Wed, 06, May, 2020\n",
       "Time:                     20:39:18\n",
       "--------------------------------------------------------------------\n",
       "No. of Equations:         3.00000    BIC:                   -27.5830\n",
       "Nobs:                     200.000    HQIC:                  -27.7892\n",
       "Log likelihood:           1962.57    FPE:                7.42129e-13\n",
       "AIC:                     -27.9293    Det(Omega_mle):     6.69358e-13\n",
       "--------------------------------------------------------------------\n",
       "Results for equation realgdp\n",
       "==============================================================================\n",
       "                 coefficient       std. error           t-stat            prob\n",
       "------------------------------------------------------------------------------\n",
       "const               0.001527         0.001119            1.365           0.172\n",
       "L1.realgdp         -0.279435         0.169663           -1.647           0.100\n",
       "L1.realcons         0.675016         0.131285            5.142           0.000\n",
       "L1.realinv          0.033219         0.026194            1.268           0.205\n",
       "L2.realgdp          0.008221         0.173522            0.047           0.962\n",
       "L2.realcons         0.290458         0.145904            1.991           0.047\n",
       "L2.realinv         -0.007321         0.025786           -0.284           0.776\n",
       "==============================================================================\n",
       "\n",
       "Results for equation realcons\n",
       "==============================================================================\n",
       "                 coefficient       std. error           t-stat            prob\n",
       "------------------------------------------------------------------------------\n",
       "const               0.005460         0.000969            5.634           0.000\n",
       "L1.realgdp         -0.100468         0.146924           -0.684           0.494\n",
       "L1.realcons         0.268640         0.113690            2.363           0.018\n",
       "L1.realinv          0.025739         0.022683            1.135           0.257\n",
       "L2.realgdp         -0.123174         0.150267           -0.820           0.412\n",
       "L2.realcons         0.232499         0.126350            1.840           0.066\n",
       "L2.realinv          0.023504         0.022330            1.053           0.293\n",
       "==============================================================================\n",
       "\n",
       "Results for equation realinv\n",
       "==============================================================================\n",
       "                 coefficient       std. error           t-stat            prob\n",
       "------------------------------------------------------------------------------\n",
       "const              -0.023903         0.005863           -4.077           0.000\n",
       "L1.realgdp         -1.970974         0.888892           -2.217           0.027\n",
       "L1.realcons         4.414162         0.687825            6.418           0.000\n",
       "L1.realinv          0.225479         0.137234            1.643           0.100\n",
       "L2.realgdp          0.380786         0.909114            0.419           0.675\n",
       "L2.realcons         0.800281         0.764416            1.047           0.295\n",
       "L2.realinv         -0.124079         0.135098           -0.918           0.358\n",
       "==============================================================================\n",
       "\n",
       "Correlation matrix of residuals\n",
       "             realgdp  realcons   realinv\n",
       "realgdp     1.000000  0.603316  0.750722\n",
       "realcons    0.603316  1.000000  0.131951\n",
       "realinv     0.750722  0.131951  1.000000\n",
       "\n"
      ]
     },
     "execution_count": 95,
     "metadata": {},
     "output_type": "execute_result"
    }
   ],
   "source": [
    "model = VAR(data)\n",
    "r = model.fit(2)\n",
    "r.summary()"
   ]
  },
  {
   "cell_type": "code",
   "execution_count": null,
   "metadata": {},
   "outputs": [],
   "source": []
  },
  {
   "cell_type": "code",
   "execution_count": null,
   "metadata": {},
   "outputs": [],
   "source": []
  },
  {
   "cell_type": "code",
   "execution_count": null,
   "metadata": {},
   "outputs": [],
   "source": []
  },
  {
   "cell_type": "code",
   "execution_count": null,
   "metadata": {},
   "outputs": [],
   "source": []
  },
  {
   "cell_type": "code",
   "execution_count": null,
   "metadata": {},
   "outputs": [],
   "source": [
    "df_filt = df[(df.ConfirmedCases != 0) & (df.Country_Region == country_name)]\n",
    "df_filt = df_filt.groupby(['Date'], as_index = False).agg({forecasting_col:\"sum\"})\n",
    "min_date = df_filt['Date'].min()\n",
    "df_filt['Day'] = df_filt['Date'] - min_date\n",
    "df_filt['Day'] = df_filt['Day'].dt.days\n",
    "df_filt[forecasting_col] = np.log(df_filt[forecasting_col])"
   ]
  },
  {
   "cell_type": "code",
   "execution_count": null,
   "metadata": {},
   "outputs": [],
   "source": []
  },
  {
   "cell_type": "code",
   "execution_count": null,
   "metadata": {},
   "outputs": [],
   "source": []
  },
  {
   "cell_type": "code",
   "execution_count": null,
   "metadata": {},
   "outputs": [],
   "source": []
  }
 ],
 "metadata": {
  "kernelspec": {
   "display_name": "Python 3",
   "language": "python",
   "name": "python3"
  },
  "language_info": {
   "codemirror_mode": {
    "name": "ipython",
    "version": 3
   },
   "file_extension": ".py",
   "mimetype": "text/x-python",
   "name": "python",
   "nbconvert_exporter": "python",
   "pygments_lexer": "ipython3",
   "version": "3.7.6"
  }
 },
 "nbformat": 4,
 "nbformat_minor": 4
}
