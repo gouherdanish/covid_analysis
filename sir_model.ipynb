{
 "cells": [
  {
   "cell_type": "code",
   "execution_count": 32,
   "metadata": {},
   "outputs": [],
   "source": [
    "import pandas as pd\n",
    "import numpy as np\n",
    "import datetime\n",
    "import matplotlib.pyplot as plt \n",
    "from scipy import integrate"
   ]
  },
  {
   "cell_type": "code",
   "execution_count": 33,
   "metadata": {},
   "outputs": [],
   "source": [
    "import master, constants"
   ]
  },
  {
   "cell_type": "markdown",
   "metadata": {},
   "source": [
    "# Time Series Data"
   ]
  },
  {
   "cell_type": "code",
   "execution_count": 3,
   "metadata": {},
   "outputs": [],
   "source": [
    "# DATA SOURCES\n",
    "global_deaths_url = constants.GLOBAL['global_deaths_url']\n",
    "global_confirmed_url = constants.GLOBAL['global_confirmed_url']\n",
    "global_recovered_url = constants.GLOBAL['global_recovered_url']"
   ]
  },
  {
   "cell_type": "code",
   "execution_count": 29,
   "metadata": {},
   "outputs": [],
   "source": [
    "# CREATING TRANSFORMER INSTANCE\n",
    "transformer = master.DataTransformer()"
   ]
  },
  {
   "cell_type": "code",
   "execution_count": 21,
   "metadata": {},
   "outputs": [],
   "source": [
    "# LOADING DATA\n",
    "dfd = transformer.load_data(global_deaths_url)\n",
    "dfc = transformer.load_data(global_confirmed_url)\n",
    "dfr = transformer.load_data(global_recovered_url)"
   ]
  },
  {
   "cell_type": "code",
   "execution_count": 22,
   "metadata": {},
   "outputs": [
    {
     "data": {
      "text/html": [
       "<div>\n",
       "<style scoped>\n",
       "    .dataframe tbody tr th:only-of-type {\n",
       "        vertical-align: middle;\n",
       "    }\n",
       "\n",
       "    .dataframe tbody tr th {\n",
       "        vertical-align: top;\n",
       "    }\n",
       "\n",
       "    .dataframe thead th {\n",
       "        text-align: right;\n",
       "    }\n",
       "</style>\n",
       "<table border=\"1\" class=\"dataframe\">\n",
       "  <thead>\n",
       "    <tr style=\"text-align: right;\">\n",
       "      <th></th>\n",
       "      <th>Province/State</th>\n",
       "      <th>Country/Region</th>\n",
       "      <th>Lat</th>\n",
       "      <th>Long</th>\n",
       "      <th>1/22/20</th>\n",
       "      <th>1/23/20</th>\n",
       "      <th>1/24/20</th>\n",
       "      <th>1/25/20</th>\n",
       "      <th>1/26/20</th>\n",
       "      <th>1/27/20</th>\n",
       "      <th>...</th>\n",
       "      <th>5/29/20</th>\n",
       "      <th>5/30/20</th>\n",
       "      <th>5/31/20</th>\n",
       "      <th>6/1/20</th>\n",
       "      <th>6/2/20</th>\n",
       "      <th>6/3/20</th>\n",
       "      <th>6/4/20</th>\n",
       "      <th>6/5/20</th>\n",
       "      <th>6/6/20</th>\n",
       "      <th>6/7/20</th>\n",
       "    </tr>\n",
       "  </thead>\n",
       "  <tbody>\n",
       "    <tr>\n",
       "      <th>0</th>\n",
       "      <td>NaN</td>\n",
       "      <td>Afghanistan</td>\n",
       "      <td>33.0000</td>\n",
       "      <td>65.0000</td>\n",
       "      <td>0</td>\n",
       "      <td>0</td>\n",
       "      <td>0</td>\n",
       "      <td>0</td>\n",
       "      <td>0</td>\n",
       "      <td>0</td>\n",
       "      <td>...</td>\n",
       "      <td>13659</td>\n",
       "      <td>14525</td>\n",
       "      <td>15205</td>\n",
       "      <td>15750</td>\n",
       "      <td>16509</td>\n",
       "      <td>17267</td>\n",
       "      <td>18054</td>\n",
       "      <td>18969</td>\n",
       "      <td>19551</td>\n",
       "      <td>20342</td>\n",
       "    </tr>\n",
       "    <tr>\n",
       "      <th>1</th>\n",
       "      <td>NaN</td>\n",
       "      <td>Albania</td>\n",
       "      <td>41.1533</td>\n",
       "      <td>20.1683</td>\n",
       "      <td>0</td>\n",
       "      <td>0</td>\n",
       "      <td>0</td>\n",
       "      <td>0</td>\n",
       "      <td>0</td>\n",
       "      <td>0</td>\n",
       "      <td>...</td>\n",
       "      <td>1099</td>\n",
       "      <td>1122</td>\n",
       "      <td>1137</td>\n",
       "      <td>1143</td>\n",
       "      <td>1164</td>\n",
       "      <td>1184</td>\n",
       "      <td>1197</td>\n",
       "      <td>1212</td>\n",
       "      <td>1232</td>\n",
       "      <td>1246</td>\n",
       "    </tr>\n",
       "    <tr>\n",
       "      <th>2</th>\n",
       "      <td>NaN</td>\n",
       "      <td>Algeria</td>\n",
       "      <td>28.0339</td>\n",
       "      <td>1.6596</td>\n",
       "      <td>0</td>\n",
       "      <td>0</td>\n",
       "      <td>0</td>\n",
       "      <td>0</td>\n",
       "      <td>0</td>\n",
       "      <td>0</td>\n",
       "      <td>...</td>\n",
       "      <td>9134</td>\n",
       "      <td>9267</td>\n",
       "      <td>9394</td>\n",
       "      <td>9513</td>\n",
       "      <td>9626</td>\n",
       "      <td>9733</td>\n",
       "      <td>9831</td>\n",
       "      <td>9935</td>\n",
       "      <td>10050</td>\n",
       "      <td>10154</td>\n",
       "    </tr>\n",
       "    <tr>\n",
       "      <th>3</th>\n",
       "      <td>NaN</td>\n",
       "      <td>Andorra</td>\n",
       "      <td>42.5063</td>\n",
       "      <td>1.5218</td>\n",
       "      <td>0</td>\n",
       "      <td>0</td>\n",
       "      <td>0</td>\n",
       "      <td>0</td>\n",
       "      <td>0</td>\n",
       "      <td>0</td>\n",
       "      <td>...</td>\n",
       "      <td>764</td>\n",
       "      <td>764</td>\n",
       "      <td>764</td>\n",
       "      <td>765</td>\n",
       "      <td>844</td>\n",
       "      <td>851</td>\n",
       "      <td>852</td>\n",
       "      <td>852</td>\n",
       "      <td>852</td>\n",
       "      <td>852</td>\n",
       "    </tr>\n",
       "    <tr>\n",
       "      <th>4</th>\n",
       "      <td>NaN</td>\n",
       "      <td>Angola</td>\n",
       "      <td>-11.2027</td>\n",
       "      <td>17.8739</td>\n",
       "      <td>0</td>\n",
       "      <td>0</td>\n",
       "      <td>0</td>\n",
       "      <td>0</td>\n",
       "      <td>0</td>\n",
       "      <td>0</td>\n",
       "      <td>...</td>\n",
       "      <td>81</td>\n",
       "      <td>84</td>\n",
       "      <td>86</td>\n",
       "      <td>86</td>\n",
       "      <td>86</td>\n",
       "      <td>86</td>\n",
       "      <td>86</td>\n",
       "      <td>86</td>\n",
       "      <td>88</td>\n",
       "      <td>91</td>\n",
       "    </tr>\n",
       "  </tbody>\n",
       "</table>\n",
       "<p>5 rows × 142 columns</p>\n",
       "</div>"
      ],
      "text/plain": [
       "  Province/State Country/Region      Lat     Long  1/22/20  1/23/20  1/24/20  \\\n",
       "0            NaN    Afghanistan  33.0000  65.0000        0        0        0   \n",
       "1            NaN        Albania  41.1533  20.1683        0        0        0   \n",
       "2            NaN        Algeria  28.0339   1.6596        0        0        0   \n",
       "3            NaN        Andorra  42.5063   1.5218        0        0        0   \n",
       "4            NaN         Angola -11.2027  17.8739        0        0        0   \n",
       "\n",
       "   1/25/20  1/26/20  1/27/20  ...  5/29/20  5/30/20  5/31/20  6/1/20  6/2/20  \\\n",
       "0        0        0        0  ...    13659    14525    15205   15750   16509   \n",
       "1        0        0        0  ...     1099     1122     1137    1143    1164   \n",
       "2        0        0        0  ...     9134     9267     9394    9513    9626   \n",
       "3        0        0        0  ...      764      764      764     765     844   \n",
       "4        0        0        0  ...       81       84       86      86      86   \n",
       "\n",
       "   6/3/20  6/4/20  6/5/20  6/6/20  6/7/20  \n",
       "0   17267   18054   18969   19551   20342  \n",
       "1    1184    1197    1212    1232    1246  \n",
       "2    9733    9831    9935   10050   10154  \n",
       "3     851     852     852     852     852  \n",
       "4      86      86      86      88      91  \n",
       "\n",
       "[5 rows x 142 columns]"
      ]
     },
     "execution_count": 22,
     "metadata": {},
     "output_type": "execute_result"
    }
   ],
   "source": [
    "dfc.head()"
   ]
  },
  {
   "cell_type": "markdown",
   "metadata": {},
   "source": [
    "# Lat/Long Data"
   ]
  },
  {
   "cell_type": "code",
   "execution_count": 23,
   "metadata": {},
   "outputs": [],
   "source": [
    "# LAT / LONG DATA\n",
    "lat_long_df = transformer.prepare_latlong_data(dfd)"
   ]
  },
  {
   "cell_type": "markdown",
   "metadata": {},
   "source": [
    "# Data Transformation"
   ]
  },
  {
   "cell_type": "code",
   "execution_count": 8,
   "metadata": {},
   "outputs": [],
   "source": [
    "# COLUMNS TO SELECT\n",
    "cols = [col for col in dfd.columns if col not in [\"Lat\",\"Long\",\"Province/State\"]]\n",
    "date_cols = [col for col in dfd.columns if col not in [\"Lat\",\"Long\",\"Province/State\", \"Country/Region\"]]"
   ]
  },
  {
   "cell_type": "code",
   "execution_count": 24,
   "metadata": {},
   "outputs": [
    {
     "name": "stdout",
     "output_type": "stream",
     "text": [
      "for_model :True\n"
     ]
    }
   ],
   "source": [
    "# master_data = transformer.prepare_master_data([dfd, dfc, dfr], cols, date_cols, region_col = \"Country/Region\", for_world = True, for_model = False, is_sir_model = False)   # contains time series data for all the countries\n",
    "# master_data_var = transformer.prepare_master_data([dfd, dfc, dfr], cols, date_cols, region_col = \"Country/Region\", for_world = True, for_model = True, is_sir_model = False)   # contains time series data for all the countries\n",
    "master_data_sir = transformer.prepare_master_data([dfd, dfc, dfr], cols, date_cols, region_col = \"Country/Region\", for_world = True, for_model = True, is_sir_model = True)   # contains time series data for all the countries"
   ]
  },
  {
   "cell_type": "code",
   "execution_count": 25,
   "metadata": {},
   "outputs": [
    {
     "data": {
      "text/html": [
       "<div>\n",
       "<style scoped>\n",
       "    .dataframe tbody tr th:only-of-type {\n",
       "        vertical-align: middle;\n",
       "    }\n",
       "\n",
       "    .dataframe tbody tr th {\n",
       "        vertical-align: top;\n",
       "    }\n",
       "\n",
       "    .dataframe thead th {\n",
       "        text-align: right;\n",
       "    }\n",
       "</style>\n",
       "<table border=\"1\" class=\"dataframe\">\n",
       "  <thead>\n",
       "    <tr style=\"text-align: right;\">\n",
       "      <th></th>\n",
       "      <th>deaths</th>\n",
       "      <th>confirmed</th>\n",
       "      <th>recovered</th>\n",
       "      <th>active</th>\n",
       "      <th>region</th>\n",
       "    </tr>\n",
       "    <tr>\n",
       "      <th>Date</th>\n",
       "      <th></th>\n",
       "      <th></th>\n",
       "      <th></th>\n",
       "      <th></th>\n",
       "      <th></th>\n",
       "    </tr>\n",
       "  </thead>\n",
       "  <tbody>\n",
       "    <tr>\n",
       "      <th>2020-02-25</th>\n",
       "      <td>0</td>\n",
       "      <td>1</td>\n",
       "      <td>0</td>\n",
       "      <td>1</td>\n",
       "      <td>Afghanistan</td>\n",
       "    </tr>\n",
       "    <tr>\n",
       "      <th>2020-02-26</th>\n",
       "      <td>0</td>\n",
       "      <td>1</td>\n",
       "      <td>0</td>\n",
       "      <td>1</td>\n",
       "      <td>Afghanistan</td>\n",
       "    </tr>\n",
       "    <tr>\n",
       "      <th>2020-02-27</th>\n",
       "      <td>0</td>\n",
       "      <td>1</td>\n",
       "      <td>0</td>\n",
       "      <td>1</td>\n",
       "      <td>Afghanistan</td>\n",
       "    </tr>\n",
       "    <tr>\n",
       "      <th>2020-02-28</th>\n",
       "      <td>0</td>\n",
       "      <td>1</td>\n",
       "      <td>0</td>\n",
       "      <td>1</td>\n",
       "      <td>Afghanistan</td>\n",
       "    </tr>\n",
       "    <tr>\n",
       "      <th>2020-02-29</th>\n",
       "      <td>0</td>\n",
       "      <td>1</td>\n",
       "      <td>0</td>\n",
       "      <td>1</td>\n",
       "      <td>Afghanistan</td>\n",
       "    </tr>\n",
       "  </tbody>\n",
       "</table>\n",
       "</div>"
      ],
      "text/plain": [
       "            deaths  confirmed  recovered  active       region\n",
       "Date                                                         \n",
       "2020-02-25       0          1          0       1  Afghanistan\n",
       "2020-02-26       0          1          0       1  Afghanistan\n",
       "2020-02-27       0          1          0       1  Afghanistan\n",
       "2020-02-28       0          1          0       1  Afghanistan\n",
       "2020-02-29       0          1          0       1  Afghanistan"
      ]
     },
     "execution_count": 25,
     "metadata": {},
     "output_type": "execute_result"
    }
   ],
   "source": [
    "master_data_sir.head()"
   ]
  },
  {
   "cell_type": "markdown",
   "metadata": {},
   "source": [
    "# Fitting SIR Model using class"
   ]
  },
  {
   "cell_type": "code",
   "execution_count": 261,
   "metadata": {},
   "outputs": [],
   "source": [
    "# -*- coding: utf-8 -*-\n",
    "\"\"\"\n",
    "Created on Fri May 15 20:39:25 2020\n",
    "\n",
    "@author: gdanish\n",
    "\"\"\"\n",
    "\n",
    "import numpy as np\n",
    "import pandas as pd\n",
    "import datetime\n",
    "import constants\n",
    "import requests\n",
    "\n",
    "from statsmodels.tsa.api import VAR\n",
    "from statsmodels.tsa.stattools import adfuller\n",
    "from scipy import integrate, optimize\n",
    "from sklearn.metrics import mean_squared_log_error\n",
    "    \n",
    "class DataLoader():\n",
    "    \n",
    "    # def __init__(self, url):\n",
    "    #     self.url = url\n",
    "        \n",
    "    def load_data(self, url):\n",
    "        return pd.read_csv(url)\n",
    "    \n",
    "    def prepare_latlong_data(self, df):\n",
    "        \n",
    "        # LAT / LONG DATA\n",
    "        lat_long_df = df[[\"Country/Region\",\"Lat\",\"Long\"]]\n",
    "        lat_long_df.columns = ['country', 'Lat', 'Long']\n",
    "        lat_long_df = lat_long_df.groupby([\"country\"]).agg({\"Lat\":\"first\",\"Long\":\"first\"})\n",
    "        # lat_long_df = lat_long_df.groupby([\"Country/Region\"]).agg({\"Lat\":\"first\",\"Long\":\"first\"})\n",
    "        \n",
    "        # COLONIAL/PROVINCIAL COUNTRIES\n",
    "        coord_list = constants.COORDS[\"coord_list\"]\n",
    "        \n",
    "        # SETTING ONE SINGLE LAT/LONG FOR THESE COUNTRIES\n",
    "        coord_df = pd.DataFrame(coord_list).set_index('country')\n",
    "        coord_df_join =  lat_long_df.join(coord_df, rsuffix = 'c')\n",
    "        # print(coord_df_join.head())\n",
    "        \n",
    "        coord_df_join['Latm'] = np.where(coord_df_join['Latc'].isnull(),coord_df_join['Lat'],coord_df_join['Latc'])\n",
    "        coord_df_join['Longm'] = np.where(coord_df_join['Longc'].isnull(),coord_df_join['Long'],coord_df_join['Longc'])\n",
    "        # print(coord_df_join.head())\n",
    "        \n",
    "        coord_df_join = coord_df_join[['Latm','Longm']]\n",
    "        coord_df_join.columns = ['Lat','Long']\n",
    "        \n",
    "        return coord_df_join\n",
    "\n",
    "    def is_cumulative_increasing(self, series):\n",
    "        s = series.copy()\n",
    "        # print(s)\n",
    "        bad_idx_1 = [i for i in range(len(s)-1) if (s[i] > s[i+1]) & (s[i] > s[i-1])]\n",
    "        bad_idx_2 = [i+1 for i in range(len(s)-2) if (s[i+1] < s[i]) & (s[i+1] < s[i+2])]\n",
    "    \n",
    "        # print(bad_idx_1, bad_idx_2)\n",
    "        bad_idx_arr = bad_idx_1 + bad_idx_2\n",
    "        \n",
    "        if len(bad_idx_arr):    \n",
    "            return False, bad_idx_arr\n",
    "        else:\n",
    "            return True, bad_idx_arr\n",
    "\n",
    "    def check_source_data(self, series):\n",
    "        s = series.copy()\n",
    "        is_inc, bad_idx = self.is_cumulative_increasing(s)\n",
    "        if not is_inc:\n",
    "            for idx in bad_idx:\n",
    "                update_val = s[idx-1]\n",
    "    #             print(f\"idx:{idx}, current val:{s[idx]}, update_val:{update_val}\")\n",
    "                s[idx] = update_val\n",
    "    #             print(f\"idx:{idx}, current val:{s[idx]}\")\n",
    "        return s\n",
    "    \n",
    "    def prepare_timeseries(self, dfx, cols, region, region_col):\n",
    "        # TS DATA FOR WORLD\n",
    "        if region.lower() == \"world\":\n",
    "            ser = dfx[cols].agg(sum) # aggregating for the world\n",
    "            ser = self.check_source_data(ser) # checking the source data is cumulative increasing or not\n",
    "            \n",
    "        # TS DATA FOR COUNTRY\n",
    "        else:\n",
    "            ser = dfx[cols].groupby([region_col]).agg(sum) # some countries have state-wise data, so aggreagting\n",
    "            ser = ser.loc[region]\n",
    "            ser = self.check_source_data(ser) # checking the source data is cumulative increasing or not\n",
    "            # print(ser)\n",
    "        # print(ser[:2])\n",
    "        ser.index = pd.to_datetime(ser.index)\n",
    "        if len(ser) == 0:\n",
    "            print(f\"ERROR: CHECK REGION - {region}\")\n",
    "        # print(ser[:2])\n",
    "        return ser\n",
    "        \n",
    "    def find_infection_start_date(self, s, region):\n",
    "        # if region.lower() == 'an':\n",
    "        #     print(s[:2])\n",
    "        #     print(s[s > 0][:2])\n",
    "        s_pos = s[s > 0]\n",
    "        isd = pd.to_datetime(s.index[-1]) if len(s_pos) == 0 else pd.to_datetime(s_pos.index[0])\n",
    "        \n",
    "        # print(f\"region : {region} len:{len(s_pos)} isd: {isd}\")\n",
    "        return isd\n",
    "        \n",
    "    def concatenate_series(self, list_series, colnames):\n",
    "        df = pd.concat(list_series, axis = 1).reset_index()\n",
    "        df.columns = colnames\n",
    "        return df\n",
    "    \n",
    "    def get_daily_data(self, series, infection_start_date, for_model):\n",
    "        \n",
    "        # print(infection_start_date)\n",
    "        \n",
    "        # model is trained on data starting from first infection\n",
    "        if for_model:\n",
    "            series = series.loc[series.index > infection_start_date]\n",
    "            if len(series) == 0: # no cases in this region so far,\n",
    "                return series\n",
    "        \n",
    "        series_diff = series.diff(periods = 1)\n",
    "        # print(f\"series 0 : {len(series)} , diff 0 : {len(series_diff)}\")\n",
    "        series_diff[0] = series[0] # substituting for NA\n",
    "        # print(lseries)\n",
    "        # print(series_diff)\n",
    "        # print(series[:3])\n",
    "        # print(series_diff[:5])\n",
    "        \n",
    "        return series_diff\n",
    "        \n",
    "    def calculate_growth_rate(self, df):\n",
    "        \n",
    "        df_world = df.copy()\n",
    "        df_world = df_world.set_index('Date').astype(float)\n",
    "        # if region.lower() == \"mh\":\n",
    "        #     print(df_world.head())\n",
    "        #     print(df_world.info())\n",
    "        df_world[\"active_incr_rate\"] = np.round(100 * df_world[\"active_incr\"] / (df_world[\"active\"] - df_world[\"active_incr\"]), 2)\n",
    "        df_world[\"deaths_incr_rate\"] = np.round(100 * df_world[\"deaths_incr\"] / (df_world[\"deaths\"] - df_world[\"deaths_incr\"]), 2)\n",
    "        df_world[\"confirmed_incr_rate\"] = np.round(100 * df_world[\"confirmed_incr\"] / (df_world[\"confirmed\"] - df_world[\"confirmed_incr\"]), 2)\n",
    "        df_world[\"recovered_incr_rate\"] = np.round(100 * df_world[\"recovered_incr\"] / (df_world[\"recovered\"] - df_world[\"recovered_incr\"]), 2)\n",
    "        \n",
    "        # df_world[\"active_incr_frac\"] = np.round(100 * df_world[\"active_incr\"] / (df_world[\"confirmed_incr\"]), 2)\n",
    "        # df_world[\"deaths_incr_frac\"] = np.round(100 * df_world[\"deaths_incr\"] / (df_world[\"confirmed_incr\"]), 2)\n",
    "        # df_world[\"recovery_incr_frac\"] = np.round(100 * df_world[\"recovered_incr\"] / (df_world[\"confirmed_incr\"]), 2)\n",
    "        \n",
    "        df_world[\"active_frac\"] = np.round(100 * df_world[\"active\"] / (df_world[\"confirmed\"]), 2)\n",
    "        df_world[\"deaths_frac\"] = np.round(100 * df_world[\"deaths\"] / (df_world[\"confirmed\"]), 2)\n",
    "        df_world[\"recovery_frac\"] = np.round(100 * df_world[\"recovered\"] / (df_world[\"confirmed\"]), 2)\n",
    "        \n",
    "        # df_world[\"transmission_rate\"] = np.round(df_world[\"active_incr\"] / df_world[\"active\"], 2)\n",
    "        # df_world[\"case_fatality_rate\"] = np.round(df_world[\"deaths_incr\"] / df_world[\"active\"], 2)\n",
    "        # df_world[\"removal_rate\"] = np.round((df_world[\"recovered_incr\"] + df_world[\"deaths_incr\"])/ df_world[\"active\"], 2)\n",
    "        \n",
    "        # df_world[\"incubation_period\"] = np.round(1.0 / df_world[\"transmission_rate\"], 2)\n",
    "        # df_world[\"infection_period\"] = np.round(1.0 / df_world[\"removal_rate\"], 2)\n",
    "        df_world[\"reproduction_number\"] = np.round((1 + df_world[\"active_incr\"] / df_world[\"recovered_incr\"]), 2)\n",
    "        \n",
    "        # df_world['incubation_period'] = df_world['incubation_period'].replace([np.inf, -np.inf], 1)\n",
    "        # df_world['infection_period'] = df_world['infection_period'].replace([np.inf, -np.inf], 1)\n",
    "        df_world['reproduction_number'] = df_world['reproduction_number'].replace([np.inf, -np.inf], 1)\n",
    "        \n",
    "        df_world = df_world.replace([np.inf, -np.inf], 100)\n",
    "        df_world.fillna(0, inplace = True)\n",
    "        \n",
    "        df_world[\"active_incr_rate\"] = df_world[\"active_incr_rate\"].astype(str) + '%'\n",
    "        df_world[\"deaths_incr_rate\"] = df_world[\"deaths_incr_rate\"].astype(str) + '%'\n",
    "        df_world[\"confirmed_incr_rate\"] = df_world[\"confirmed_incr_rate\"].astype(str) + '%'\n",
    "        df_world[\"recovered_incr_rate\"] = df_world[\"recovered_incr_rate\"].astype(str) + '%'\n",
    "        \n",
    "        # df_world[\"active_incr_frac\"] = df_world[\"active_incr_frac\"].astype(str) + '%'\n",
    "        # df_world[\"deaths_incr_frac\"] = df_world[\"deaths_incr_frac\"].astype(str) + '%'\n",
    "        # df_world[\"recovery_incr_frac\"] = df_world[\"recovery_incr_frac\"].astype(str) + '%'\n",
    "        \n",
    "        df_world[\"active_frac\"] = df_world[\"active_frac\"].astype(str) + '%'\n",
    "        df_world[\"deaths_frac\"] = df_world[\"deaths_frac\"].astype(str) + '%'\n",
    "        df_world[\"recovery_frac\"] = df_world[\"recovery_frac\"].astype(str) + '%'\n",
    "        \n",
    "        # df_world.reset_index(inplace = True)\n",
    "        return df_world\n",
    "    \n",
    "    def get_region_ts_dict(self, final_forecast, i):\n",
    "        dct = {\n",
    "            'Date': final_forecast['Date'].astype(str).loc[i][:10],\n",
    "            'active': int(final_forecast.loc[i,'active']),\n",
    "            'deaths': int(final_forecast.loc[i,'deaths']),\n",
    "            'confirmed': int(final_forecast.loc[i,'confirmed']),\n",
    "            'recovered': int(final_forecast.loc[i,'recovered']),\n",
    "            'active_incr': int(final_forecast.loc[i,'active_incr']),\n",
    "            'deaths_incr': int(final_forecast.loc[i,'deaths_incr']),\n",
    "            'confirmed_incr': int(final_forecast.loc[i,'confirmed_incr']),\n",
    "            'recovered_incr': int(final_forecast.loc[i,'recovered_incr']),\n",
    "            'active_incr_rate': final_forecast.loc[i,'active_incr_rate'],\n",
    "            'deaths_incr_rate': final_forecast.loc[i,'deaths_incr_rate'],\n",
    "            'confirmed_incr_rate': final_forecast.loc[i,'confirmed_incr_rate'],\n",
    "            'recovered_incr_rate': final_forecast.loc[i,'recovered_incr_rate'],\n",
    "            # 'active_incr_frac': final_forecast.loc[i,'active_incr_frac'],\n",
    "            # 'deaths_incr_frac': final_forecast.loc[i,'deaths_incr_frac'],\n",
    "            # 'recovery_incr_frac': final_forecast.loc[i,'recovery_incr_frac'],\n",
    "            'active_frac': final_forecast.loc[i,'active_frac'],\n",
    "            'deaths_frac': final_forecast.loc[i,'deaths_frac'],\n",
    "            'recovery_frac': final_forecast.loc[i,'recovery_frac'],\n",
    "            # 'transmission_rate': final_forecast.loc[i,'transmission_rate'],\n",
    "            # 'case_fatality_rate': final_forecast.loc[i,'case_fatality_rate'],\n",
    "            # 'removal_rate': final_forecast.loc[i,'removal_rate'],\n",
    "            # 'incubation_period': final_forecast.loc[i,'incubation_period'],\n",
    "            # 'infection_period': final_forecast.loc[i,'infection_period'],\n",
    "            'reproduction_number': final_forecast.loc[i,'reproduction_number']\n",
    "        }\n",
    "        return dct\n",
    "    \n",
    "    def get_countrywise_stats_dict(self, df_country, i):\n",
    "        country_dict = {\n",
    "            'Country': df_country.loc[i,'region'],\n",
    "            'Lat': float(df_country.loc[i,'Lat']),\n",
    "            'Long': float(df_country.loc[i,'Long']),\n",
    "            'deaths': int(df_country.loc[i,'deaths']),\n",
    "            'confirmed': int(df_country.loc[i,'confirmed']),\n",
    "            'recovered': int(df_country.loc[i,'recovered']),\n",
    "            'active': int(df_country.loc[i,'active']),\n",
    "            'deaths_incr': int(df_country.loc[i,'deaths_incr']),\n",
    "            'confirmed_incr': int(df_country.loc[i,'confirmed_incr']),\n",
    "            'recovered_incr': int(df_country.loc[i,'recovered_incr']),\n",
    "            'active_incr': int(df_country.loc[i,'active_incr']),\n",
    "            'deaths_incr_rate': df_country.loc[i,'deaths_incr_rate'],\n",
    "            'confirmed_incr_rate': df_country.loc[i,'confirmed_incr_rate'],\n",
    "            'recovered_incr_rate': df_country.loc[i,'recovered_incr_rate'],\n",
    "            # 'active_incr_frac': df_country.loc[i,'active_incr_frac'],\n",
    "            # 'deaths_incr_frac': df_country.loc[i,'deaths_incr_frac'],\n",
    "            # 'recovery_incr_frac': df_country.loc[i,'recovery_incr_frac'],\n",
    "            'active_frac': df_country.loc[i,'active_frac'],\n",
    "            'deaths_frac': df_country.loc[i,'deaths_frac'],\n",
    "            'recovery_frac': df_country.loc[i,'recovery_frac'],\n",
    "            # 'transmission_rate': df_country.loc[i,'transmission_rate'],\n",
    "            # 'case_fatality_rate': df_country.loc[i,'case_fatality_rate'],\n",
    "            # 'removal_rate': df_country.loc[i,'removal_rate'],\n",
    "            # 'incubation_period': df_country.loc[i,'incubation_period'],\n",
    "            # 'infection_period': df_country.loc[i,'infection_period'],\n",
    "            'reproduction_number': df_country.loc[i,'reproduction_number']\n",
    "        }\n",
    "        return country_dict\n",
    "    \n",
    "    def get_statewise_stats_dict(self, df_states_overall, i):\n",
    "        state_dict = {\n",
    "            # \n",
    "            'State': df_states_overall.loc[i,'state'],\n",
    "            'State Code': df_states_overall.loc[i,'region'].upper(),\n",
    "            'Lat': float(df_states_overall.loc[i,'latitude']),\n",
    "            'Long': float(df_states_overall.loc[i,'longitude']),\n",
    "            'deaths': int(df_states_overall.loc[i,'deaths']),\n",
    "            'confirmed': int(df_states_overall.loc[i,'confirmed']),\n",
    "            'recovered': int(df_states_overall.loc[i,'recovered']),\n",
    "            'deaths_incr': int(df_states_overall.loc[i,'deaths_incr']),\n",
    "            'confirmed_incr': int(df_states_overall.loc[i,'confirmed_incr']),\n",
    "            'recovered_incr': int(df_states_overall.loc[i,'recovered_incr']),\n",
    "            'deaths_incr_rate': df_states_overall.loc[i,'deaths_incr_rate'],\n",
    "            'confirmed_incr_rate': df_states_overall.loc[i,'confirmed_incr_rate'],\n",
    "            'recovered_incr_rate': df_states_overall.loc[i,'recovered_incr_rate'],\n",
    "            # 'active_incr_frac': df_states_overall.loc[i,'active_incr_frac'],\n",
    "            # 'deaths_incr_frac': df_states_overall.loc[i,'deaths_incr_frac'],\n",
    "            # 'recovery_incr_frac': df_states_overall.loc[i,'recovery_incr_frac'],\n",
    "            'active_frac': df_states_overall.loc[i,'active_frac'],\n",
    "            'deaths_frac': df_states_overall.loc[i,'deaths_frac'],\n",
    "            'recovery_frac': df_states_overall.loc[i,'recovery_frac'],\n",
    "            # 'transmission_rate': df_states_overall.loc[i,'transmission_rate'],\n",
    "            # 'case_fatality_rate': df_states_overall.loc[i,'case_fatality_rate'],\n",
    "            # 'removal_rate': df_states_overall.loc[i,'removal_rate'],\n",
    "            # 'incubation_period': df_states_overall.loc[i,'incubation_period'],\n",
    "            # 'infection_period': df_states_overall.loc[i,'infection_period'],\n",
    "            'reproduction_number': df_states_overall.loc[i,'reproduction_number']\n",
    "        }\n",
    "        return state_dict\n",
    "    \n",
    "    def get_districtwise_stats_dict(self, dct):\n",
    "        \n",
    "        dist_dict = {}\n",
    "        dist_dict['district'] = dct['district']\n",
    "        dist_dict['confirmed'] = dct['confirmed']\n",
    "        dist_dict['deaths'] = dct['deceased']\n",
    "        dist_dict['recovered'] = dct['recovered']\n",
    "        dist_dict['active'] = dist_dict['confirmed'] - dist_dict['deaths'] - dist_dict['recovered']\n",
    "        \n",
    "        dist_dict['deaths_frac'] = np.round(100 * dist_dict['deaths'] / dist_dict['confirmed'])\n",
    "        dist_dict['recovered_frac'] = np.round(100 * dist_dict['recovered'] / dist_dict['confirmed'])\n",
    "        dist_dict['active_frac'] = np.round(100 * dist_dict['active'] / dist_dict['confirmed'])\n",
    "        \n",
    "        dist_dict['confirmed_incr'] = dct['delta']['confirmed']\n",
    "        dist_dict['recovered_incr'] = dct['delta']['recovered']\n",
    "        dist_dict['deaths_incr'] = dct['delta']['deceased']\n",
    "        dist_dict['active_incr'] = dist_dict['confirmed_incr'] - dist_dict['deaths_incr'] - dist_dict['recovered_incr']\n",
    "        \n",
    "        dist_dict['confirmed_incr_rate'] = 0.0 if dist_dict['confirmed'] - dist_dict['confirmed_incr'] == 0 else np.round(100 * dist_dict['confirmed_incr'] / (dist_dict['confirmed'] - dist_dict['confirmed_incr']), 2)\n",
    "        dist_dict['recovered_incr_rate'] = 0.0 if dist_dict['recovered'] - dist_dict['recovered_incr'] == 0 else np.round(100 * dist_dict['recovered_incr'] / (dist_dict['recovered'] - dist_dict['recovered_incr']), 2)\n",
    "        dist_dict['deaths_incr_rate'] = 0.0 if dist_dict['deaths'] - dist_dict['deaths_incr'] == 0 else np.round(100 * dist_dict['deaths_incr'] / (dist_dict['deaths'] - dist_dict['deaths_incr']), 2)\n",
    "        dist_dict['active_incr_rate'] = 0.0 if dist_dict['active'] - dist_dict['active_incr'] == 0 else np.round(100 * dist_dict['active_incr'] / (dist_dict['active'] - dist_dict['active_incr']), 2)\n",
    "        \n",
    "        # dist_dict[\"transmission_rate_daily\"] = 0.0 if dist_dict['active'] - dist_dict['active_incr'] == 0 else np.round(100 * dist_dict[\"active_incr\"] / (dist_dict[\"active\"] - dist_dict[\"active_incr\"]), 2)\n",
    "        # dist_dict[\"case_fatality_rate_daily\"] = 0.0 if dist_dict['confirmed_incr'] == 0 else np.round(100 * dist_dict[\"deaths_incr\"] / (dist_dict[\"confirmed_incr\"]), 2)\n",
    "        # dist_dict[\"recovery_rate_daily\"] = 0.0 if dist_dict['confirmed_incr'] == 0 else np.round(100 * dist_dict[\"recovered_incr\"] / (dist_dict[\"confirmed_incr\"]), 2)\n",
    "        \n",
    "        # dist_dict[\"reproduction_number\"] = 0.0 if dist_dict['recovered_incr'] == 0 else np.round((1 + dist_dict[\"active_incr\"] / dist_dict[\"recovered_incr\"]), 2)\n",
    "        # dist_dict[\"case_fatality_rate_cum\"] = 0.0 if dist_dict['confirmed'] == 0 else np.round(100 * dist_dict[\"deaths\"] / (dist_dict[\"confirmed\"]), 2)\n",
    "        # dist_dict[\"recovery_rate_cum\"] = 0.0 if dist_dict['confirmed'] == 0 else np.round(100 * dist_dict[\"recovered\"] / (dist_dict[\"confirmed\"]), 2)\n",
    "        \n",
    "        dist_dict['confirmed_incr_rate'] = str(dist_dict['confirmed_incr_rate']) + '%'\n",
    "        dist_dict['recovered_incr_rate'] = str(dist_dict['recovered_incr_rate']) + '%'\n",
    "        dist_dict['deaths_incr_rate'] = str(dist_dict['deaths_incr_rate']) + '%'\n",
    "        dist_dict['active_incr_rate'] = str(dist_dict['active_incr_rate']) + '%'\n",
    "        \n",
    "        dist_dict['recovered_frac'] = str(dist_dict['recovered_frac']) + '%'\n",
    "        dist_dict['deaths_frac'] = str(dist_dict['deaths_frac']) + '%'\n",
    "        dist_dict['active_frac'] = str(dist_dict['active_frac']) + '%'\n",
    "        # dist_dict['transmission_rate_daily'] = str(dist_dict['transmission_rate_daily']) + '%'\n",
    "        # dist_dict['case_fatality_rate_daily'] = str(dist_dict['case_fatality_rate_daily']) + '%'\n",
    "        # dist_dict['recovery_rate_daily'] = str(dist_dict['recovery_rate_daily']) + '%'\n",
    "        # dist_dict['case_fatality_rate_cum'] = str(dist_dict['case_fatality_rate_cum']) + '%'\n",
    "        # dist_dict['recovery_rate_cum'] = str(dist_dict['recovery_rate_cum']) + '%'\n",
    "        \n",
    "        return dist_dict\n",
    "    \n",
    "class DataTransformer(DataLoader):\n",
    "            \n",
    "    def prepare_region_ts_dataframe(self, list_df, cols, region, region_col, for_model, is_sir_model):\n",
    "        \n",
    "        region_case_series_list = [self.prepare_timeseries(dfx, cols, region, region_col) for dfx in list_df]\n",
    "        # print(len(region_case_series_list))\n",
    "        # print(region_case_series_list[0])\n",
    "        region_active_case_series = region_case_series_list[1] - region_case_series_list[0] - region_case_series_list[2] # active = confirmed - recovered - deaths\n",
    "        \n",
    "        region_case_series_list.append(region_active_case_series)\n",
    "        # print(len(region_case_series_list))\n",
    "        \n",
    "        infection_start_date = self.find_infection_start_date(region_case_series_list[1], region)\n",
    "        # infection_start_date = pd.to_datetime(infection_start_str)\n",
    "        \n",
    "        region_case_series_diff_list = [self.get_daily_data(ser, infection_start_date, for_model) for ser in region_case_series_list ]\n",
    "        \n",
    "        # print(len(region_case_series_diff_list))\n",
    "        # print(infection_start_date)\n",
    "        \n",
    "        if for_model: \n",
    "            # print(\"INSIDE FOR MODEL\")\n",
    "            model_df_cols =  [\"Date\",\"deaths\", \"confirmed\", \"recovered\", \"active\"]\n",
    "            \n",
    "            # DATA FOR SIR MODEL / VAR MODEL\n",
    "            df = self.concatenate_series(region_case_series_list, model_df_cols) if is_sir_model else self.concatenate_series(region_case_series_diff_list, model_df_cols)\n",
    "            df[\"Date\"] = pd.to_datetime(df[\"Date\"])\n",
    "            \n",
    "            # TAKING DATA FROM 1st CONFIRMED CASE\n",
    "            df = df[df.Date > infection_start_date]\n",
    "            df.set_index('Date', inplace = True)\n",
    "        else:\n",
    "            # print(f\"INSIDE FOR DATA - {region}\")\n",
    "            comb_lists = region_case_series_list + region_case_series_diff_list\n",
    "            comb_cols = [\"Date\",\"deaths\", \"confirmed\", \"recovered\",\"active\",\"deaths_incr\",\"confirmed_incr\",\"recovered_incr\",\"active_incr\"]\n",
    "            df = self.concatenate_series(comb_lists, comb_cols)\n",
    "            # print(df.head())\n",
    "        \n",
    "            # DAILY GROWTH RATE\n",
    "            df = self.calculate_growth_rate(df)\n",
    "    \n",
    "        df['region'] = region\n",
    "        return df\n",
    "    \n",
    "    def prepare_master_data(self, list_df, cols, date_cols, region_col, for_world, for_model, is_sir_model):\n",
    "        \n",
    "        # list of all countries\n",
    "        df = list_df[0]\n",
    "        regions = df[region_col].unique().tolist()\n",
    "        if for_world:\n",
    "            regions.append('World')\n",
    "        # print(countries)\n",
    "        \n",
    "        print(f\"for_model :{for_model}\")\n",
    "        # LIST OF DATAFRAMES FOR EACH REGION\n",
    "        master_list_regions_df = [self.prepare_region_ts_dataframe(list_df, date_cols, region, region_col, for_model, is_sir_model) if region.lower() == \"world\" \n",
    "                           else self.prepare_region_ts_dataframe(list_df, cols, region, region_col, for_model, is_sir_model)  for region in regions]\n",
    "        \n",
    "        # CONCATENATING TO ONE SINGLE DATAFRAME\n",
    "        master_df = pd.concat(master_list_regions_df, axis = 0)\n",
    "        \n",
    "        return master_df\n",
    "            \n",
    "class DataTransformerIndia(DataTransformer):\n",
    "    \n",
    "    def __init__(self, url1, url2):\n",
    "        self.india_district_url = url1\n",
    "        self.india_states_daily_url = url2\n",
    "        \n",
    "    def load_district_data(self):\n",
    "        dict_dist = requests.get(self.india_district_url).json()\n",
    "        df_dist = pd.DataFrame(dict_dist)\n",
    "        df_dist['statecode'] = df_dist['statecode'].str.lower()\n",
    "        df_dist['state'] = df_dist['state'].str.lower()\n",
    "        return df_dist\n",
    "    \n",
    "    def load_states_data(self):\n",
    "        dict_states = requests.get(self.india_states_daily_url).json()\n",
    "        df_states = pd.DataFrame(dict_states['states_daily'])\n",
    "        # df_states['date'] = pd.to_datetime(df_states['date'])\n",
    "        \n",
    "        # STATES DATA - OVERALL\n",
    "        int_cols = [col for col in df_states.columns if col not in ['date','status']]\n",
    "        # df_states_drop = df_states.drop(['date','status'],axis = 1)\n",
    "        # df_states_drop = df_states_drop.replace('',0).astype(int)\n",
    "        \n",
    "        df_states[int_cols] = df_states[int_cols].replace('',0).astype(int)\n",
    "        \n",
    "        # df_states_status = df_states.status\n",
    "        # df_states_comb = pd.concat([df_states_drop,df_states_status], axis = 1)  # Appending status col\n",
    "        \n",
    "        return df_states\n",
    "    \n",
    "    def load_data(self,df_states, status):\n",
    "        dfsx = df_states[df_states.status == status]\n",
    "        dfsx_w0 = dfsx.drop(['status','date'], axis = 1).cumsum()\n",
    "        dfsx_dt = dfsx['date']\n",
    "        \n",
    "        dfsx_comb = pd.concat([dfsx_dt, dfsx_w0], axis = 1)\n",
    "        dfsx_comb = dfsx_comb.set_index('date').T\n",
    "        cols = dfsx_comb.columns.tolist()\n",
    "        dfsx_comb.reset_index(inplace =True)\n",
    "        dfsx_comb.columns = ['state_code'] + cols\n",
    "        return dfsx_comb\n",
    "    \n",
    "    def load_state_coord_data(self):\n",
    "        \n",
    "        # state_code_df = pd.DataFrame(state_code_dict).sort_values('state_code')\n",
    "        state_code_df = pd.read_csv(\"state_coords.csv\")\n",
    "        state_code_df['region'] = state_code_df['region'].str.lower()\n",
    "        state_code_df.set_index('region', inplace = True)\n",
    "        return state_code_df\n",
    "    \n",
    "    def get_statecode_latlong(self, state_code_df, state_name):\n",
    "        \n",
    "        # FILTERING FOR THE GIVEN STATE - BY DEFAULT GIVING TOTAL\n",
    "        state_code_df_mod = state_code_df.copy()\n",
    "        state_code_df_filt = state_code_df_mod[state_code_df_mod.state.str.lower() == state_name]\n",
    "        \n",
    "        state_lat = float(state_code_df_filt.latitude.values[0])\n",
    "        state_long = float(state_code_df_filt.longitude.values[0])\n",
    "        state_code = \"tt\" if state_name == \"total\" else state_code_df_filt.index[0]\n",
    "        return state_code, state_lat, state_long\n",
    "\n",
    "class VectorAutoRegression(DataLoader):\n",
    "    \n",
    "    def __init__(self, df, forecast_days):\n",
    "        \n",
    "        self.train = df\n",
    "        self.forecast_days = forecast_days\n",
    "        self.test_days = 0\n",
    "        \n",
    "        # START AND END DATES OF FORECASTING\n",
    "        self.start_date = self.train.index[-1] + datetime.timedelta(1)\n",
    "        self.end_date = self.start_date + datetime.timedelta(self.test_days+self.forecast_days-1)      # forecasting for test data + num_days in future\n",
    "        \n",
    "        # LOG TRANSFORMATION\n",
    "        self.train_log = np.log1p(self.train)\n",
    "        \n",
    "        # MAKING STATIONARY BY DIFFERENCING\n",
    "        self.train_diff1 = self.train_log.diff(1).dropna()\n",
    "        self.train_diff2 = self.train_diff1.diff(1).dropna()\n",
    "        \n",
    "    def fit(self):\n",
    "        \n",
    "        # STATIONARITY CHECK\n",
    "        # self.adfuller_test(self.train_diff2.deaths)   \n",
    "        # self.adfuller_test(self.train_diff2.confirmed)\n",
    "        # self.adfuller_test(self.train_diff2.recovered)\n",
    "        \n",
    "        # MODELING\n",
    "        model = VAR(self.train_diff2)  # VAR model\n",
    "        \n",
    "        # SELECTING ORDER p FOR VAR MODEL\n",
    "        # x = model.select_order(maxlags=12)\n",
    "        # x.summary()\n",
    "        \n",
    "        # FITTING THE MODEL\n",
    "        res = model.fit(4)                                 # ORDER = 4 FOR MINIMUM AIC\n",
    "        return res\n",
    "    \n",
    "    def predict(self, res):\n",
    "        \n",
    "        # INITIAL INPUT FOR FORECAST\n",
    "        lag_order = res.k_ar                               # 4 as shosen above\n",
    "        forecast_input = self.train_diff2.values[-lag_order:]   # Taking last 4 training data as initial input for forecasting\n",
    "        \n",
    "        # FORECASTING\n",
    "        num_days_forecast = self.test_days+self.forecast_days                    # forecasting for test data + num_days in future\n",
    "        pred = res.forecast(forecast_input, num_days_forecast)  # numpy array of forecast values\n",
    "        idx = pd.date_range(start=self.start_date, end=self.end_date) # date range for forecast data\n",
    "        pred_df = pd.DataFrame(pred, index=idx, columns=self.train_diff2.columns + '_2d') # converintg to dataframe\n",
    "        \n",
    "        # INVERSE TRANSFORMATION\n",
    "        pred_df_inv1 = self.invert_transformation(pred_df,self.train_log, self.train_diff1, self.train_diff2, second_diff=True, third_diff=False)      # inverting 2nd diff to 1st diff\n",
    "        pred_df_inv = self.invert_transformation(pred_df_inv1,self.train_log, self.train_diff1, self.train_diff2, second_diff=False, third_diff=False) # inverting 1st diff and taking inverse log tr\n",
    "        \n",
    "        # SELECTING REQUIRED COLUMNS\n",
    "        df_forecast = pred_df_inv.iloc[:,-3:]\n",
    "        df_forecast.columns = self.train_diff2.columns\n",
    "        \n",
    "        # EVALUATING PREDICTIONS\n",
    "        # test_f = test.join(df_forecast, rsuffix='_f')\n",
    "        # mape(test_f.deaths_f, test_f.deaths)\n",
    "        # mape(test_f.confirmed_f, test_f.confirmed)\n",
    "        # mape(test_f.recovered_f, test_f.recovered)\n",
    "        \n",
    "        # COMBINING TRAIN WITH FORECAST DATA\n",
    "        new_cases_forecast = pd.concat([self.train, df_forecast], axis = 0)\n",
    "        new_cases_forecast['active'] = new_cases_forecast['confirmed'] - new_cases_forecast['deaths']- new_cases_forecast['recovered']\n",
    "        total_cases_forecast = new_cases_forecast.cumsum()\n",
    "        \n",
    "        # COMBINING \n",
    "        final_forecast = pd.concat([total_cases_forecast,new_cases_forecast], axis = 1).reset_index()\n",
    "        final_forecast.columns = ['Date'] + new_cases_forecast.columns.tolist() + [col + '_incr' for col in new_cases_forecast.columns]\n",
    "    \n",
    "        final_forecast['Date'] = final_forecast.Date.astype(str)\n",
    "        final_forecast = self.calculate_growth_rate(final_forecast)\n",
    "        return final_forecast\n",
    "    \n",
    "    def adfuller_test(self, series):\n",
    "        \"\"\"\n",
    "        Parameters\n",
    "        ----------\n",
    "        series : a time series to check stationarity for\n",
    "        Null Hypothesis H0 : Series is not stationary\n",
    "\n",
    "        Returns\n",
    "        -------\n",
    "        p_value : Probability that null hypothesis is true\n",
    "\n",
    "        \"\"\"\n",
    "        r = adfuller(series, autolag='AIC')\n",
    "        output = {'test_statistic':round(r[0], 4), 'pvalue':round(r[1], 4), 'n_lags':round(r[2], 4), 'n_obs':r[3]}\n",
    "        p_value = output['pvalue']\n",
    "        return p_value,p_value <= 0.05\n",
    "    \n",
    "    def invert_transformation(self, df_forecast, train_log, train_diff1, train_diff2, second_diff, third_diff):\n",
    "        \"\"\"\n",
    "        Revert back the differencing to get the forecast to original scale.\n",
    "        \"\"\"\n",
    "        df_fc = df_forecast.copy()\n",
    "        columns = train_log.columns\n",
    "        \n",
    "        for col in columns:      \n",
    "            \n",
    "            # Roll back 3rd Diff\n",
    "            if third_diff:\n",
    "                df_fc[str(col)+'_2d'] = train_diff2[col].iloc[-1] + df_fc[str(col)+'_3d'].cumsum()\n",
    "            \n",
    "            # Roll back 2nd Diff\n",
    "            elif second_diff:\n",
    "                df_fc[str(col)+'_1d'] = train_diff1[col].iloc[-1] + df_fc[str(col)+'_2d'].cumsum()\n",
    "            \n",
    "            # Roll back 1st Diff and take inverse log transformation\n",
    "            else:\n",
    "                df_fc[str(col)+'_forecast'] = round(np.expm1(train_log[col].iloc[-1] + df_fc[str(col)+'_1d'].cumsum()))\n",
    "        \n",
    "        return df_fc\n",
    "    \n",
    "    \n",
    "class CompartmentalModel(DataLoader):\n",
    "    \n",
    "    def __init__(self, df, region, forecast_days, is_states):\n",
    "        \n",
    "        self.train = df\n",
    "        self.region = region\n",
    "        self.is_states = is_states\n",
    "        self.forecast_days = forecast_days\n",
    "        self.test_days = 0\n",
    "        \n",
    "        # START AND END DATES OF FORECASTING\n",
    "        self.inf_start_date = self.train.index[0]\n",
    "        self.start_date = self.train.index[-1] + datetime.timedelta(1)\n",
    "        self.end_date = self.start_date + datetime.timedelta(self.test_days+self.forecast_days-1)      # forecasting for test data + num_days in future\n",
    "        \n",
    "        # LOG TRANSFORMATION\n",
    "        # self.train_log = np.log1p(self.train)\n",
    "        \n",
    "    def get_population_data(self):\n",
    "        \"\"\"\n",
    "        Population Size for the Selected Country\n",
    "        \"\"\"\n",
    "        if self.is_states:\n",
    "            N = state_code_df.loc[self.region]['population']\n",
    "        else:\n",
    "            dfp = pd.read_csv(\"population.csv\")\n",
    "            N = dfp.loc[dfp['Country (or dependency)'].str.lower() == self.region, 'Population (2020)'].values[0]\n",
    "#         return 50000000\n",
    "        return int(N)\n",
    "\n",
    "    \n",
    "    def get_initial_guess_for_hyperparams(self):\n",
    "        # TUNING PARAMETERS\n",
    "        beta = 0.001 # transmission_rate\n",
    "        gamma = 0.001 # removal_rate\n",
    "        cfr = 0.2 # case_fatality_rate\n",
    "        initial_guess = (beta, gamma, cfr)\n",
    "        return initial_guess\n",
    "    \n",
    "    def get_sir_model_data(self):\n",
    "        \n",
    "        # Population data for the country\n",
    "        N = self.get_population_data()\n",
    "        df = self.train\n",
    "        \n",
    "        # Filtering TS data for the country\n",
    "        df = df[df.region.str.lower() == self.region].iloc[:,:3]\n",
    "        \n",
    "        # Creating S, I, R series data\n",
    "        df['removed'] = df['deaths'] + df['recovered']\n",
    "        df['infected'] = df['confirmed'] - df['removed']\n",
    "        df['susceptible'] = N - df['infected'] - df['removed']\n",
    "        \n",
    "        # Selecting required cols and normalizing\n",
    "#         dfm = df.iloc[:,3:] / N\n",
    "        dfm = df.iloc[:,3:]\n",
    "        return dfm\n",
    "    \n",
    "    def get_initial_condition(self, df):\n",
    "        # Initial Conditions\n",
    "        y_0 = df.values[0]\n",
    "        \n",
    "        return y_0.tolist()\n",
    "    \n",
    "    def msle(self,x,y):\n",
    "        return np.mean((np.log1p(x) - np.log1p(y))**2)\n",
    "\n",
    "    def fit(self):\n",
    "        \n",
    "        sir_df = self.get_sir_model_data()\n",
    "        print(sir_df.head())\n",
    "        y_0 = self.get_initial_condition(sir_df)\n",
    "        print(y_0)\n",
    "        params_0 = self.get_initial_guess_for_hyperparams()\n",
    "        print(params_0)\n",
    "        optimal = optimize.minimize(\n",
    "            self.loss,\n",
    "            params_0[:-1],\n",
    "            args=(sir_df, y_0),\n",
    "            method='L-BFGS-B',\n",
    "            bounds=[(0.00000001, 0.4), (0.00000001, 0.4)]\n",
    "        )\n",
    "        beta, gamma = optimal.x\n",
    "        return optimal\n",
    "        \n",
    "    def loss(self, params, df, y_0):\n",
    "        \n",
    "        size = len(df)\n",
    "        \n",
    "        def sir_model(t, y):\n",
    "            \"\"\"\n",
    "            # Model Definition\n",
    "            \"\"\"\n",
    "            # Unpacking variables and parameters\n",
    "            r, i, s = y\n",
    "            beta, gamma = params\n",
    "            \n",
    "            # Differential Equations of SIR Model\n",
    "            dsdt = -beta * s * i\n",
    "            didt = beta * s * i - gamma * i\n",
    "            drdt = gamma * i\n",
    "            return [drdt, didt, dsdt]\n",
    "        \n",
    "        # Solving Initial Value Problem - Uses Runge-Kutta RK45 Algorithm\n",
    "        solution = integrate.solve_ivp(sir_model, [0, size], y_0, t_eval=np.arange(0, size, 1), vectorized=True)\n",
    "        \n",
    "        # Calculate MSLE Loss\n",
    "#         l0 = mean_squared_log_error(df.removed, solution.y[0])\n",
    "#         l1 = mean_squared_log_error(df.infected, solution.y[1])\n",
    "#         l2 = mean_squared_log_error(df.susceptible, solution.y[2])\n",
    "\n",
    "        l0 = self.msle(df.removed, solution.y[0])\n",
    "        l1 = self.msle(df.infected, solution.y[1])\n",
    "        l2 = self.msle(df.susceptible, solution.y[2])\n",
    "        \n",
    "        # Put more emphasis on recovered people\n",
    "#         alpha = 0.1\n",
    "#         msle_weighted = alpha * l1 + (1 - alpha) * l2\n",
    "        msle_weighted = np.mean([l0,l1,l2])\n",
    "        print(f\"MSLE Removed :{l0}, MSLE Infected :{l1}, MSLE Susceptible :{l2}, MSLE Average :{msle_weighted}\")\n",
    "        return msle_weighted\n",
    "    \n",
    "    def predict(self, params, df):\n",
    "        \n",
    "        # EXTENDING DATES\n",
    "        idx = pd.date_range(start=self.inf_start_date, end=self.end_date) # date range for forecast data\n",
    "        \n",
    "        size = len(idx)\n",
    "        \n",
    "        def sir_model(t, y):\n",
    "            \"\"\"\n",
    "            # Model Definition\n",
    "            \"\"\"\n",
    "            # Unpacking variables and parameters\n",
    "            r, i, s = y\n",
    "            beta, gamma = params\n",
    "            \n",
    "            # Differential Equations of SIR Model\n",
    "            dsdt = -beta * s * i\n",
    "            didt = beta * s * i - gamma * i\n",
    "            drdt = gamma * i\n",
    "            return [drdt, didt, dsdt]\n",
    "        \n",
    "        # Solving Initial Value Problem - Uses Runge-Kutta RK45 Algorithm\n",
    "        solution = integrate.solve_ivp(sir_model, [0, size], y_0, t_eval=np.arange(0, size, 1), vectorized=True)\n",
    "        \n",
    "        # Creating Forecast DF\n",
    "        forecast_df = pd.DataFrame({\"removed_f\":solution.y[0],\"infected_f\":solution.y[1],\"susceptible_f\":solution.y[2]},index = idx)\n",
    "        forecast_df = forecast_df.join(df)\n",
    "        return forecast_df"
   ]
  },
  {
   "cell_type": "code",
   "execution_count": null,
   "metadata": {},
   "outputs": [],
   "source": []
  },
  {
   "cell_type": "code",
   "execution_count": 263,
   "metadata": {},
   "outputs": [],
   "source": [
    "sir = CompartmentalModel(master_data_sir, \"india\", 50, False)"
   ]
  },
  {
   "cell_type": "code",
   "execution_count": 216,
   "metadata": {},
   "outputs": [],
   "source": [
    "N = sir.get_population_data()\n",
    "df = sir.train"
   ]
  },
  {
   "cell_type": "code",
   "execution_count": 217,
   "metadata": {},
   "outputs": [],
   "source": [
    "sir_df = sir.get_sir_model_data()"
   ]
  },
  {
   "cell_type": "code",
   "execution_count": 218,
   "metadata": {},
   "outputs": [
    {
     "data": {
      "text/html": [
       "<div>\n",
       "<style scoped>\n",
       "    .dataframe tbody tr th:only-of-type {\n",
       "        vertical-align: middle;\n",
       "    }\n",
       "\n",
       "    .dataframe tbody tr th {\n",
       "        vertical-align: top;\n",
       "    }\n",
       "\n",
       "    .dataframe thead th {\n",
       "        text-align: right;\n",
       "    }\n",
       "</style>\n",
       "<table border=\"1\" class=\"dataframe\">\n",
       "  <thead>\n",
       "    <tr style=\"text-align: right;\">\n",
       "      <th></th>\n",
       "      <th>deaths</th>\n",
       "      <th>confirmed</th>\n",
       "      <th>recovered</th>\n",
       "      <th>active</th>\n",
       "      <th>region</th>\n",
       "    </tr>\n",
       "    <tr>\n",
       "      <th>Date</th>\n",
       "      <th></th>\n",
       "      <th></th>\n",
       "      <th></th>\n",
       "      <th></th>\n",
       "      <th></th>\n",
       "    </tr>\n",
       "  </thead>\n",
       "  <tbody>\n",
       "    <tr>\n",
       "      <th>2020-01-31</th>\n",
       "      <td>0</td>\n",
       "      <td>1</td>\n",
       "      <td>0</td>\n",
       "      <td>1</td>\n",
       "      <td>India</td>\n",
       "    </tr>\n",
       "    <tr>\n",
       "      <th>2020-02-01</th>\n",
       "      <td>0</td>\n",
       "      <td>1</td>\n",
       "      <td>0</td>\n",
       "      <td>1</td>\n",
       "      <td>India</td>\n",
       "    </tr>\n",
       "    <tr>\n",
       "      <th>2020-02-02</th>\n",
       "      <td>0</td>\n",
       "      <td>2</td>\n",
       "      <td>0</td>\n",
       "      <td>2</td>\n",
       "      <td>India</td>\n",
       "    </tr>\n",
       "    <tr>\n",
       "      <th>2020-02-03</th>\n",
       "      <td>0</td>\n",
       "      <td>3</td>\n",
       "      <td>0</td>\n",
       "      <td>3</td>\n",
       "      <td>India</td>\n",
       "    </tr>\n",
       "    <tr>\n",
       "      <th>2020-02-04</th>\n",
       "      <td>0</td>\n",
       "      <td>3</td>\n",
       "      <td>0</td>\n",
       "      <td>3</td>\n",
       "      <td>India</td>\n",
       "    </tr>\n",
       "  </tbody>\n",
       "</table>\n",
       "</div>"
      ],
      "text/plain": [
       "            deaths  confirmed  recovered  active region\n",
       "Date                                                   \n",
       "2020-01-31       0          1          0       1  India\n",
       "2020-02-01       0          1          0       1  India\n",
       "2020-02-02       0          2          0       2  India\n",
       "2020-02-03       0          3          0       3  India\n",
       "2020-02-04       0          3          0       3  India"
      ]
     },
     "execution_count": 218,
     "metadata": {},
     "output_type": "execute_result"
    }
   ],
   "source": [
    "sir.train[sir.train.region.str.lower()=='india'].head()"
   ]
  },
  {
   "cell_type": "code",
   "execution_count": 219,
   "metadata": {
    "scrolled": true
   },
   "outputs": [
    {
     "data": {
      "text/html": [
       "<div>\n",
       "<style scoped>\n",
       "    .dataframe tbody tr th:only-of-type {\n",
       "        vertical-align: middle;\n",
       "    }\n",
       "\n",
       "    .dataframe tbody tr th {\n",
       "        vertical-align: top;\n",
       "    }\n",
       "\n",
       "    .dataframe thead th {\n",
       "        text-align: right;\n",
       "    }\n",
       "</style>\n",
       "<table border=\"1\" class=\"dataframe\">\n",
       "  <thead>\n",
       "    <tr style=\"text-align: right;\">\n",
       "      <th></th>\n",
       "      <th>removed</th>\n",
       "      <th>infected</th>\n",
       "      <th>susceptible</th>\n",
       "    </tr>\n",
       "    <tr>\n",
       "      <th>Date</th>\n",
       "      <th></th>\n",
       "      <th></th>\n",
       "      <th></th>\n",
       "    </tr>\n",
       "  </thead>\n",
       "  <tbody>\n",
       "    <tr>\n",
       "      <th>2020-01-31</th>\n",
       "      <td>0</td>\n",
       "      <td>1</td>\n",
       "      <td>49999999</td>\n",
       "    </tr>\n",
       "    <tr>\n",
       "      <th>2020-02-01</th>\n",
       "      <td>0</td>\n",
       "      <td>1</td>\n",
       "      <td>49999999</td>\n",
       "    </tr>\n",
       "    <tr>\n",
       "      <th>2020-02-02</th>\n",
       "      <td>0</td>\n",
       "      <td>2</td>\n",
       "      <td>49999998</td>\n",
       "    </tr>\n",
       "    <tr>\n",
       "      <th>2020-02-03</th>\n",
       "      <td>0</td>\n",
       "      <td>3</td>\n",
       "      <td>49999997</td>\n",
       "    </tr>\n",
       "    <tr>\n",
       "      <th>2020-02-04</th>\n",
       "      <td>0</td>\n",
       "      <td>3</td>\n",
       "      <td>49999997</td>\n",
       "    </tr>\n",
       "  </tbody>\n",
       "</table>\n",
       "</div>"
      ],
      "text/plain": [
       "            removed  infected  susceptible\n",
       "Date                                      \n",
       "2020-01-31        0         1     49999999\n",
       "2020-02-01        0         1     49999999\n",
       "2020-02-02        0         2     49999998\n",
       "2020-02-03        0         3     49999997\n",
       "2020-02-04        0         3     49999997"
      ]
     },
     "execution_count": 219,
     "metadata": {},
     "output_type": "execute_result"
    }
   ],
   "source": [
    "sir_df.head()"
   ]
  },
  {
   "cell_type": "code",
   "execution_count": 220,
   "metadata": {},
   "outputs": [],
   "source": [
    "y_0 = sir.get_initial_condition(sir_df)"
   ]
  },
  {
   "cell_type": "code",
   "execution_count": 221,
   "metadata": {},
   "outputs": [
    {
     "data": {
      "text/plain": [
       "[0, 1, 49999999]"
      ]
     },
     "execution_count": 221,
     "metadata": {},
     "output_type": "execute_result"
    }
   ],
   "source": [
    "y_0"
   ]
  },
  {
   "cell_type": "code",
   "execution_count": 222,
   "metadata": {},
   "outputs": [],
   "source": [
    "params_0 = sir.get_initial_guess_for_hyperparams()"
   ]
  },
  {
   "cell_type": "code",
   "execution_count": 223,
   "metadata": {},
   "outputs": [
    {
     "data": {
      "text/plain": [
       "(0.001, 0.001, 0.2)"
      ]
     },
     "execution_count": 223,
     "metadata": {},
     "output_type": "execute_result"
    }
   ],
   "source": [
    "params_0"
   ]
  },
  {
   "cell_type": "code",
   "execution_count": 230,
   "metadata": {},
   "outputs": [
    {
     "data": {
      "text/plain": [
       "array([[ 1.42298201, -0.90399455, -0.01957713],\n",
       "       [ 0.85028502,  0.22507938, -1.26457474]])"
      ]
     },
     "execution_count": 230,
     "metadata": {},
     "output_type": "execute_result"
    }
   ],
   "source": [
    "np.random.randn(2,3)"
   ]
  },
  {
   "cell_type": "code",
   "execution_count": 227,
   "metadata": {},
   "outputs": [],
   "source": [
    "optimal = optimize.minimize(\n",
    "            sir.loss,\n",
    "            params_0[:-1],\n",
    "            args=(sir_df, y_0),\n",
    "            method='L-BFGS-B',\n",
    "            bounds=[(0.000001, 0.4), (0.000001, 0.4)],\n",
    "            options={'verbose':1}\n",
    "        )"
   ]
  },
  {
   "cell_type": "code",
   "execution_count": 196,
   "metadata": {},
   "outputs": [
    {
     "data": {
      "text/plain": [
       "array([1.00000000e-06, 5.92306262e-05])"
      ]
     },
     "execution_count": 196,
     "metadata": {},
     "output_type": "execute_result"
    }
   ],
   "source": [
    "optimal.x"
   ]
  },
  {
   "cell_type": "code",
   "execution_count": 197,
   "metadata": {},
   "outputs": [],
   "source": [
    "res = sir.predict(optimal.x, sir_df)"
   ]
  },
  {
   "cell_type": "code",
   "execution_count": 199,
   "metadata": {},
   "outputs": [
    {
     "data": {
      "text/html": [
       "<div>\n",
       "<style scoped>\n",
       "    .dataframe tbody tr th:only-of-type {\n",
       "        vertical-align: middle;\n",
       "    }\n",
       "\n",
       "    .dataframe tbody tr th {\n",
       "        vertical-align: top;\n",
       "    }\n",
       "\n",
       "    .dataframe thead th {\n",
       "        text-align: right;\n",
       "    }\n",
       "</style>\n",
       "<table border=\"1\" class=\"dataframe\">\n",
       "  <thead>\n",
       "    <tr style=\"text-align: right;\">\n",
       "      <th></th>\n",
       "      <th>removed_f</th>\n",
       "      <th>infected_f</th>\n",
       "      <th>susceptible_f</th>\n",
       "      <th>removed</th>\n",
       "      <th>infected</th>\n",
       "      <th>susceptible</th>\n",
       "    </tr>\n",
       "  </thead>\n",
       "  <tbody>\n",
       "    <tr>\n",
       "      <th>2020-04-19</th>\n",
       "      <td>821.270083</td>\n",
       "      <td>499178.251214</td>\n",
       "      <td>4.787037e-01</td>\n",
       "      <td>3413.0</td>\n",
       "      <td>14202.0</td>\n",
       "      <td>482385.0</td>\n",
       "    </tr>\n",
       "    <tr>\n",
       "      <th>2020-04-20</th>\n",
       "      <td>850.835854</td>\n",
       "      <td>499148.872965</td>\n",
       "      <td>2.911815e-01</td>\n",
       "      <td>3865.0</td>\n",
       "      <td>14674.0</td>\n",
       "      <td>481461.0</td>\n",
       "    </tr>\n",
       "    <tr>\n",
       "      <th>2020-04-21</th>\n",
       "      <td>880.399882</td>\n",
       "      <td>499119.423530</td>\n",
       "      <td>1.765882e-01</td>\n",
       "      <td>4620.0</td>\n",
       "      <td>15460.0</td>\n",
       "      <td>479920.0</td>\n",
       "    </tr>\n",
       "    <tr>\n",
       "      <th>2020-04-22</th>\n",
       "      <td>909.962165</td>\n",
       "      <td>499089.930419</td>\n",
       "      <td>1.074166e-01</td>\n",
       "      <td>5051.0</td>\n",
       "      <td>16319.0</td>\n",
       "      <td>478630.0</td>\n",
       "    </tr>\n",
       "    <tr>\n",
       "      <th>2020-04-23</th>\n",
       "      <td>939.522700</td>\n",
       "      <td>499060.412150</td>\n",
       "      <td>6.514990e-02</td>\n",
       "      <td>5733.0</td>\n",
       "      <td>17344.0</td>\n",
       "      <td>476923.0</td>\n",
       "    </tr>\n",
       "    <tr>\n",
       "      <th>...</th>\n",
       "      <td>...</td>\n",
       "      <td>...</td>\n",
       "      <td>...</td>\n",
       "      <td>...</td>\n",
       "      <td>...</td>\n",
       "      <td>...</td>\n",
       "    </tr>\n",
       "    <tr>\n",
       "      <th>2020-07-23</th>\n",
       "      <td>3622.215832</td>\n",
       "      <td>496377.784168</td>\n",
       "      <td>-2.531728e-07</td>\n",
       "      <td>NaN</td>\n",
       "      <td>NaN</td>\n",
       "      <td>NaN</td>\n",
       "    </tr>\n",
       "    <tr>\n",
       "      <th>2020-07-24</th>\n",
       "      <td>3651.615728</td>\n",
       "      <td>496348.384272</td>\n",
       "      <td>-6.041878e-07</td>\n",
       "      <td>NaN</td>\n",
       "      <td>NaN</td>\n",
       "      <td>NaN</td>\n",
       "    </tr>\n",
       "    <tr>\n",
       "      <th>2020-07-25</th>\n",
       "      <td>3681.013883</td>\n",
       "      <td>496318.986117</td>\n",
       "      <td>-4.446193e-07</td>\n",
       "      <td>NaN</td>\n",
       "      <td>NaN</td>\n",
       "      <td>NaN</td>\n",
       "    </tr>\n",
       "    <tr>\n",
       "      <th>2020-07-26</th>\n",
       "      <td>3710.410297</td>\n",
       "      <td>496289.589703</td>\n",
       "      <td>1.437752e-07</td>\n",
       "      <td>NaN</td>\n",
       "      <td>NaN</td>\n",
       "      <td>NaN</td>\n",
       "    </tr>\n",
       "    <tr>\n",
       "      <th>2020-07-27</th>\n",
       "      <td>3739.804970</td>\n",
       "      <td>496260.195030</td>\n",
       "      <td>8.052846e-07</td>\n",
       "      <td>NaN</td>\n",
       "      <td>NaN</td>\n",
       "      <td>NaN</td>\n",
       "    </tr>\n",
       "  </tbody>\n",
       "</table>\n",
       "<p>100 rows × 6 columns</p>\n",
       "</div>"
      ],
      "text/plain": [
       "              removed_f     infected_f  susceptible_f  removed  infected  \\\n",
       "2020-04-19   821.270083  499178.251214   4.787037e-01   3413.0   14202.0   \n",
       "2020-04-20   850.835854  499148.872965   2.911815e-01   3865.0   14674.0   \n",
       "2020-04-21   880.399882  499119.423530   1.765882e-01   4620.0   15460.0   \n",
       "2020-04-22   909.962165  499089.930419   1.074166e-01   5051.0   16319.0   \n",
       "2020-04-23   939.522700  499060.412150   6.514990e-02   5733.0   17344.0   \n",
       "...                 ...            ...            ...      ...       ...   \n",
       "2020-07-23  3622.215832  496377.784168  -2.531728e-07      NaN       NaN   \n",
       "2020-07-24  3651.615728  496348.384272  -6.041878e-07      NaN       NaN   \n",
       "2020-07-25  3681.013883  496318.986117  -4.446193e-07      NaN       NaN   \n",
       "2020-07-26  3710.410297  496289.589703   1.437752e-07      NaN       NaN   \n",
       "2020-07-27  3739.804970  496260.195030   8.052846e-07      NaN       NaN   \n",
       "\n",
       "            susceptible  \n",
       "2020-04-19     482385.0  \n",
       "2020-04-20     481461.0  \n",
       "2020-04-21     479920.0  \n",
       "2020-04-22     478630.0  \n",
       "2020-04-23     476923.0  \n",
       "...                 ...  \n",
       "2020-07-23          NaN  \n",
       "2020-07-24          NaN  \n",
       "2020-07-25          NaN  \n",
       "2020-07-26          NaN  \n",
       "2020-07-27          NaN  \n",
       "\n",
       "[100 rows x 6 columns]"
      ]
     },
     "execution_count": 199,
     "metadata": {},
     "output_type": "execute_result"
    }
   ],
   "source": [
    "res.tail(100)"
   ]
  },
  {
   "cell_type": "code",
   "execution_count": 200,
   "metadata": {},
   "outputs": [
    {
     "data": {
      "text/plain": [
       "<matplotlib.axes._subplots.AxesSubplot at 0x22857201f88>"
      ]
     },
     "execution_count": 200,
     "metadata": {},
     "output_type": "execute_result"
    },
    {
     "data": {
      "image/png": "[encoded data removed]",
      "text/plain": [
       "<Figure size 432x288 with 1 Axes>"
      ]
     },
     "metadata": {
      "needs_background": "light"
     },
     "output_type": "display_data"
    }
   ],
   "source": [
    "res.iloc[:,[0,3]].plot()"
   ]
  },
  {
   "cell_type": "code",
   "execution_count": 201,
   "metadata": {},
   "outputs": [
    {
     "data": {
      "text/plain": [
       "<matplotlib.axes._subplots.AxesSubplot at 0x228571c5c48>"
      ]
     },
     "execution_count": 201,
     "metadata": {},
     "output_type": "execute_result"
    },
    {
     "data": {
      "image/png": "[encoded data removed]",
      "text/plain": [
       "<Figure size 432x288 with 1 Axes>"
      ]
     },
     "metadata": {
      "needs_background": "light"
     },
     "output_type": "display_data"
    }
   ],
   "source": [
    "res.iloc[:,[1,4]].plot()"
   ]
  },
  {
   "cell_type": "code",
   "execution_count": 202,
   "metadata": {},
   "outputs": [
    {
     "data": {
      "text/plain": [
       "<matplotlib.axes._subplots.AxesSubplot at 0x22857266648>"
      ]
     },
     "execution_count": 202,
     "metadata": {},
     "output_type": "execute_result"
    },
    {
     "data": {
      "image/png": "[encoded data removed]",
      "text/plain": [
       "<Figure size 432x288 with 1 Axes>"
      ]
     },
     "metadata": {
      "needs_background": "light"
     },
     "output_type": "display_data"
    }
   ],
   "source": [
    "res.iloc[:,[2,5]].plot()"
   ]
  },
  {
   "cell_type": "code",
   "execution_count": null,
   "metadata": {},
   "outputs": [],
   "source": []
  },
  {
   "cell_type": "code",
   "execution_count": null,
   "metadata": {},
   "outputs": [],
   "source": []
  },
  {
   "cell_type": "code",
   "execution_count": null,
   "metadata": {},
   "outputs": [],
   "source": []
  },
  {
   "cell_type": "markdown",
   "metadata": {},
   "source": [
    "# India States"
   ]
  },
  {
   "cell_type": "code",
   "execution_count": 286,
   "metadata": {},
   "outputs": [],
   "source": [
    "# INDIA DATA\n",
    "india_district_url = constants.INDIA['india_district_url']\n",
    "india_states_daily_url = constants.INDIA['india_states_daily_url']\n",
    "\n",
    "# CREATING INSTANCE\n",
    "statesman = master.DataTransformerIndia(india_district_url, india_states_daily_url)"
   ]
  },
  {
   "cell_type": "code",
   "execution_count": 287,
   "metadata": {},
   "outputs": [],
   "source": [
    "# DISTRICTS AND STATES DATA\n",
    "df_dist = statesman.load_district_data()\n",
    "df_states = statesman.load_states_data()\n",
    "dfsd, dfsc, dfsr = [statesman.load_data(df_states, status) for status in ['Deceased', 'Confirmed', 'Recovered']]"
   ]
  },
  {
   "cell_type": "code",
   "execution_count": 288,
   "metadata": {},
   "outputs": [],
   "source": [
    "# STATES COORDS DATA\n",
    "state_code_df = statesman.load_state_coord_data()\n",
    "# print(state_code_df.head())\n",
    "\n",
    "# REQUIRED COLUMN NAMES\n",
    "cols_state = dfsd.columns.tolist()\n",
    "date_cols_state = [col for col in dfsd.columns if col not in [\"state_code\"]]"
   ]
  },
  {
   "cell_type": "code",
   "execution_count": 289,
   "metadata": {},
   "outputs": [
    {
     "data": {
      "text/html": [
       "<div>\n",
       "<style scoped>\n",
       "    .dataframe tbody tr th:only-of-type {\n",
       "        vertical-align: middle;\n",
       "    }\n",
       "\n",
       "    .dataframe tbody tr th {\n",
       "        vertical-align: top;\n",
       "    }\n",
       "\n",
       "    .dataframe thead th {\n",
       "        text-align: right;\n",
       "    }\n",
       "</style>\n",
       "<table border=\"1\" class=\"dataframe\">\n",
       "  <thead>\n",
       "    <tr style=\"text-align: right;\">\n",
       "      <th></th>\n",
       "      <th>state</th>\n",
       "      <th>latitude</th>\n",
       "      <th>longitude</th>\n",
       "      <th>population</th>\n",
       "    </tr>\n",
       "    <tr>\n",
       "      <th>region</th>\n",
       "      <th></th>\n",
       "      <th></th>\n",
       "      <th></th>\n",
       "      <th></th>\n",
       "    </tr>\n",
       "  </thead>\n",
       "  <tbody>\n",
       "    <tr>\n",
       "      <th>an</th>\n",
       "      <td>Andaman and Nicobar Islands</td>\n",
       "      <td>11.740087</td>\n",
       "      <td>92.658640</td>\n",
       "      <td>380581.0</td>\n",
       "    </tr>\n",
       "    <tr>\n",
       "      <th>ap</th>\n",
       "      <td>Andhra Pradesh</td>\n",
       "      <td>15.912900</td>\n",
       "      <td>79.740000</td>\n",
       "      <td>84580777.0</td>\n",
       "    </tr>\n",
       "    <tr>\n",
       "      <th>ar</th>\n",
       "      <td>Arunachal Pradesh</td>\n",
       "      <td>28.210000</td>\n",
       "      <td>94.720000</td>\n",
       "      <td>1383727.0</td>\n",
       "    </tr>\n",
       "    <tr>\n",
       "      <th>as</th>\n",
       "      <td>Assam</td>\n",
       "      <td>26.244156</td>\n",
       "      <td>92.537842</td>\n",
       "      <td>31205576.0</td>\n",
       "    </tr>\n",
       "    <tr>\n",
       "      <th>br</th>\n",
       "      <td>Bihar</td>\n",
       "      <td>25.090000</td>\n",
       "      <td>85.310000</td>\n",
       "      <td>104099452.0</td>\n",
       "    </tr>\n",
       "  </tbody>\n",
       "</table>\n",
       "</div>"
      ],
      "text/plain": [
       "                              state   latitude  longitude   population\n",
       "region                                                                \n",
       "an      Andaman and Nicobar Islands  11.740087  92.658640     380581.0\n",
       "ap                   Andhra Pradesh  15.912900  79.740000   84580777.0\n",
       "ar                Arunachal Pradesh  28.210000  94.720000    1383727.0\n",
       "as                            Assam  26.244156  92.537842   31205576.0\n",
       "br                            Bihar  25.090000  85.310000  104099452.0"
      ]
     },
     "execution_count": 289,
     "metadata": {},
     "output_type": "execute_result"
    }
   ],
   "source": [
    "state_code_df.head()"
   ]
  },
  {
   "cell_type": "code",
   "execution_count": 290,
   "metadata": {},
   "outputs": [
    {
     "name": "stdout",
     "output_type": "stream",
     "text": [
      "for_model :True\n"
     ]
    }
   ],
   "source": [
    "# FINDING STATES MASTER DATA\n",
    "# state_master_data = statesman.prepare_master_data([dfsd, dfsc, dfsr], cols_state, date_cols_state, region_col = \"state_code\", for_world = False, for_model = False, is_sir_model = False)   # contains time series data for all the countries\n",
    "# state_master_data_var = statesman.prepare_master_data([dfsd, dfsc, dfsr], cols_state, date_cols_state, region_col = \"state_code\", for_world = False, for_model = True, is_sir_model = False)   # contains time series data for all the countries\n",
    "state_master_data_sir = statesman.prepare_master_data([dfsd, dfsc, dfsr], cols_state, date_cols_state, region_col = \"state_code\", for_world = False, for_model = True, is_sir_model = True)   # contains time series data for all the countries"
   ]
  },
  {
   "cell_type": "code",
   "execution_count": 291,
   "metadata": {},
   "outputs": [
    {
     "data": {
      "text/html": [
       "<div>\n",
       "<style scoped>\n",
       "    .dataframe tbody tr th:only-of-type {\n",
       "        vertical-align: middle;\n",
       "    }\n",
       "\n",
       "    .dataframe tbody tr th {\n",
       "        vertical-align: top;\n",
       "    }\n",
       "\n",
       "    .dataframe thead th {\n",
       "        text-align: right;\n",
       "    }\n",
       "</style>\n",
       "<table border=\"1\" class=\"dataframe\">\n",
       "  <thead>\n",
       "    <tr style=\"text-align: right;\">\n",
       "      <th></th>\n",
       "      <th>deaths</th>\n",
       "      <th>confirmed</th>\n",
       "      <th>recovered</th>\n",
       "      <th>active</th>\n",
       "      <th>region</th>\n",
       "    </tr>\n",
       "    <tr>\n",
       "      <th>Date</th>\n",
       "      <th></th>\n",
       "      <th></th>\n",
       "      <th></th>\n",
       "      <th></th>\n",
       "      <th></th>\n",
       "    </tr>\n",
       "  </thead>\n",
       "  <tbody>\n",
       "    <tr>\n",
       "      <th>2020-03-27</th>\n",
       "      <td>0</td>\n",
       "      <td>6</td>\n",
       "      <td>0</td>\n",
       "      <td>6</td>\n",
       "      <td>an</td>\n",
       "    </tr>\n",
       "    <tr>\n",
       "      <th>2020-03-28</th>\n",
       "      <td>0</td>\n",
       "      <td>9</td>\n",
       "      <td>0</td>\n",
       "      <td>9</td>\n",
       "      <td>an</td>\n",
       "    </tr>\n",
       "    <tr>\n",
       "      <th>2020-03-29</th>\n",
       "      <td>0</td>\n",
       "      <td>9</td>\n",
       "      <td>0</td>\n",
       "      <td>9</td>\n",
       "      <td>an</td>\n",
       "    </tr>\n",
       "    <tr>\n",
       "      <th>2020-03-30</th>\n",
       "      <td>0</td>\n",
       "      <td>10</td>\n",
       "      <td>0</td>\n",
       "      <td>10</td>\n",
       "      <td>an</td>\n",
       "    </tr>\n",
       "    <tr>\n",
       "      <th>2020-03-31</th>\n",
       "      <td>0</td>\n",
       "      <td>10</td>\n",
       "      <td>0</td>\n",
       "      <td>10</td>\n",
       "      <td>an</td>\n",
       "    </tr>\n",
       "    <tr>\n",
       "      <th>...</th>\n",
       "      <td>...</td>\n",
       "      <td>...</td>\n",
       "      <td>...</td>\n",
       "      <td>...</td>\n",
       "      <td>...</td>\n",
       "    </tr>\n",
       "    <tr>\n",
       "      <th>2020-06-04</th>\n",
       "      <td>355</td>\n",
       "      <td>6876</td>\n",
       "      <td>2768</td>\n",
       "      <td>3753</td>\n",
       "      <td>wb</td>\n",
       "    </tr>\n",
       "    <tr>\n",
       "      <th>2020-06-05</th>\n",
       "      <td>366</td>\n",
       "      <td>7303</td>\n",
       "      <td>2912</td>\n",
       "      <td>4025</td>\n",
       "      <td>wb</td>\n",
       "    </tr>\n",
       "    <tr>\n",
       "      <th>2020-06-06</th>\n",
       "      <td>383</td>\n",
       "      <td>7738</td>\n",
       "      <td>3119</td>\n",
       "      <td>4236</td>\n",
       "      <td>wb</td>\n",
       "    </tr>\n",
       "    <tr>\n",
       "      <th>2020-06-07</th>\n",
       "      <td>396</td>\n",
       "      <td>8187</td>\n",
       "      <td>3303</td>\n",
       "      <td>4488</td>\n",
       "      <td>wb</td>\n",
       "    </tr>\n",
       "    <tr>\n",
       "      <th>2020-06-08</th>\n",
       "      <td>405</td>\n",
       "      <td>8613</td>\n",
       "      <td>3465</td>\n",
       "      <td>4743</td>\n",
       "      <td>wb</td>\n",
       "    </tr>\n",
       "  </tbody>\n",
       "</table>\n",
       "<p>2724 rows × 5 columns</p>\n",
       "</div>"
      ],
      "text/plain": [
       "            deaths  confirmed  recovered  active region\n",
       "Date                                                   \n",
       "2020-03-27       0          6          0       6     an\n",
       "2020-03-28       0          9          0       9     an\n",
       "2020-03-29       0          9          0       9     an\n",
       "2020-03-30       0         10          0      10     an\n",
       "2020-03-31       0         10          0      10     an\n",
       "...            ...        ...        ...     ...    ...\n",
       "2020-06-04     355       6876       2768    3753     wb\n",
       "2020-06-05     366       7303       2912    4025     wb\n",
       "2020-06-06     383       7738       3119    4236     wb\n",
       "2020-06-07     396       8187       3303    4488     wb\n",
       "2020-06-08     405       8613       3465    4743     wb\n",
       "\n",
       "[2724 rows x 5 columns]"
      ]
     },
     "execution_count": 291,
     "metadata": {},
     "output_type": "execute_result"
    }
   ],
   "source": [
    "state_master_data_sir"
   ]
  },
  {
   "cell_type": "code",
   "execution_count": 292,
   "metadata": {},
   "outputs": [
    {
     "data": {
      "text/plain": [
       "37"
      ]
     },
     "execution_count": 292,
     "metadata": {},
     "output_type": "execute_result"
    }
   ],
   "source": [
    "state_master_data_sir.region.nunique()"
   ]
  },
  {
   "cell_type": "code",
   "execution_count": 285,
   "metadata": {},
   "outputs": [
    {
     "data": {
      "text/html": [
       "<div>\n",
       "<style scoped>\n",
       "    .dataframe tbody tr th:only-of-type {\n",
       "        vertical-align: middle;\n",
       "    }\n",
       "\n",
       "    .dataframe tbody tr th {\n",
       "        vertical-align: top;\n",
       "    }\n",
       "\n",
       "    .dataframe thead th {\n",
       "        text-align: right;\n",
       "    }\n",
       "</style>\n",
       "<table border=\"1\" class=\"dataframe\">\n",
       "  <thead>\n",
       "    <tr style=\"text-align: right;\">\n",
       "      <th></th>\n",
       "      <th>deaths</th>\n",
       "      <th>confirmed</th>\n",
       "      <th>recovered</th>\n",
       "      <th>active</th>\n",
       "      <th>region</th>\n",
       "    </tr>\n",
       "    <tr>\n",
       "      <th>Date</th>\n",
       "      <th></th>\n",
       "      <th></th>\n",
       "      <th></th>\n",
       "      <th></th>\n",
       "      <th></th>\n",
       "    </tr>\n",
       "  </thead>\n",
       "  <tbody>\n",
       "    <tr>\n",
       "      <th>2020-03-18</th>\n",
       "      <td>0</td>\n",
       "      <td>1</td>\n",
       "      <td>0</td>\n",
       "      <td>1</td>\n",
       "      <td>wb</td>\n",
       "    </tr>\n",
       "    <tr>\n",
       "      <th>2020-03-19</th>\n",
       "      <td>0</td>\n",
       "      <td>1</td>\n",
       "      <td>0</td>\n",
       "      <td>1</td>\n",
       "      <td>wb</td>\n",
       "    </tr>\n",
       "    <tr>\n",
       "      <th>2020-03-20</th>\n",
       "      <td>0</td>\n",
       "      <td>2</td>\n",
       "      <td>0</td>\n",
       "      <td>2</td>\n",
       "      <td>wb</td>\n",
       "    </tr>\n",
       "    <tr>\n",
       "      <th>2020-03-21</th>\n",
       "      <td>0</td>\n",
       "      <td>4</td>\n",
       "      <td>0</td>\n",
       "      <td>4</td>\n",
       "      <td>wb</td>\n",
       "    </tr>\n",
       "    <tr>\n",
       "      <th>2020-03-22</th>\n",
       "      <td>0</td>\n",
       "      <td>7</td>\n",
       "      <td>0</td>\n",
       "      <td>7</td>\n",
       "      <td>wb</td>\n",
       "    </tr>\n",
       "    <tr>\n",
       "      <th>...</th>\n",
       "      <td>...</td>\n",
       "      <td>...</td>\n",
       "      <td>...</td>\n",
       "      <td>...</td>\n",
       "      <td>...</td>\n",
       "    </tr>\n",
       "    <tr>\n",
       "      <th>2020-06-04</th>\n",
       "      <td>355</td>\n",
       "      <td>6876</td>\n",
       "      <td>2768</td>\n",
       "      <td>3753</td>\n",
       "      <td>wb</td>\n",
       "    </tr>\n",
       "    <tr>\n",
       "      <th>2020-06-05</th>\n",
       "      <td>366</td>\n",
       "      <td>7303</td>\n",
       "      <td>2912</td>\n",
       "      <td>4025</td>\n",
       "      <td>wb</td>\n",
       "    </tr>\n",
       "    <tr>\n",
       "      <th>2020-06-06</th>\n",
       "      <td>383</td>\n",
       "      <td>7738</td>\n",
       "      <td>3119</td>\n",
       "      <td>4236</td>\n",
       "      <td>wb</td>\n",
       "    </tr>\n",
       "    <tr>\n",
       "      <th>2020-06-07</th>\n",
       "      <td>396</td>\n",
       "      <td>8187</td>\n",
       "      <td>3303</td>\n",
       "      <td>4488</td>\n",
       "      <td>wb</td>\n",
       "    </tr>\n",
       "    <tr>\n",
       "      <th>2020-06-08</th>\n",
       "      <td>405</td>\n",
       "      <td>8613</td>\n",
       "      <td>3465</td>\n",
       "      <td>4743</td>\n",
       "      <td>wb</td>\n",
       "    </tr>\n",
       "  </tbody>\n",
       "</table>\n",
       "<p>83 rows × 5 columns</p>\n",
       "</div>"
      ],
      "text/plain": [
       "            deaths  confirmed  recovered  active region\n",
       "Date                                                   \n",
       "2020-03-18       0          1          0       1     wb\n",
       "2020-03-19       0          1          0       1     wb\n",
       "2020-03-20       0          2          0       2     wb\n",
       "2020-03-21       0          4          0       4     wb\n",
       "2020-03-22       0          7          0       7     wb\n",
       "...            ...        ...        ...     ...    ...\n",
       "2020-06-04     355       6876       2768    3753     wb\n",
       "2020-06-05     366       7303       2912    4025     wb\n",
       "2020-06-06     383       7738       3119    4236     wb\n",
       "2020-06-07     396       8187       3303    4488     wb\n",
       "2020-06-08     405       8613       3465    4743     wb\n",
       "\n",
       "[83 rows x 5 columns]"
      ]
     },
     "execution_count": 285,
     "metadata": {},
     "output_type": "execute_result"
    }
   ],
   "source": [
    "state_master_data_sir[state_master_data_sir.region.str.lower()=='wb']"
   ]
  },
  {
   "cell_type": "code",
   "execution_count": 264,
   "metadata": {},
   "outputs": [],
   "source": [
    "sir_states = CompartmentalModel(state_master_data_sir, \"dd\", 50, True)"
   ]
  },
  {
   "cell_type": "code",
   "execution_count": 265,
   "metadata": {},
   "outputs": [],
   "source": [
    "N = sir_states.get_population_data()\n",
    "df = sir_states.train"
   ]
  },
  {
   "cell_type": "code",
   "execution_count": 270,
   "metadata": {},
   "outputs": [
    {
     "data": {
      "text/html": [
       "<div>\n",
       "<style scoped>\n",
       "    .dataframe tbody tr th:only-of-type {\n",
       "        vertical-align: middle;\n",
       "    }\n",
       "\n",
       "    .dataframe tbody tr th {\n",
       "        vertical-align: top;\n",
       "    }\n",
       "\n",
       "    .dataframe thead th {\n",
       "        text-align: right;\n",
       "    }\n",
       "</style>\n",
       "<table border=\"1\" class=\"dataframe\">\n",
       "  <thead>\n",
       "    <tr style=\"text-align: right;\">\n",
       "      <th></th>\n",
       "      <th>deaths</th>\n",
       "      <th>confirmed</th>\n",
       "      <th>recovered</th>\n",
       "      <th>active</th>\n",
       "      <th>region</th>\n",
       "    </tr>\n",
       "    <tr>\n",
       "      <th>Date</th>\n",
       "      <th></th>\n",
       "      <th></th>\n",
       "      <th></th>\n",
       "      <th></th>\n",
       "      <th></th>\n",
       "    </tr>\n",
       "  </thead>\n",
       "  <tbody>\n",
       "    <tr>\n",
       "      <th>2020-03-27</th>\n",
       "      <td>0</td>\n",
       "      <td>6</td>\n",
       "      <td>0</td>\n",
       "      <td>6</td>\n",
       "      <td>an</td>\n",
       "    </tr>\n",
       "    <tr>\n",
       "      <th>2020-03-28</th>\n",
       "      <td>0</td>\n",
       "      <td>9</td>\n",
       "      <td>0</td>\n",
       "      <td>9</td>\n",
       "      <td>an</td>\n",
       "    </tr>\n",
       "    <tr>\n",
       "      <th>2020-03-29</th>\n",
       "      <td>0</td>\n",
       "      <td>9</td>\n",
       "      <td>0</td>\n",
       "      <td>9</td>\n",
       "      <td>an</td>\n",
       "    </tr>\n",
       "    <tr>\n",
       "      <th>2020-03-30</th>\n",
       "      <td>0</td>\n",
       "      <td>10</td>\n",
       "      <td>0</td>\n",
       "      <td>10</td>\n",
       "      <td>an</td>\n",
       "    </tr>\n",
       "    <tr>\n",
       "      <th>2020-03-31</th>\n",
       "      <td>0</td>\n",
       "      <td>10</td>\n",
       "      <td>0</td>\n",
       "      <td>10</td>\n",
       "      <td>an</td>\n",
       "    </tr>\n",
       "    <tr>\n",
       "      <th>...</th>\n",
       "      <td>...</td>\n",
       "      <td>...</td>\n",
       "      <td>...</td>\n",
       "      <td>...</td>\n",
       "      <td>...</td>\n",
       "    </tr>\n",
       "    <tr>\n",
       "      <th>2020-06-04</th>\n",
       "      <td>355</td>\n",
       "      <td>6876</td>\n",
       "      <td>2768</td>\n",
       "      <td>3753</td>\n",
       "      <td>wb</td>\n",
       "    </tr>\n",
       "    <tr>\n",
       "      <th>2020-06-05</th>\n",
       "      <td>366</td>\n",
       "      <td>7303</td>\n",
       "      <td>2912</td>\n",
       "      <td>4025</td>\n",
       "      <td>wb</td>\n",
       "    </tr>\n",
       "    <tr>\n",
       "      <th>2020-06-06</th>\n",
       "      <td>383</td>\n",
       "      <td>7738</td>\n",
       "      <td>3119</td>\n",
       "      <td>4236</td>\n",
       "      <td>wb</td>\n",
       "    </tr>\n",
       "    <tr>\n",
       "      <th>2020-06-07</th>\n",
       "      <td>396</td>\n",
       "      <td>8187</td>\n",
       "      <td>3303</td>\n",
       "      <td>4488</td>\n",
       "      <td>wb</td>\n",
       "    </tr>\n",
       "    <tr>\n",
       "      <th>2020-06-08</th>\n",
       "      <td>405</td>\n",
       "      <td>8613</td>\n",
       "      <td>3465</td>\n",
       "      <td>4743</td>\n",
       "      <td>wb</td>\n",
       "    </tr>\n",
       "  </tbody>\n",
       "</table>\n",
       "<p>2724 rows × 5 columns</p>\n",
       "</div>"
      ],
      "text/plain": [
       "            deaths  confirmed  recovered  active region\n",
       "Date                                                   \n",
       "2020-03-27       0          6          0       6     an\n",
       "2020-03-28       0          9          0       9     an\n",
       "2020-03-29       0          9          0       9     an\n",
       "2020-03-30       0         10          0      10     an\n",
       "2020-03-31       0         10          0      10     an\n",
       "...            ...        ...        ...     ...    ...\n",
       "2020-06-04     355       6876       2768    3753     wb\n",
       "2020-06-05     366       7303       2912    4025     wb\n",
       "2020-06-06     383       7738       3119    4236     wb\n",
       "2020-06-07     396       8187       3303    4488     wb\n",
       "2020-06-08     405       8613       3465    4743     wb\n",
       "\n",
       "[2724 rows x 5 columns]"
      ]
     },
     "execution_count": 270,
     "metadata": {},
     "output_type": "execute_result"
    }
   ],
   "source": [
    "df"
   ]
  },
  {
   "cell_type": "code",
   "execution_count": 267,
   "metadata": {},
   "outputs": [],
   "source": [
    "sir_states_df = sir_states.get_sir_model_data()"
   ]
  },
  {
   "cell_type": "code",
   "execution_count": 277,
   "metadata": {},
   "outputs": [
    {
     "data": {
      "text/html": [
       "<div>\n",
       "<style scoped>\n",
       "    .dataframe tbody tr th:only-of-type {\n",
       "        vertical-align: middle;\n",
       "    }\n",
       "\n",
       "    .dataframe tbody tr th {\n",
       "        vertical-align: top;\n",
       "    }\n",
       "\n",
       "    .dataframe thead th {\n",
       "        text-align: right;\n",
       "    }\n",
       "</style>\n",
       "<table border=\"1\" class=\"dataframe\">\n",
       "  <thead>\n",
       "    <tr style=\"text-align: right;\">\n",
       "      <th></th>\n",
       "      <th>deaths</th>\n",
       "      <th>confirmed</th>\n",
       "      <th>recovered</th>\n",
       "      <th>active</th>\n",
       "      <th>region</th>\n",
       "    </tr>\n",
       "    <tr>\n",
       "      <th>Date</th>\n",
       "      <th></th>\n",
       "      <th></th>\n",
       "      <th></th>\n",
       "      <th></th>\n",
       "      <th></th>\n",
       "    </tr>\n",
       "  </thead>\n",
       "  <tbody>\n",
       "  </tbody>\n",
       "</table>\n",
       "</div>"
      ],
      "text/plain": [
       "Empty DataFrame\n",
       "Columns: [deaths, confirmed, recovered, active, region]\n",
       "Index: []"
      ]
     },
     "execution_count": 277,
     "metadata": {},
     "output_type": "execute_result"
    }
   ],
   "source": [
    "df[df.region.str.lower()=='dd']"
   ]
  },
  {
   "cell_type": "code",
   "execution_count": 219,
   "metadata": {
    "scrolled": true
   },
   "outputs": [
    {
     "data": {
      "text/html": [
       "<div>\n",
       "<style scoped>\n",
       "    .dataframe tbody tr th:only-of-type {\n",
       "        vertical-align: middle;\n",
       "    }\n",
       "\n",
       "    .dataframe tbody tr th {\n",
       "        vertical-align: top;\n",
       "    }\n",
       "\n",
       "    .dataframe thead th {\n",
       "        text-align: right;\n",
       "    }\n",
       "</style>\n",
       "<table border=\"1\" class=\"dataframe\">\n",
       "  <thead>\n",
       "    <tr style=\"text-align: right;\">\n",
       "      <th></th>\n",
       "      <th>removed</th>\n",
       "      <th>infected</th>\n",
       "      <th>susceptible</th>\n",
       "    </tr>\n",
       "    <tr>\n",
       "      <th>Date</th>\n",
       "      <th></th>\n",
       "      <th></th>\n",
       "      <th></th>\n",
       "    </tr>\n",
       "  </thead>\n",
       "  <tbody>\n",
       "    <tr>\n",
       "      <th>2020-01-31</th>\n",
       "      <td>0</td>\n",
       "      <td>1</td>\n",
       "      <td>49999999</td>\n",
       "    </tr>\n",
       "    <tr>\n",
       "      <th>2020-02-01</th>\n",
       "      <td>0</td>\n",
       "      <td>1</td>\n",
       "      <td>49999999</td>\n",
       "    </tr>\n",
       "    <tr>\n",
       "      <th>2020-02-02</th>\n",
       "      <td>0</td>\n",
       "      <td>2</td>\n",
       "      <td>49999998</td>\n",
       "    </tr>\n",
       "    <tr>\n",
       "      <th>2020-02-03</th>\n",
       "      <td>0</td>\n",
       "      <td>3</td>\n",
       "      <td>49999997</td>\n",
       "    </tr>\n",
       "    <tr>\n",
       "      <th>2020-02-04</th>\n",
       "      <td>0</td>\n",
       "      <td>3</td>\n",
       "      <td>49999997</td>\n",
       "    </tr>\n",
       "  </tbody>\n",
       "</table>\n",
       "</div>"
      ],
      "text/plain": [
       "            removed  infected  susceptible\n",
       "Date                                      \n",
       "2020-01-31        0         1     49999999\n",
       "2020-02-01        0         1     49999999\n",
       "2020-02-02        0         2     49999998\n",
       "2020-02-03        0         3     49999997\n",
       "2020-02-04        0         3     49999997"
      ]
     },
     "execution_count": 219,
     "metadata": {},
     "output_type": "execute_result"
    }
   ],
   "source": [
    "sir_df.head()"
   ]
  },
  {
   "cell_type": "code",
   "execution_count": 220,
   "metadata": {},
   "outputs": [],
   "source": [
    "y_0 = sir.get_initial_condition(sir_df)"
   ]
  },
  {
   "cell_type": "code",
   "execution_count": 221,
   "metadata": {},
   "outputs": [
    {
     "data": {
      "text/plain": [
       "[0, 1, 49999999]"
      ]
     },
     "execution_count": 221,
     "metadata": {},
     "output_type": "execute_result"
    }
   ],
   "source": [
    "y_0"
   ]
  },
  {
   "cell_type": "code",
   "execution_count": 222,
   "metadata": {},
   "outputs": [],
   "source": [
    "params_0 = sir.get_initial_guess_for_hyperparams()"
   ]
  },
  {
   "cell_type": "code",
   "execution_count": 223,
   "metadata": {},
   "outputs": [
    {
     "data": {
      "text/plain": [
       "(0.001, 0.001, 0.2)"
      ]
     },
     "execution_count": 223,
     "metadata": {},
     "output_type": "execute_result"
    }
   ],
   "source": [
    "params_0"
   ]
  },
  {
   "cell_type": "code",
   "execution_count": 230,
   "metadata": {},
   "outputs": [
    {
     "data": {
      "text/plain": [
       "array([[ 1.42298201, -0.90399455, -0.01957713],\n",
       "       [ 0.85028502,  0.22507938, -1.26457474]])"
      ]
     },
     "execution_count": 230,
     "metadata": {},
     "output_type": "execute_result"
    }
   ],
   "source": [
    "np.random.randn(2,3)"
   ]
  },
  {
   "cell_type": "code",
   "execution_count": 227,
   "metadata": {},
   "outputs": [],
   "source": [
    "optimal = optimize.minimize(\n",
    "            sir.loss,\n",
    "            params_0[:-1],\n",
    "            args=(sir_df, y_0),\n",
    "            method='L-BFGS-B',\n",
    "            bounds=[(0.000001, 0.4), (0.000001, 0.4)],\n",
    "            options={'verbose':1}\n",
    "        )"
   ]
  },
  {
   "cell_type": "code",
   "execution_count": 196,
   "metadata": {},
   "outputs": [
    {
     "data": {
      "text/plain": [
       "array([1.00000000e-06, 5.92306262e-05])"
      ]
     },
     "execution_count": 196,
     "metadata": {},
     "output_type": "execute_result"
    }
   ],
   "source": [
    "optimal.x"
   ]
  },
  {
   "cell_type": "code",
   "execution_count": 197,
   "metadata": {},
   "outputs": [],
   "source": [
    "res = sir.predict(optimal.x, sir_df)"
   ]
  },
  {
   "cell_type": "code",
   "execution_count": 199,
   "metadata": {},
   "outputs": [
    {
     "data": {
      "text/html": [
       "<div>\n",
       "<style scoped>\n",
       "    .dataframe tbody tr th:only-of-type {\n",
       "        vertical-align: middle;\n",
       "    }\n",
       "\n",
       "    .dataframe tbody tr th {\n",
       "        vertical-align: top;\n",
       "    }\n",
       "\n",
       "    .dataframe thead th {\n",
       "        text-align: right;\n",
       "    }\n",
       "</style>\n",
       "<table border=\"1\" class=\"dataframe\">\n",
       "  <thead>\n",
       "    <tr style=\"text-align: right;\">\n",
       "      <th></th>\n",
       "      <th>removed_f</th>\n",
       "      <th>infected_f</th>\n",
       "      <th>susceptible_f</th>\n",
       "      <th>removed</th>\n",
       "      <th>infected</th>\n",
       "      <th>susceptible</th>\n",
       "    </tr>\n",
       "  </thead>\n",
       "  <tbody>\n",
       "    <tr>\n",
       "      <th>2020-04-19</th>\n",
       "      <td>821.270083</td>\n",
       "      <td>499178.251214</td>\n",
       "      <td>4.787037e-01</td>\n",
       "      <td>3413.0</td>\n",
       "      <td>14202.0</td>\n",
       "      <td>482385.0</td>\n",
       "    </tr>\n",
       "    <tr>\n",
       "      <th>2020-04-20</th>\n",
       "      <td>850.835854</td>\n",
       "      <td>499148.872965</td>\n",
       "      <td>2.911815e-01</td>\n",
       "      <td>3865.0</td>\n",
       "      <td>14674.0</td>\n",
       "      <td>481461.0</td>\n",
       "    </tr>\n",
       "    <tr>\n",
       "      <th>2020-04-21</th>\n",
       "      <td>880.399882</td>\n",
       "      <td>499119.423530</td>\n",
       "      <td>1.765882e-01</td>\n",
       "      <td>4620.0</td>\n",
       "      <td>15460.0</td>\n",
       "      <td>479920.0</td>\n",
       "    </tr>\n",
       "    <tr>\n",
       "      <th>2020-04-22</th>\n",
       "      <td>909.962165</td>\n",
       "      <td>499089.930419</td>\n",
       "      <td>1.074166e-01</td>\n",
       "      <td>5051.0</td>\n",
       "      <td>16319.0</td>\n",
       "      <td>478630.0</td>\n",
       "    </tr>\n",
       "    <tr>\n",
       "      <th>2020-04-23</th>\n",
       "      <td>939.522700</td>\n",
       "      <td>499060.412150</td>\n",
       "      <td>6.514990e-02</td>\n",
       "      <td>5733.0</td>\n",
       "      <td>17344.0</td>\n",
       "      <td>476923.0</td>\n",
       "    </tr>\n",
       "    <tr>\n",
       "      <th>...</th>\n",
       "      <td>...</td>\n",
       "      <td>...</td>\n",
       "      <td>...</td>\n",
       "      <td>...</td>\n",
       "      <td>...</td>\n",
       "      <td>...</td>\n",
       "    </tr>\n",
       "    <tr>\n",
       "      <th>2020-07-23</th>\n",
       "      <td>3622.215832</td>\n",
       "      <td>496377.784168</td>\n",
       "      <td>-2.531728e-07</td>\n",
       "      <td>NaN</td>\n",
       "      <td>NaN</td>\n",
       "      <td>NaN</td>\n",
       "    </tr>\n",
       "    <tr>\n",
       "      <th>2020-07-24</th>\n",
       "      <td>3651.615728</td>\n",
       "      <td>496348.384272</td>\n",
       "      <td>-6.041878e-07</td>\n",
       "      <td>NaN</td>\n",
       "      <td>NaN</td>\n",
       "      <td>NaN</td>\n",
       "    </tr>\n",
       "    <tr>\n",
       "      <th>2020-07-25</th>\n",
       "      <td>3681.013883</td>\n",
       "      <td>496318.986117</td>\n",
       "      <td>-4.446193e-07</td>\n",
       "      <td>NaN</td>\n",
       "      <td>NaN</td>\n",
       "      <td>NaN</td>\n",
       "    </tr>\n",
       "    <tr>\n",
       "      <th>2020-07-26</th>\n",
       "      <td>3710.410297</td>\n",
       "      <td>496289.589703</td>\n",
       "      <td>1.437752e-07</td>\n",
       "      <td>NaN</td>\n",
       "      <td>NaN</td>\n",
       "      <td>NaN</td>\n",
       "    </tr>\n",
       "    <tr>\n",
       "      <th>2020-07-27</th>\n",
       "      <td>3739.804970</td>\n",
       "      <td>496260.195030</td>\n",
       "      <td>8.052846e-07</td>\n",
       "      <td>NaN</td>\n",
       "      <td>NaN</td>\n",
       "      <td>NaN</td>\n",
       "    </tr>\n",
       "  </tbody>\n",
       "</table>\n",
       "<p>100 rows × 6 columns</p>\n",
       "</div>"
      ],
      "text/plain": [
       "              removed_f     infected_f  susceptible_f  removed  infected  \\\n",
       "2020-04-19   821.270083  499178.251214   4.787037e-01   3413.0   14202.0   \n",
       "2020-04-20   850.835854  499148.872965   2.911815e-01   3865.0   14674.0   \n",
       "2020-04-21   880.399882  499119.423530   1.765882e-01   4620.0   15460.0   \n",
       "2020-04-22   909.962165  499089.930419   1.074166e-01   5051.0   16319.0   \n",
       "2020-04-23   939.522700  499060.412150   6.514990e-02   5733.0   17344.0   \n",
       "...                 ...            ...            ...      ...       ...   \n",
       "2020-07-23  3622.215832  496377.784168  -2.531728e-07      NaN       NaN   \n",
       "2020-07-24  3651.615728  496348.384272  -6.041878e-07      NaN       NaN   \n",
       "2020-07-25  3681.013883  496318.986117  -4.446193e-07      NaN       NaN   \n",
       "2020-07-26  3710.410297  496289.589703   1.437752e-07      NaN       NaN   \n",
       "2020-07-27  3739.804970  496260.195030   8.052846e-07      NaN       NaN   \n",
       "\n",
       "            susceptible  \n",
       "2020-04-19     482385.0  \n",
       "2020-04-20     481461.0  \n",
       "2020-04-21     479920.0  \n",
       "2020-04-22     478630.0  \n",
       "2020-04-23     476923.0  \n",
       "...                 ...  \n",
       "2020-07-23          NaN  \n",
       "2020-07-24          NaN  \n",
       "2020-07-25          NaN  \n",
       "2020-07-26          NaN  \n",
       "2020-07-27          NaN  \n",
       "\n",
       "[100 rows x 6 columns]"
      ]
     },
     "execution_count": 199,
     "metadata": {},
     "output_type": "execute_result"
    }
   ],
   "source": [
    "res.tail(100)"
   ]
  },
  {
   "cell_type": "code",
   "execution_count": 200,
   "metadata": {},
   "outputs": [
    {
     "data": {
      "text/plain": [
       "<matplotlib.axes._subplots.AxesSubplot at 0x22857201f88>"
      ]
     },
     "execution_count": 200,
     "metadata": {},
     "output_type": "execute_result"
    },
    {
     "data": {
      "image/png": "[encoded data removed]",
      "text/plain": [
       "<Figure size 432x288 with 1 Axes>"
      ]
     },
     "metadata": {
      "needs_background": "light"
     },
     "output_type": "display_data"
    }
   ],
   "source": [
    "res.iloc[:,[0,3]].plot()"
   ]
  },
  {
   "cell_type": "code",
   "execution_count": 201,
   "metadata": {},
   "outputs": [
    {
     "data": {
      "text/plain": [
       "<matplotlib.axes._subplots.AxesSubplot at 0x228571c5c48>"
      ]
     },
     "execution_count": 201,
     "metadata": {},
     "output_type": "execute_result"
    },
    {
     "data": {
      "image/png": "[encoded data removed]",
      "text/plain": [
       "<Figure size 432x288 with 1 Axes>"
      ]
     },
     "metadata": {
      "needs_background": "light"
     },
     "output_type": "display_data"
    }
   ],
   "source": [
    "res.iloc[:,[1,4]].plot()"
   ]
  },
  {
   "cell_type": "code",
   "execution_count": 202,
   "metadata": {},
   "outputs": [
    {
     "data": {
      "text/plain": [
       "<matplotlib.axes._subplots.AxesSubplot at 0x22857266648>"
      ]
     },
     "execution_count": 202,
     "metadata": {},
     "output_type": "execute_result"
    },
    {
     "data": {
      "image/png": "[encoded data removed]",
      "text/plain": [
       "<Figure size 432x288 with 1 Axes>"
      ]
     },
     "metadata": {
      "needs_background": "light"
     },
     "output_type": "display_data"
    }
   ],
   "source": [
    "res.iloc[:,[2,5]].plot()"
   ]
  },
  {
   "cell_type": "code",
   "execution_count": null,
   "metadata": {},
   "outputs": [],
   "source": []
  },
  {
   "cell_type": "code",
   "execution_count": null,
   "metadata": {},
   "outputs": [],
   "source": []
  },
  {
   "cell_type": "code",
   "execution_count": null,
   "metadata": {},
   "outputs": [],
   "source": []
  },
  {
   "cell_type": "code",
   "execution_count": null,
   "metadata": {},
   "outputs": [],
   "source": []
  },
  {
   "cell_type": "code",
   "execution_count": 141,
   "metadata": {},
   "outputs": [],
   "source": [
    "import seaborn as sns"
   ]
  },
  {
   "cell_type": "code",
   "execution_count": 142,
   "metadata": {},
   "outputs": [
    {
     "data": {
      "text/plain": [
       "<matplotlib.axes._subplots.AxesSubplot at 0x22855bfb808>"
      ]
     },
     "execution_count": 142,
     "metadata": {},
     "output_type": "execute_result"
    },
    {
     "data": {
      "image/png": "[encoded data removed]",
      "text/plain": [
       "<Figure size 432x288 with 1 Axes>"
      ]
     },
     "metadata": {
      "needs_background": "light"
     },
     "output_type": "display_data"
    }
   ],
   "source": [
    "sns.lineplot(x = res.t, y= res.y[0])\n",
    "sns.lineplot(x = res.t, y = sir_df)"
   ]
  },
  {
   "cell_type": "code",
   "execution_count": null,
   "metadata": {},
   "outputs": [],
   "source": []
  },
  {
   "cell_type": "code",
   "execution_count": null,
   "metadata": {},
   "outputs": [],
   "source": []
  },
  {
   "cell_type": "markdown",
   "metadata": {},
   "source": [
    "# Population Data"
   ]
  },
  {
   "cell_type": "code",
   "execution_count": 11,
   "metadata": {},
   "outputs": [],
   "source": [
    "dfp = pd.read_csv(\"population.csv\")"
   ]
  },
  {
   "cell_type": "code",
   "execution_count": 12,
   "metadata": {},
   "outputs": [
    {
     "data": {
      "text/html": [
       "<div>\n",
       "<style scoped>\n",
       "    .dataframe tbody tr th:only-of-type {\n",
       "        vertical-align: middle;\n",
       "    }\n",
       "\n",
       "    .dataframe tbody tr th {\n",
       "        vertical-align: top;\n",
       "    }\n",
       "\n",
       "    .dataframe thead th {\n",
       "        text-align: right;\n",
       "    }\n",
       "</style>\n",
       "<table border=\"1\" class=\"dataframe\">\n",
       "  <thead>\n",
       "    <tr style=\"text-align: right;\">\n",
       "      <th></th>\n",
       "      <th>Country (or dependency)</th>\n",
       "      <th>Population (2020)</th>\n",
       "      <th>Yearly Change</th>\n",
       "      <th>Net Change</th>\n",
       "      <th>Density (P/Km²)</th>\n",
       "      <th>Land Area (Km²)</th>\n",
       "      <th>Migrants (net)</th>\n",
       "      <th>Fert. Rate</th>\n",
       "      <th>Med. Age</th>\n",
       "      <th>Urban Pop %</th>\n",
       "      <th>World Share</th>\n",
       "    </tr>\n",
       "  </thead>\n",
       "  <tbody>\n",
       "    <tr>\n",
       "      <th>0</th>\n",
       "      <td>China</td>\n",
       "      <td>1438207241</td>\n",
       "      <td>0.39 %</td>\n",
       "      <td>5540090</td>\n",
       "      <td>153</td>\n",
       "      <td>9388211</td>\n",
       "      <td>-348399.0</td>\n",
       "      <td>1.7</td>\n",
       "      <td>38</td>\n",
       "      <td>61 %</td>\n",
       "      <td>18.47 %</td>\n",
       "    </tr>\n",
       "    <tr>\n",
       "      <th>1</th>\n",
       "      <td>India</td>\n",
       "      <td>1377233523</td>\n",
       "      <td>0.99 %</td>\n",
       "      <td>13586631</td>\n",
       "      <td>464</td>\n",
       "      <td>2973190</td>\n",
       "      <td>-532687.0</td>\n",
       "      <td>2.2</td>\n",
       "      <td>28</td>\n",
       "      <td>35 %</td>\n",
       "      <td>17.70 %</td>\n",
       "    </tr>\n",
       "    <tr>\n",
       "      <th>2</th>\n",
       "      <td>United States</td>\n",
       "      <td>330610570</td>\n",
       "      <td>0.59 %</td>\n",
       "      <td>1937734</td>\n",
       "      <td>36</td>\n",
       "      <td>9147420</td>\n",
       "      <td>954806.0</td>\n",
       "      <td>1.8</td>\n",
       "      <td>38</td>\n",
       "      <td>83 %</td>\n",
       "      <td>4.25 %</td>\n",
       "    </tr>\n",
       "    <tr>\n",
       "      <th>3</th>\n",
       "      <td>Indonesia</td>\n",
       "      <td>272931713</td>\n",
       "      <td>1.07 %</td>\n",
       "      <td>2898047</td>\n",
       "      <td>151</td>\n",
       "      <td>1811570</td>\n",
       "      <td>-98955.0</td>\n",
       "      <td>2.3</td>\n",
       "      <td>30</td>\n",
       "      <td>56 %</td>\n",
       "      <td>3.51 %</td>\n",
       "    </tr>\n",
       "    <tr>\n",
       "      <th>4</th>\n",
       "      <td>Pakistan</td>\n",
       "      <td>219992900</td>\n",
       "      <td>2.00 %</td>\n",
       "      <td>4327022</td>\n",
       "      <td>287</td>\n",
       "      <td>770880</td>\n",
       "      <td>-233379.0</td>\n",
       "      <td>3.6</td>\n",
       "      <td>23</td>\n",
       "      <td>35 %</td>\n",
       "      <td>2.83 %</td>\n",
       "    </tr>\n",
       "  </tbody>\n",
       "</table>\n",
       "</div>"
      ],
      "text/plain": [
       "  Country (or dependency)  Population (2020) Yearly Change  Net Change  \\\n",
       "0                   China         1438207241        0.39 %     5540090   \n",
       "1                   India         1377233523        0.99 %    13586631   \n",
       "2           United States          330610570        0.59 %     1937734   \n",
       "3               Indonesia          272931713        1.07 %     2898047   \n",
       "4                Pakistan          219992900        2.00 %     4327022   \n",
       "\n",
       "   Density (P/Km²)  Land Area (Km²)  Migrants (net) Fert. Rate Med. Age  \\\n",
       "0              153          9388211       -348399.0        1.7       38   \n",
       "1              464          2973190       -532687.0        2.2       28   \n",
       "2               36          9147420        954806.0        1.8       38   \n",
       "3              151          1811570        -98955.0        2.3       30   \n",
       "4              287           770880       -233379.0        3.6       23   \n",
       "\n",
       "  Urban Pop % World Share  \n",
       "0        61 %     18.47 %  \n",
       "1        35 %     17.70 %  \n",
       "2        83 %      4.25 %  \n",
       "3        56 %      3.51 %  \n",
       "4        35 %      2.83 %  "
      ]
     },
     "execution_count": 12,
     "metadata": {},
     "output_type": "execute_result"
    }
   ],
   "source": [
    "dfp.head()"
   ]
  },
  {
   "cell_type": "code",
   "execution_count": null,
   "metadata": {},
   "outputs": [],
   "source": []
  },
  {
   "cell_type": "markdown",
   "metadata": {},
   "source": [
    "# Initial Condition"
   ]
  },
  {
   "cell_type": "code",
   "execution_count": 13,
   "metadata": {},
   "outputs": [],
   "source": [
    "country_name = \"Iran\""
   ]
  },
  {
   "cell_type": "code",
   "execution_count": 14,
   "metadata": {},
   "outputs": [],
   "source": [
    "# Population Size for the Selected Country\n",
    "N = dfp.loc[dfp['Country (or dependency)'] == country_name, 'Population (2020)'].values[0]"
   ]
  },
  {
   "cell_type": "code",
   "execution_count": 15,
   "metadata": {},
   "outputs": [
    {
     "data": {
      "text/plain": [
       "83771587"
      ]
     },
     "execution_count": 15,
     "metadata": {},
     "output_type": "execute_result"
    }
   ],
   "source": [
    "N"
   ]
  },
  {
   "cell_type": "code",
   "execution_count": 444,
   "metadata": {},
   "outputs": [],
   "source": [
    "# Normalized Data\n",
    "# master_data_norm = master_data[master_data.country == country_name].drop('country', axis = 1) / N\n",
    "master_data_norm = master_data[master_data.country == country_name].drop('country', axis = 1)"
   ]
  },
  {
   "cell_type": "code",
   "execution_count": 445,
   "metadata": {},
   "outputs": [],
   "source": [
    "# Creating S, I, R series data\n",
    "master_data_norm['removed'] = master_data_norm['deaths'] + master_data_norm['recovered']\n",
    "master_data_norm['infected'] = master_data_norm['confirmed'] - master_data_norm['removed']\n",
    "master_data_norm['susceptible'] = N - master_data_norm['infected'] - master_data_norm['removed']"
   ]
  },
  {
   "cell_type": "code",
   "execution_count": 446,
   "metadata": {},
   "outputs": [
    {
     "data": {
      "text/html": [
       "<div>\n",
       "<style scoped>\n",
       "    .dataframe tbody tr th:only-of-type {\n",
       "        vertical-align: middle;\n",
       "    }\n",
       "\n",
       "    .dataframe tbody tr th {\n",
       "        vertical-align: top;\n",
       "    }\n",
       "\n",
       "    .dataframe thead th {\n",
       "        text-align: right;\n",
       "    }\n",
       "</style>\n",
       "<table border=\"1\" class=\"dataframe\">\n",
       "  <thead>\n",
       "    <tr style=\"text-align: right;\">\n",
       "      <th></th>\n",
       "      <th>deaths</th>\n",
       "      <th>confirmed</th>\n",
       "      <th>recovered</th>\n",
       "      <th>removed</th>\n",
       "      <th>infected</th>\n",
       "      <th>susceptible</th>\n",
       "    </tr>\n",
       "    <tr>\n",
       "      <th>Date</th>\n",
       "      <th></th>\n",
       "      <th></th>\n",
       "      <th></th>\n",
       "      <th></th>\n",
       "      <th></th>\n",
       "      <th></th>\n",
       "    </tr>\n",
       "  </thead>\n",
       "  <tbody>\n",
       "    <tr>\n",
       "      <th>2020-02-19</th>\n",
       "      <td>2</td>\n",
       "      <td>2</td>\n",
       "      <td>0</td>\n",
       "      <td>2</td>\n",
       "      <td>0</td>\n",
       "      <td>83771585</td>\n",
       "    </tr>\n",
       "    <tr>\n",
       "      <th>2020-02-20</th>\n",
       "      <td>2</td>\n",
       "      <td>5</td>\n",
       "      <td>0</td>\n",
       "      <td>2</td>\n",
       "      <td>3</td>\n",
       "      <td>83771582</td>\n",
       "    </tr>\n",
       "    <tr>\n",
       "      <th>2020-02-21</th>\n",
       "      <td>4</td>\n",
       "      <td>18</td>\n",
       "      <td>0</td>\n",
       "      <td>4</td>\n",
       "      <td>14</td>\n",
       "      <td>83771569</td>\n",
       "    </tr>\n",
       "    <tr>\n",
       "      <th>2020-02-22</th>\n",
       "      <td>5</td>\n",
       "      <td>28</td>\n",
       "      <td>0</td>\n",
       "      <td>5</td>\n",
       "      <td>23</td>\n",
       "      <td>83771559</td>\n",
       "    </tr>\n",
       "    <tr>\n",
       "      <th>2020-02-23</th>\n",
       "      <td>8</td>\n",
       "      <td>43</td>\n",
       "      <td>0</td>\n",
       "      <td>8</td>\n",
       "      <td>35</td>\n",
       "      <td>83771544</td>\n",
       "    </tr>\n",
       "  </tbody>\n",
       "</table>\n",
       "</div>"
      ],
      "text/plain": [
       "            deaths  confirmed  recovered  removed  infected  susceptible\n",
       "Date                                                                    \n",
       "2020-02-19       2          2          0        2         0     83771585\n",
       "2020-02-20       2          5          0        2         3     83771582\n",
       "2020-02-21       4         18          0        4        14     83771569\n",
       "2020-02-22       5         28          0        5        23     83771559\n",
       "2020-02-23       8         43          0        8        35     83771544"
      ]
     },
     "execution_count": 446,
     "metadata": {},
     "output_type": "execute_result"
    }
   ],
   "source": [
    "master_data_norm.head()"
   ]
  },
  {
   "cell_type": "code",
   "execution_count": 256,
   "metadata": {},
   "outputs": [],
   "source": [
    "# TUNING PARAMETERS\n",
    "transmission_rate = 0.7\n",
    "removal_rate = 0.1\n",
    "case_fatality_rate = 0.2\n",
    "initial_guess = (transmission_rate, removal_rate, case_fatality_rate)"
   ]
  },
  {
   "cell_type": "code",
   "execution_count": 447,
   "metadata": {},
   "outputs": [],
   "source": [
    "req_cols = [\"susceptible\",\"infected\",\"removed\"]\n",
    "master_data_norm_req = master_data_norm[req_cols]"
   ]
  },
  {
   "cell_type": "code",
   "execution_count": 503,
   "metadata": {},
   "outputs": [
    {
     "data": {
      "text/html": [
       "<div>\n",
       "<style scoped>\n",
       "    .dataframe tbody tr th:only-of-type {\n",
       "        vertical-align: middle;\n",
       "    }\n",
       "\n",
       "    .dataframe tbody tr th {\n",
       "        vertical-align: top;\n",
       "    }\n",
       "\n",
       "    .dataframe thead th {\n",
       "        text-align: right;\n",
       "    }\n",
       "</style>\n",
       "<table border=\"1\" class=\"dataframe\">\n",
       "  <thead>\n",
       "    <tr style=\"text-align: right;\">\n",
       "      <th></th>\n",
       "      <th>susceptible</th>\n",
       "      <th>infected</th>\n",
       "      <th>removed</th>\n",
       "    </tr>\n",
       "    <tr>\n",
       "      <th>Date</th>\n",
       "      <th></th>\n",
       "      <th></th>\n",
       "      <th></th>\n",
       "    </tr>\n",
       "  </thead>\n",
       "  <tbody>\n",
       "    <tr>\n",
       "      <th>2020-02-19</th>\n",
       "      <td>83771585</td>\n",
       "      <td>0</td>\n",
       "      <td>2</td>\n",
       "    </tr>\n",
       "    <tr>\n",
       "      <th>2020-02-20</th>\n",
       "      <td>83771582</td>\n",
       "      <td>3</td>\n",
       "      <td>2</td>\n",
       "    </tr>\n",
       "    <tr>\n",
       "      <th>2020-02-21</th>\n",
       "      <td>83771569</td>\n",
       "      <td>14</td>\n",
       "      <td>4</td>\n",
       "    </tr>\n",
       "    <tr>\n",
       "      <th>2020-02-22</th>\n",
       "      <td>83771559</td>\n",
       "      <td>23</td>\n",
       "      <td>5</td>\n",
       "    </tr>\n",
       "    <tr>\n",
       "      <th>2020-02-23</th>\n",
       "      <td>83771544</td>\n",
       "      <td>35</td>\n",
       "      <td>8</td>\n",
       "    </tr>\n",
       "  </tbody>\n",
       "</table>\n",
       "</div>"
      ],
      "text/plain": [
       "            susceptible  infected  removed\n",
       "Date                                      \n",
       "2020-02-19     83771585         0        2\n",
       "2020-02-20     83771582         3        2\n",
       "2020-02-21     83771569        14        4\n",
       "2020-02-22     83771559        23        5\n",
       "2020-02-23     83771544        35        8"
      ]
     },
     "execution_count": 503,
     "metadata": {},
     "output_type": "execute_result"
    }
   ],
   "source": [
    "master_data_norm_req.head()"
   ]
  },
  {
   "cell_type": "code",
   "execution_count": 449,
   "metadata": {},
   "outputs": [
    {
     "data": {
      "text/plain": [
       "<matplotlib.legend.Legend at 0x27987b686c8>"
      ]
     },
     "execution_count": 449,
     "metadata": {},
     "output_type": "execute_result"
    },
    {
     "data": {
      "image/png": "[encoded data removed]",
      "text/plain": [
       "<Figure size 1152x360 with 3 Axes>"
      ]
     },
     "metadata": {
      "needs_background": "light"
     },
     "output_type": "display_data"
    }
   ],
   "source": [
    "sus,inf,rem = master_data_norm_req.T.values\n",
    "f = plt.figure(figsize=(16,5))\n",
    "ax = f.add_subplot(1,3,1)\n",
    "ax.plot(sus, 'y', label='S(t)')\n",
    "plt.legend()\n",
    "\n",
    "ax2 = f.add_subplot(1,3,2)\n",
    "ax2.plot(inf, 'y', label='I(t)')\n",
    "plt.legend()\n",
    "\n",
    "ax2 = f.add_subplot(1,3,3)\n",
    "ax2.plot(rem, 'y', label='R(t)')\n",
    "plt.legend()"
   ]
  },
  {
   "cell_type": "code",
   "execution_count": 504,
   "metadata": {},
   "outputs": [],
   "source": [
    "# Initial Conditions\n",
    "i_0 = master_data_norm.confirmed.values[0]\n",
    "r_0 = 0\n",
    "s_0 = N - i_0 - r_0\n",
    "\n",
    "y_0 = [s_0, i_0, r_0]"
   ]
  },
  {
   "cell_type": "code",
   "execution_count": 505,
   "metadata": {},
   "outputs": [
    {
     "data": {
      "text/plain": [
       "[83771585, 2, 0]"
      ]
     },
     "execution_count": 505,
     "metadata": {},
     "output_type": "execute_result"
    }
   ],
   "source": [
    "y_0"
   ]
  },
  {
   "cell_type": "code",
   "execution_count": null,
   "metadata": {},
   "outputs": [],
   "source": []
  },
  {
   "cell_type": "code",
   "execution_count": null,
   "metadata": {},
   "outputs": [],
   "source": []
  },
  {
   "cell_type": "markdown",
   "metadata": {},
   "source": [
    "# SIR Model"
   ]
  },
  {
   "cell_type": "code",
   "execution_count": 296,
   "metadata": {},
   "outputs": [],
   "source": [
    "# Model Definition\n",
    "def sir_model(t, y, beta, v):\n",
    "    s, i, r = y\n",
    "    dsdt = -beta * s * i / N\n",
    "    didt = beta * s * i / N - v * i\n",
    "    drdt = v * i\n",
    "    return dsdt, didt, drdt"
   ]
  },
  {
   "cell_type": "markdown",
   "metadata": {},
   "source": [
    "# Fitting the Model to Data"
   ]
  },
  {
   "cell_type": "code",
   "execution_count": 309,
   "metadata": {},
   "outputs": [],
   "source": [
    "from sklearn.metrics import mean_squared_log_error, mean_squared_error"
   ]
  },
  {
   "cell_type": "code",
   "execution_count": 312,
   "metadata": {},
   "outputs": [
    {
     "data": {
      "text/plain": [
       "(10.0, 0.10426101032440993)"
      ]
     },
     "execution_count": 312,
     "metadata": {},
     "output_type": "execute_result"
    }
   ],
   "source": [
    "mean_squared_error([100],[90])**0.5, mean_squared_log_error([100],[90])**0.5"
   ]
  },
  {
   "cell_type": "code",
   "execution_count": 369,
   "metadata": {},
   "outputs": [],
   "source": [
    "def msle(x,y):\n",
    "    return np.mean((np.log1p(x) - np.log1p(y))**2)"
   ]
  },
  {
   "cell_type": "code",
   "execution_count": 358,
   "metadata": {},
   "outputs": [
    {
     "data": {
      "text/plain": [
       "0.10426101032440993"
      ]
     },
     "execution_count": 358,
     "metadata": {},
     "output_type": "execute_result"
    }
   ],
   "source": [
    "msle([100],[90])**0.5"
   ]
  },
  {
   "cell_type": "code",
   "execution_count": 350,
   "metadata": {},
   "outputs": [
    {
     "name": "stdout",
     "output_type": "stream",
     "text": [
      "False\n"
     ]
    }
   ],
   "source": [
    "sol = integrate.solve_ivp(sir_model, [0,104], y_0, t_eval = np.arange(0,104), args = initial_guess[:-1])\n",
    "s, i, r = sol.y\n",
    "print((i < 0).any())"
   ]
  },
  {
   "cell_type": "code",
   "execution_count": 351,
   "metadata": {},
   "outputs": [
    {
     "data": {
      "text/plain": [
       "[<matplotlib.lines.Line2D at 0x27986b16c88>]"
      ]
     },
     "execution_count": 351,
     "metadata": {},
     "output_type": "execute_result"
    },
    {
     "data": {
      "image/png": "[encoded data removed]",
      "text/plain": [
       "<Figure size 432x288 with 1 Axes>"
      ]
     },
     "metadata": {
      "needs_background": "light"
     },
     "output_type": "display_data"
    }
   ],
   "source": [
    "plt.plot(sol.t, i, label = 'I(t)')"
   ]
  },
  {
   "cell_type": "code",
   "execution_count": 507,
   "metadata": {},
   "outputs": [],
   "source": [
    "# Curve Fitting Function - Minimize Mean Squared Log Error between Actual and Predicted\n",
    "def msle_error_func(initial_guess, df, return_sol = False):\n",
    "    days = len(df)\n",
    "#     print(days)\n",
    "    # Actual Data\n",
    "    sus,inf,rem = df.T.values\n",
    "#     print((inf < 0).any())\n",
    "    \n",
    "    # Predicting using SIR Model\n",
    "    sol = integrate.solve_ivp(sir_model, [0,days], y_0, t_eval = np.arange(0,days), args = initial_guess)\n",
    "    s, i, r = sol.y\n",
    "#     print((i < 0).any())\n",
    "#     for x in i:\n",
    "#         print(x)\n",
    "        \n",
    "    \n",
    "    # Calculating Error\n",
    "#     msle_sus = mean_squared_log_error(sus,s)\n",
    "#     msle_inf = mean_squared_log_error(inf,i)\n",
    "#     msle_rem = mean_squared_log_error(rem,r)\n",
    "    msle_sus = msle(sus,s)\n",
    "    msle_inf = msle(inf,i)\n",
    "    msle_rem = msle(rem,r)\n",
    "    \n",
    "    # Mean Error\n",
    "    msle_mean = np.mean([msle_sus, msle_inf, msle_rem])\n",
    "    \n",
    "    if return_sol:\n",
    "        return msle_mean, sol\n",
    "    else:\n",
    "        return msle_mean"
   ]
  },
  {
   "cell_type": "code",
   "execution_count": 508,
   "metadata": {},
   "outputs": [
    {
     "data": {
      "text/plain": [
       "6.465247648015352"
      ]
     },
     "execution_count": 508,
     "metadata": {},
     "output_type": "execute_result"
    }
   ],
   "source": [
    "msle_error_func((0.4,0.2),master_data_norm_req)"
   ]
  },
  {
   "cell_type": "code",
   "execution_count": 526,
   "metadata": {},
   "outputs": [],
   "source": [
    "# Minimize the error\n",
    "res = optimize.minimize(msle_error_func, \n",
    "                         initial_guess[:-1], \n",
    "                         args = (master_data_norm_req[13:17]), \n",
    "                         bounds=(\n",
    "                             (0.2, 1.0), # Transmission Rate bounds\n",
    "                             (0.1, 1.0) # transition time param bounds\n",
    "                         )\n",
    "                        )"
   ]
  },
  {
   "cell_type": "code",
   "execution_count": 527,
   "metadata": {},
   "outputs": [
    {
     "data": {
      "text/plain": [
       "      fun: 21.968143931152067\n",
       " hess_inv: <2x2 LbfgsInvHessProduct with dtype=float64>\n",
       "      jac: array([-7.44118509e+00,  2.13162821e-06])\n",
       "  message: b'CONVERGENCE: NORM_OF_PROJECTED_GRADIENT_<=_PGTOL'\n",
       "     nfev: 30\n",
       "      nit: 8\n",
       "   status: 0\n",
       "  success: True\n",
       "        x: array([1.        , 0.23752502])"
      ]
     },
     "execution_count": 527,
     "metadata": {},
     "output_type": "execute_result"
    }
   ],
   "source": [
    "res"
   ]
  },
  {
   "cell_type": "code",
   "execution_count": 528,
   "metadata": {},
   "outputs": [
    {
     "data": {
      "text/plain": [
       "4.2100828208400465"
      ]
     },
     "execution_count": 528,
     "metadata": {},
     "output_type": "execute_result"
    }
   ],
   "source": [
    "res.x[0] / res.x[1]"
   ]
  },
  {
   "cell_type": "code",
   "execution_count": 512,
   "metadata": {},
   "outputs": [],
   "source": [
    "res_1, sol = msle_error_func(res.x,master_data_norm_req, True)"
   ]
  },
  {
   "cell_type": "code",
   "execution_count": 513,
   "metadata": {},
   "outputs": [],
   "source": [
    "ss, ii, rr = sol.y"
   ]
  },
  {
   "cell_type": "code",
   "execution_count": 514,
   "metadata": {},
   "outputs": [
    {
     "data": {
      "text/plain": [
       "(array([83771585.        , 83771582.83851023, 83771580.31853384,\n",
       "        83771577.38141304, 83771573.95774311, 83771569.96611643,\n",
       "        83771565.31248252, 83771559.88577048, 83771553.56418277,\n",
       "        83771546.19941862, 83771537.61336939, 83771527.59811856,\n",
       "        83771515.91594172, 83771502.29927129, 83771486.41893603,\n",
       "        83771467.91779856, 83771446.38162793, 83771421.29504636,\n",
       "        83771392.0415292 , 83771357.90340488, 83771318.06185505,\n",
       "        83771271.59691444, 83771217.46445794, 83771154.32047394,\n",
       "        83771080.81493765, 83770995.28034525, 83770895.64805205,\n",
       "        83770779.44827254, 83770643.81008041, 83770485.4614085 ,\n",
       "        83770300.72904883, 83770085.5364623 , 83769834.58127357,\n",
       "        83769542.26195538, 83769202.22303227, 83768806.39821093,\n",
       "        83768345.01038024, 83767806.57161127, 83767177.88315728,\n",
       "        83766444.03545372, 83765588.4081182 , 83764592.00369234,\n",
       "        83763429.79146898, 83762077.37205371, 83760504.30646485,\n",
       "        83758672.6533797 , 83756536.9691345 , 83754044.30772442,\n",
       "        83751134.22080362, 83747738.7576852 , 83743782.4653412 ,\n",
       "        83739175.7262909 , 83733806.5380634 , 83727562.7087806 ,\n",
       "        83720301.77245043, 83711848.83606072, 83701996.57957928,\n",
       "        83690505.2559538 , 83677102.69111189, 83661484.28396112,\n",
       "        83643313.00638892, 83622185.19154398, 83597616.641677  ,\n",
       "        83569087.91116956, 83535959.64446118, 83497470.48465091,\n",
       "        83452737.0734973 , 83400754.05141844, 83340394.05749188,\n",
       "        83270407.72945476, 83189423.70370366, 83095973.40965405,\n",
       "        82988205.01677608, 82863879.78694639, 82720590.86525925,\n",
       "        82555765.0255536 , 82366662.6704131 , 82150377.83116607,\n",
       "        81903838.1678855 , 81623804.96938907, 81306873.1532391 ,\n",
       "        80949561.30154064, 80548722.89518769, 80101490.32572192]),\n",
       " array([83771585, 83771582, 83771569, 83771559, 83771544, 83771526,\n",
       "        83771492, 83771448, 83771342, 83771199, 83770994, 83770609,\n",
       "        83770086, 83769251, 83768665, 83768074, 83766840, 83765764,\n",
       "        83765021, 83764426, 83763545, 83762587, 83761512, 83760223,\n",
       "        83758858, 83757649, 83756596, 83755418, 83754226, 83753180,\n",
       "        83751943, 83750977, 83749949, 83748538, 83746776, 83744570,\n",
       "        83742181, 83739255, 83736179, 83733278, 83730092, 83726982,\n",
       "        83723994, 83721119, 83718404, 83715844, 83713361, 83711087,\n",
       "        83708998, 83707001, 83705367, 83703395, 83701558, 83699901,\n",
       "        83698284, 83696710, 83695198, 83693592, 83692093, 83690719,\n",
       "        83689376, 83688082, 83686785, 83685591, 83684561, 83683393,\n",
       "        83682259, 83681106, 83680115, 83679003, 83677930, 83676947,\n",
       "        83675941, 83675139, 83674163, 83672940, 83671617, 83669937,\n",
       "        83668452, 83666896, 83665367, 83663984, 83662301, 83660820],\n",
       "       dtype=int64))"
      ]
     },
     "execution_count": 514,
     "metadata": {},
     "output_type": "execute_result"
    }
   ],
   "source": [
    "ss, sus"
   ]
  },
  {
   "cell_type": "code",
   "execution_count": 516,
   "metadata": {},
   "outputs": [
    {
     "data": {
      "text/plain": [
       "<matplotlib.legend.Legend at 0x279888d1f08>"
      ]
     },
     "execution_count": 516,
     "metadata": {},
     "output_type": "execute_result"
    },
    {
     "data": {
      "image/png": "[encoded data removed]",
      "text/plain": [
       "<Figure size 1152x360 with 3 Axes>"
      ]
     },
     "metadata": {
      "needs_background": "light"
     },
     "output_type": "display_data"
    }
   ],
   "source": [
    "f = plt.figure(figsize=(16,5))\n",
    "ax = f.add_subplot(1,3,1)\n",
    "ax.plot(sus, 'y', color ='tab:blue', label='S(t)')\n",
    "ax.plot(ss, 'y', color ='tab:orange', label='S(t) Model')\n",
    "ax.ticklabel_format(useOffset=False)\n",
    "plt.legend()\n",
    "\n",
    "ax2 = f.add_subplot(1,3,2)\n",
    "ax2.plot(inf, 'y', color ='tab:blue', label='I(t)')\n",
    "ax2.plot(ii, 'y', color ='tab:orange', label='I(t) Model')\n",
    "plt.legend()\n",
    "\n",
    "ax2 = f.add_subplot(1,3,3)\n",
    "ax2.plot(rem, 'y', color ='tab:blue', label='R(t)')\n",
    "ax2.plot(rr, 'y', color ='tab:orange', label='R(t) Model')\n",
    "plt.legend()"
   ]
  },
  {
   "cell_type": "code",
   "execution_count": null,
   "metadata": {},
   "outputs": [],
   "source": []
  },
  {
   "cell_type": "code",
   "execution_count": null,
   "metadata": {},
   "outputs": [],
   "source": []
  },
  {
   "cell_type": "markdown",
   "metadata": {},
   "source": [
    "# Example Model 1"
   ]
  },
  {
   "cell_type": "code",
   "execution_count": 132,
   "metadata": {},
   "outputs": [],
   "source": [
    "t = np.linspace(0,150,151)   # 5 months timeline"
   ]
  },
  {
   "cell_type": "code",
   "execution_count": 280,
   "metadata": {},
   "outputs": [
    {
     "data": {
      "text/plain": [
       "Text(0, 0.5, 'Fraction of Population')"
      ]
     },
     "execution_count": 280,
     "metadata": {},
     "output_type": "execute_result"
    },
    {
     "data": {
      "image/png": "[encoded data removed]",
      "text/plain": [
       "<Figure size 720x432 with 1 Axes>"
      ]
     },
     "metadata": {
      "needs_background": "light"
     },
     "output_type": "display_data"
    }
   ],
   "source": [
    "# Solves Initial Value Problem using Runge-Kutta Numerical Method\n",
    "# Disease Transmission Rate, beta = 0.7 and \n",
    "# Removal Rate, v = 0.1\n",
    "# sol = integrate.solve_ivp(sir_model, [0,150], y_0, t_eval = t, args = (0.7,0.1))  \n",
    "\n",
    "plt.figure(figsize=(10,6))\n",
    "plt.plot(sol.t, sol.y[0], label = 'S(t)')\n",
    "plt.plot(sol.t, sol.y[1], label = 'I(t)')\n",
    "plt.plot(sol.t, sol.y[2], label = 'R(t)')\n",
    "plt.legend()\n",
    "plt.xlabel('Days')\n",
    "plt.ylabel('Fraction of Population')"
   ]
  },
  {
   "cell_type": "markdown",
   "metadata": {},
   "source": [
    "# Example Model 2"
   ]
  },
  {
   "cell_type": "code",
   "execution_count": 153,
   "metadata": {},
   "outputs": [
    {
     "data": {
      "text/plain": [
       "Text(0.5, 1.0, 'Delaying the Curve')"
      ]
     },
     "execution_count": 153,
     "metadata": {},
     "output_type": "execute_result"
    },
    {
     "data": {
      "image/png": "[encoded data removed]",
      "text/plain": [
       "<Figure size 720x432 with 1 Axes>"
      ]
     },
     "metadata": {
      "needs_background": "light"
     },
     "output_type": "display_data"
    }
   ],
   "source": [
    "sol1 = integrate.solve_ivp(sir_model, [0,150], y_0, t_eval = t, args = (0.7,0.2))     # beta = 0.7 and v = 0.2\n",
    "\n",
    "plt.figure(figsize=(10,6))\n",
    "# plt.plot(sol.t, sol.y[0], label = 'S(t)')\n",
    "plt.plot(sol.t, sol.y[1], label = 'I(t)',linestyle = 'dashed')\n",
    "plt.plot(sol.t, sol1.y[1], label = 'I1(t)')\n",
    "# plt.plot(sol.t, sol.y[2], label = 'R(t)')\n",
    "plt.legend()\n",
    "plt.xlabel('Days')\n",
    "plt.ylabel('Fraction of Population')\n",
    "plt.title(\"Delaying the Curve\")"
   ]
  },
  {
   "cell_type": "code",
   "execution_count": null,
   "metadata": {},
   "outputs": [],
   "source": []
  },
  {
   "cell_type": "code",
   "execution_count": null,
   "metadata": {},
   "outputs": [],
   "source": []
  },
  {
   "cell_type": "markdown",
   "metadata": {},
   "source": [
    "# Example "
   ]
  },
  {
   "cell_type": "code",
   "execution_count": 223,
   "metadata": {},
   "outputs": [],
   "source": [
    "def model(t,y,a,b):\n",
    "    dydt = 2*a*t + b\n",
    "#     dydt = t\n",
    "    return dydt"
   ]
  },
  {
   "cell_type": "code",
   "execution_count": 219,
   "metadata": {},
   "outputs": [],
   "source": [
    "y0 = 0.5"
   ]
  },
  {
   "cell_type": "code",
   "execution_count": 220,
   "metadata": {},
   "outputs": [],
   "source": [
    "t = np.linspace(-1,1,21)"
   ]
  },
  {
   "cell_type": "code",
   "execution_count": 2,
   "metadata": {},
   "outputs": [],
   "source": []
  },
  {
   "cell_type": "code",
   "execution_count": 212,
   "metadata": {},
   "outputs": [],
   "source": []
  },
  {
   "cell_type": "code",
   "execution_count": 216,
   "metadata": {},
   "outputs": [
    {
     "data": {
      "image/png": "[encoded data removed]",
      "text/plain": [
       "<Figure size 432x288 with 1 Axes>"
      ]
     },
     "metadata": {
      "needs_background": "light"
     },
     "output_type": "display_data"
    }
   ],
   "source": [
    "# sol = integrate.odeint(model, y0, t)\n",
    "# plt.plot(t, sol)\n",
    "# plt.show()"
   ]
  },
  {
   "cell_type": "code",
   "execution_count": 217,
   "metadata": {},
   "outputs": [],
   "source": [
    "from scipy import optimize"
   ]
  },
  {
   "cell_type": "code",
   "execution_count": 244,
   "metadata": {},
   "outputs": [],
   "source": [
    "def func(u):\n",
    "    x, y = u\n",
    "    return x**2 + y**2"
   ]
  },
  {
   "cell_type": "code",
   "execution_count": 245,
   "metadata": {},
   "outputs": [
    {
     "data": {
      "text/plain": [
       "      fun: 2.311471135620994e-16\n",
       " hess_inv: array([[ 0.75, -0.25],\n",
       "       [-0.25,  0.75]])\n",
       "      jac: array([-6.59986732e-09, -6.59986732e-09])\n",
       "  message: 'Optimization terminated successfully.'\n",
       "     nfev: 12\n",
       "      nit: 2\n",
       "     njev: 3\n",
       "   status: 0\n",
       "  success: True\n",
       "        x: array([-1.07505143e-08, -1.07505143e-08])"
      ]
     },
     "execution_count": 245,
     "metadata": {},
     "output_type": "execute_result"
    }
   ],
   "source": [
    "optimize.minimize(func, (1,1))"
   ]
  },
  {
   "cell_type": "code",
   "execution_count": 224,
   "metadata": {},
   "outputs": [
    {
     "data": {
      "image/png": "[encoded data removed]",
      "text/plain": [
       "<Figure size 432x288 with 1 Axes>"
      ]
     },
     "metadata": {
      "needs_background": "light"
     },
     "output_type": "display_data"
    }
   ],
   "source": [
    "sol = integrate.solve_ivp(model, [-1,1], [0.5], t_eval = t, args = (1,1))\n",
    "plt.plot(sol.t, sol.y[0])\n",
    "plt.show()"
   ]
  },
  {
   "cell_type": "code",
   "execution_count": null,
   "metadata": {},
   "outputs": [],
   "source": [
    "optimize.minimize()"
   ]
  },
  {
   "cell_type": "code",
   "execution_count": 63,
   "metadata": {},
   "outputs": [
    {
     "data": {
      "text/plain": [
       "[<matplotlib.lines.Line2D at 0x27981b78d88>]"
      ]
     },
     "execution_count": 63,
     "metadata": {},
     "output_type": "execute_result"
    },
    {
     "data": {
      "image/png": "[encoded data removed]",
      "text/plain": [
       "<Figure size 432x288 with 1 Axes>"
      ]
     },
     "metadata": {
      "needs_background": "light"
     },
     "output_type": "display_data"
    }
   ],
   "source": [
    "plt.plot(t,np.exp(t))"
   ]
  },
  {
   "cell_type": "code",
   "execution_count": 40,
   "metadata": {},
   "outputs": [],
   "source": [
    "from scipy import optimize"
   ]
  },
  {
   "cell_type": "code",
   "execution_count": 41,
   "metadata": {},
   "outputs": [],
   "source": [
    "def f(x,a,b,c):\n",
    "    return a*x**2 + b*x + c"
   ]
  },
  {
   "cell_type": "code",
   "execution_count": 49,
   "metadata": {},
   "outputs": [
    {
     "data": {
      "text/plain": [
       "      fun: array([1.])\n",
       " hess_inv: array([[1]])\n",
       "      jac: array([1.49011612e-08])\n",
       "  message: 'Optimization terminated successfully.'\n",
       "     nfev: 3\n",
       "      nit: 0\n",
       "     njev: 1\n",
       "   status: 0\n",
       "  success: True\n",
       "        x: array([0.])"
      ]
     },
     "execution_count": 49,
     "metadata": {},
     "output_type": "execute_result"
    }
   ],
   "source": [
    "optimize.minimize(f, x0 = 0, args = (1,0,1))"
   ]
  },
  {
   "cell_type": "code",
   "execution_count": null,
   "metadata": {},
   "outputs": [],
   "source": []
  }
 ],
 "metadata": {
  "kernelspec": {
   "display_name": "Python 3",
   "language": "python",
   "name": "python3"
  },
  "language_info": {
   "codemirror_mode": {
    "name": "ipython",
    "version": 3
   },
   "file_extension": ".py",
   "mimetype": "text/x-python",
   "name": "python",
   "nbconvert_exporter": "python",
   "pygments_lexer": "ipython3",
   "version": "3.7.6"
  }
 },
 "nbformat": 4,
 "nbformat_minor": 4
}
